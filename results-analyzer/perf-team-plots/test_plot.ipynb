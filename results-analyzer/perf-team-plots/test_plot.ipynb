{
 "cells": [
  {
   "cell_type": "code",
   "execution_count": null,
   "outputs": [],
   "source": [
    "import matplotlib.pyplot as plt1\n",
    "\n",
    "throughput =[5.005531, 5.005731, 5.005909]#[2.366552, 5.005531, 5.005731, 5.005909]\n",
    "p50 = [2.894, 2.884, 2.966]#[0, 2.894, 2.884, 2.966]\n",
    "p95 = [3.984, 3.991, 3.979]#[0, 3.984, 3.991, 3.979]\n",
    "p99 = [4.142, 4.162, 4.141]#[0, 4.142, 4.162, 4.141]\n",
    "e2e_p50 = [8, 3, 10]#[0, 8, 3, 10]\n",
    "e2e_p95 = [13, 5, 15]#[0, 13, 5, 15]\n",
    "e2e_p99 = [14, 8, 16]#[0, 14, 8, 16]\n",
    "plt1.plot(throughput, p50,'-ob', label='p50')\n",
    "plt1.plot(throughput, p95,'-og', label='p95')\n",
    "plt1.plot(throughput, p99,'-or', label='p99')\n",
    "plt1.plot(throughput, e2e_p50,'-om', label='e2e_p50')\n",
    "plt1.plot(throughput, e2e_p95,'-oc', label='e2e_p95')\n",
    "plt1.plot(throughput, e2e_p99,'-ok', label='e2e_p99')\n",
    "plt1.legend()\n",
    "\n",
    "plt1.title('Message Size 100b')\n",
    "plt1.xlabel('Publish Throughput (MB/s)')\n",
    "plt1.ylabel('Publish Latency (ms)')"
   ],
   "metadata": {
    "collapsed": false,
    "pycharm": {
     "name": "#%%\n"
    }
   }
  },
  {
   "cell_type": "code",
   "execution_count": null,
   "outputs": [],
   "source": [
    "\n"
   ],
   "metadata": {
    "collapsed": false,
    "pycharm": {
     "name": "#%%\n"
    }
   }
  }
 ],
 "metadata": {
  "kernelspec": {
   "display_name": "${KERNEL_SPEC_DISPLAY_NAME}",
   "language": "${KERNEL_SPEC_LANGUAGE}",
   "name": "${KERNEL_SPEC_NAME}"
  },
  "language_info": {
   "codemirror_mode": {
    "name": "ipython",
    "version": 2
   },
   "file_extension": ".py",
   "mimetype": "text/x-python",
   "name": "python",
   "nbconvert_exporter": "python",
   "pygments_lexer": "ipython2",
   "version": "2.7.6"
  },
  "pycharm": {
   "stem_cell": {
    "cell_type": "raw",
    "source": [],
    "metadata": {
     "collapsed": false
    }
   }
  }
 },
 "nbformat": 4,
 "nbformat_minor": 0
}