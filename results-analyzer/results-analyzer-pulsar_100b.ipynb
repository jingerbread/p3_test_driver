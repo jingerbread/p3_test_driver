{
 "cells": [
  {
   "cell_type": "code",
   "execution_count": 3,
   "metadata": {
    "pycharm": {
     "is_executing": true
    }
   },
   "outputs": [
    {
     "name": "stdout",
     "output_type": "stream",
     "text": [
      "Requirement already satisfied: p3_data in c:\\dell_emc\\nautilus\\development\\pravega\\fork-p3_test_driver\\venv\\lib\\site-packages (2.0.2)\n",
      "Requirement already satisfied: PyYaml in c:\\dell_emc\\nautilus\\development\\pravega\\fork-p3_test_driver\\venv\\lib\\site-packages (from p3_data) (5.3.1)\n",
      "Requirement already satisfied: numpy in c:\\dell_emc\\nautilus\\development\\pravega\\fork-p3_test_driver\\venv\\lib\\site-packages (from p3_data) (1.18.2)\n",
      "Requirement already satisfied: scipy in c:\\dell_emc\\nautilus\\development\\pravega\\fork-p3_test_driver\\venv\\lib\\site-packages (from p3_data) (1.4.1)\n",
      "Requirement already satisfied: sklearn in c:\\dell_emc\\nautilus\\development\\pravega\\fork-p3_test_driver\\venv\\lib\\site-packages (from p3_data) (0.0)\n",
      "Requirement already satisfied: matplotlib in c:\\dell_emc\\nautilus\\development\\pravega\\fork-p3_test_driver\\venv\\lib\\site-packages (from p3_data) (3.2.1)\n",
      "Requirement already satisfied: pandas in c:\\dell_emc\\nautilus\\development\\pravega\\fork-p3_test_driver\\venv\\lib\\site-packages (from p3_data) (1.0.3)\n",
      "Requirement already satisfied: ipywidgets in c:\\dell_emc\\nautilus\\development\\pravega\\fork-p3_test_driver\\venv\\lib\\site-packages (from p3_data) (7.5.1)\n",
      "Requirement already satisfied: IPython in c:\\dell_emc\\nautilus\\development\\pravega\\fork-p3_test_driver\\venv\\lib\\site-packages (from p3_data) (7.13.0)\n",
      "Requirement already satisfied: six in c:\\dell_emc\\nautilus\\development\\pravega\\fork-p3_test_driver\\venv\\lib\\site-packages (from p3_data) (1.14.0)\n",
      "Requirement already satisfied: scikit-learn in c:\\dell_emc\\nautilus\\development\\pravega\\fork-p3_test_driver\\venv\\lib\\site-packages (from sklearn->p3_data) (0.22.2.post1)\n",
      "Requirement already satisfied: kiwisolver>=1.0.1 in c:\\dell_emc\\nautilus\\development\\pravega\\fork-p3_test_driver\\venv\\lib\\site-packages (from matplotlib->p3_data) (1.1.0)\n",
      "Requirement already satisfied: python-dateutil>=2.1 in c:\\dell_emc\\nautilus\\development\\pravega\\fork-p3_test_driver\\venv\\lib\\site-packages (from matplotlib->p3_data) (2.8.1)\n",
      "Requirement already satisfied: cycler>=0.10 in c:\\dell_emc\\nautilus\\development\\pravega\\fork-p3_test_driver\\venv\\lib\\site-packages (from matplotlib->p3_data) (0.10.0)\n",
      "Requirement already satisfied: pyparsing!=2.0.4,!=2.1.2,!=2.1.6,>=2.0.1 in c:\\dell_emc\\nautilus\\development\\pravega\\fork-p3_test_driver\\venv\\lib\\site-packages (from matplotlib->p3_data) (2.4.6)\n",
      "Requirement already satisfied: pytz>=2017.2 in c:\\dell_emc\\nautilus\\development\\pravega\\fork-p3_test_driver\\venv\\lib\\site-packages (from pandas->p3_data) (2019.3)\n",
      "Requirement already satisfied: nbformat>=4.2.0 in c:\\dell_emc\\nautilus\\development\\pravega\\fork-p3_test_driver\\venv\\lib\\site-packages (from ipywidgets->p3_data) (5.0.4)\n",
      "Requirement already satisfied: ipykernel>=4.5.1 in c:\\dell_emc\\nautilus\\development\\pravega\\fork-p3_test_driver\\venv\\lib\\site-packages (from ipywidgets->p3_data) (5.2.0)\n",
      "Requirement already satisfied: traitlets>=4.3.1 in c:\\dell_emc\\nautilus\\development\\pravega\\fork-p3_test_driver\\venv\\lib\\site-packages (from ipywidgets->p3_data) (4.3.3)\n",
      "Requirement already satisfied: widgetsnbextension~=3.5.0 in c:\\dell_emc\\nautilus\\development\\pravega\\fork-p3_test_driver\\venv\\lib\\site-packages (from ipywidgets->p3_data) (3.5.1)\n",
      "Requirement already satisfied: colorama; sys_platform == \"win32\" in c:\\dell_emc\\nautilus\\development\\pravega\\fork-p3_test_driver\\venv\\lib\\site-packages (from IPython->p3_data) (0.4.3)\n",
      "Requirement already satisfied: backcall in c:\\dell_emc\\nautilus\\development\\pravega\\fork-p3_test_driver\\venv\\lib\\site-packages (from IPython->p3_data) (0.1.0)\n",
      "Requirement already satisfied: prompt-toolkit!=3.0.0,!=3.0.1,<3.1.0,>=2.0.0 in c:\\dell_emc\\nautilus\\development\\pravega\\fork-p3_test_driver\\venv\\lib\\site-packages (from IPython->p3_data) (3.0.4)\n",
      "Requirement already satisfied: pygments in c:\\dell_emc\\nautilus\\development\\pravega\\fork-p3_test_driver\\venv\\lib\\site-packages (from IPython->p3_data) (2.6.1)\n",
      "Requirement already satisfied: decorator in c:\\dell_emc\\nautilus\\development\\pravega\\fork-p3_test_driver\\venv\\lib\\site-packages (from IPython->p3_data) (4.4.2)\n",
      "Requirement already satisfied: setuptools>=18.5 in c:\\dell_emc\\nautilus\\development\\pravega\\fork-p3_test_driver\\venv\\lib\\site-packages\\setuptools-40.8.0-py3.7.egg (from IPython->p3_data) (40.8.0)\n",
      "Requirement already satisfied: jedi>=0.10 in c:\\dell_emc\\nautilus\\development\\pravega\\fork-p3_test_driver\\venv\\lib\\site-packages (from IPython->p3_data) (0.16.0)\n",
      "Requirement already satisfied: pickleshare in c:\\dell_emc\\nautilus\\development\\pravega\\fork-p3_test_driver\\venv\\lib\\site-packages (from IPython->p3_data) (0.7.5)\n",
      "Requirement already satisfied: joblib>=0.11 in c:\\dell_emc\\nautilus\\development\\pravega\\fork-p3_test_driver\\venv\\lib\\site-packages (from scikit-learn->sklearn->p3_data) (0.14.1)\n",
      "Requirement already satisfied: jupyter-core in c:\\dell_emc\\nautilus\\development\\pravega\\fork-p3_test_driver\\venv\\lib\\site-packages (from nbformat>=4.2.0->ipywidgets->p3_data) (4.6.3)\n",
      "Requirement already satisfied: jsonschema!=2.5.0,>=2.4 in c:\\dell_emc\\nautilus\\development\\pravega\\fork-p3_test_driver\\venv\\lib\\site-packages (from nbformat>=4.2.0->ipywidgets->p3_data) (3.2.0)\n",
      "Requirement already satisfied: ipython-genutils in c:\\dell_emc\\nautilus\\development\\pravega\\fork-p3_test_driver\\venv\\lib\\site-packages (from nbformat>=4.2.0->ipywidgets->p3_data) (0.2.0)\n",
      "Requirement already satisfied: tornado>=4.2 in c:\\dell_emc\\nautilus\\development\\pravega\\fork-p3_test_driver\\venv\\lib\\site-packages (from ipykernel>=4.5.1->ipywidgets->p3_data) (6.0.4)\n",
      "Requirement already satisfied: jupyter-client in c:\\dell_emc\\nautilus\\development\\pravega\\fork-p3_test_driver\\venv\\lib\\site-packages (from ipykernel>=4.5.1->ipywidgets->p3_data) (6.1.0)\n",
      "Requirement already satisfied: notebook>=4.4.1 in c:\\dell_emc\\nautilus\\development\\pravega\\fork-p3_test_driver\\venv\\lib\\site-packages (from widgetsnbextension~=3.5.0->ipywidgets->p3_data) (6.0.3)\n",
      "Requirement already satisfied: wcwidth in c:\\dell_emc\\nautilus\\development\\pravega\\fork-p3_test_driver\\venv\\lib\\site-packages (from prompt-toolkit!=3.0.0,!=3.0.1,<3.1.0,>=2.0.0->IPython->p3_data) (0.1.9)\n",
      "Requirement already satisfied: parso>=0.5.2 in c:\\dell_emc\\nautilus\\development\\pravega\\fork-p3_test_driver\\venv\\lib\\site-packages (from jedi>=0.10->IPython->p3_data) (0.6.2)\n",
      "Requirement already satisfied: pywin32>=1.0; sys_platform == \"win32\" in c:\\dell_emc\\nautilus\\development\\pravega\\fork-p3_test_driver\\venv\\lib\\site-packages (from jupyter-core->nbformat>=4.2.0->ipywidgets->p3_data) (227)\n",
      "Requirement already satisfied: pyrsistent>=0.14.0 in c:\\dell_emc\\nautilus\\development\\pravega\\fork-p3_test_driver\\venv\\lib\\site-packages (from jsonschema!=2.5.0,>=2.4->nbformat>=4.2.0->ipywidgets->p3_data) (0.15.7)\n",
      "Requirement already satisfied: attrs>=17.4.0 in c:\\dell_emc\\nautilus\\development\\pravega\\fork-p3_test_driver\\venv\\lib\\site-packages (from jsonschema!=2.5.0,>=2.4->nbformat>=4.2.0->ipywidgets->p3_data) (19.3.0)\n",
      "Requirement already satisfied: importlib-metadata; python_version < \"3.8\" in c:\\dell_emc\\nautilus\\development\\pravega\\fork-p3_test_driver\\venv\\lib\\site-packages (from jsonschema!=2.5.0,>=2.4->nbformat>=4.2.0->ipywidgets->p3_data) (1.5.0)\n",
      "Requirement already satisfied: pyzmq>=13 in c:\\dell_emc\\nautilus\\development\\pravega\\fork-p3_test_driver\\venv\\lib\\site-packages (from jupyter-client->ipykernel>=4.5.1->ipywidgets->p3_data) (19.0.0)\n",
      "Requirement already satisfied: nbconvert in c:\\dell_emc\\nautilus\\development\\pravega\\fork-p3_test_driver\\venv\\lib\\site-packages (from notebook>=4.4.1->widgetsnbextension~=3.5.0->ipywidgets->p3_data) (5.6.1)\n",
      "Requirement already satisfied: prometheus-client in c:\\dell_emc\\nautilus\\development\\pravega\\fork-p3_test_driver\\venv\\lib\\site-packages (from notebook>=4.4.1->widgetsnbextension~=3.5.0->ipywidgets->p3_data) (0.7.1)\n",
      "Requirement already satisfied: terminado>=0.8.1 in c:\\dell_emc\\nautilus\\development\\pravega\\fork-p3_test_driver\\venv\\lib\\site-packages (from notebook>=4.4.1->widgetsnbextension~=3.5.0->ipywidgets->p3_data) (0.8.3)\n",
      "Requirement already satisfied: Send2Trash in c:\\dell_emc\\nautilus\\development\\pravega\\fork-p3_test_driver\\venv\\lib\\site-packages (from notebook>=4.4.1->widgetsnbextension~=3.5.0->ipywidgets->p3_data) (1.5.0)\n",
      "Requirement already satisfied: jinja2 in c:\\dell_emc\\nautilus\\development\\pravega\\fork-p3_test_driver\\venv\\lib\\site-packages (from notebook>=4.4.1->widgetsnbextension~=3.5.0->ipywidgets->p3_data) (2.11.1)\n",
      "Requirement already satisfied: zipp>=0.5 in c:\\dell_emc\\nautilus\\development\\pravega\\fork-p3_test_driver\\venv\\lib\\site-packages (from importlib-metadata; python_version < \"3.8\"->jsonschema!=2.5.0,>=2.4->nbformat>=4.2.0->ipywidgets->p3_data) (3.1.0)\n",
      "Requirement already satisfied: defusedxml in c:\\dell_emc\\nautilus\\development\\pravega\\fork-p3_test_driver\\venv\\lib\\site-packages (from nbconvert->notebook>=4.4.1->widgetsnbextension~=3.5.0->ipywidgets->p3_data) (0.6.0)\n",
      "Requirement already satisfied: pandocfilters>=1.4.1 in c:\\dell_emc\\nautilus\\development\\pravega\\fork-p3_test_driver\\venv\\lib\\site-packages (from nbconvert->notebook>=4.4.1->widgetsnbextension~=3.5.0->ipywidgets->p3_data) (1.4.2)\n",
      "Requirement already satisfied: mistune<2,>=0.8.1 in c:\\dell_emc\\nautilus\\development\\pravega\\fork-p3_test_driver\\venv\\lib\\site-packages (from nbconvert->notebook>=4.4.1->widgetsnbextension~=3.5.0->ipywidgets->p3_data) (0.8.4)\n",
      "Requirement already satisfied: testpath in c:\\dell_emc\\nautilus\\development\\pravega\\fork-p3_test_driver\\venv\\lib\\site-packages (from nbconvert->notebook>=4.4.1->widgetsnbextension~=3.5.0->ipywidgets->p3_data) (0.4.4)\n",
      "Requirement already satisfied: entrypoints>=0.2.2 in c:\\dell_emc\\nautilus\\development\\pravega\\fork-p3_test_driver\\venv\\lib\\site-packages (from nbconvert->notebook>=4.4.1->widgetsnbextension~=3.5.0->ipywidgets->p3_data) (0.3)\n",
      "Requirement already satisfied: bleach in c:\\dell_emc\\nautilus\\development\\pravega\\fork-p3_test_driver\\venv\\lib\\site-packages (from nbconvert->notebook>=4.4.1->widgetsnbextension~=3.5.0->ipywidgets->p3_data) (3.1.3)\n",
      "Requirement already satisfied: pywinpty>=0.5; os_name == \"nt\" in c:\\dell_emc\\nautilus\\development\\pravega\\fork-p3_test_driver\\venv\\lib\\site-packages (from terminado>=0.8.1->notebook>=4.4.1->widgetsnbextension~=3.5.0->ipywidgets->p3_data) (0.5.7)\n",
      "Requirement already satisfied: MarkupSafe>=0.23 in c:\\dell_emc\\nautilus\\development\\pravega\\fork-p3_test_driver\\venv\\lib\\site-packages (from jinja2->notebook>=4.4.1->widgetsnbextension~=3.5.0->ipywidgets->p3_data) (1.1.1)\n",
      "Requirement already satisfied: webencodings in c:\\dell_emc\\nautilus\\development\\pravega\\fork-p3_test_driver\\venv\\lib\\site-packages (from bleach->nbconvert->notebook>=4.4.1->widgetsnbextension~=3.5.0->ipywidgets->p3_data) (0.5.1)\n"
     ]
    }
   ],
   "source": [
    "!pip install p3_data"
   ]
  },
  {
   "cell_type": "code",
   "execution_count": 4,
   "metadata": {},
   "outputs": [
    {
     "ename": "ModuleNotFoundError",
     "evalue": "No module named 'seaborn'",
     "output_type": "error",
     "traceback": [
      "\u001b[1;31m---------------------------------------------------------------------------\u001b[0m",
      "\u001b[1;31mModuleNotFoundError\u001b[0m                       Traceback (most recent call last)",
      "\u001b[1;32m<ipython-input-4-e84d8f488fda>\u001b[0m in \u001b[0;36m<module>\u001b[1;34m\u001b[0m\n\u001b[0;32m      6\u001b[0m \u001b[1;32mimport\u001b[0m \u001b[0mmatplotlib\u001b[0m\u001b[1;33m.\u001b[0m\u001b[0mdates\u001b[0m \u001b[1;32mas\u001b[0m \u001b[0mmdates\u001b[0m\u001b[1;33m\u001b[0m\u001b[1;33m\u001b[0m\u001b[0m\n\u001b[0;32m      7\u001b[0m \u001b[1;32mimport\u001b[0m \u001b[0mmatplotlib\u001b[0m\u001b[1;33m.\u001b[0m\u001b[0mcm\u001b[0m \u001b[1;32mas\u001b[0m \u001b[0mcm\u001b[0m\u001b[1;33m\u001b[0m\u001b[1;33m\u001b[0m\u001b[0m\n\u001b[1;32m----> 8\u001b[1;33m \u001b[1;32mimport\u001b[0m \u001b[0mseaborn\u001b[0m \u001b[1;32mas\u001b[0m \u001b[0msns\u001b[0m\u001b[1;33m\u001b[0m\u001b[1;33m\u001b[0m\u001b[0m\n\u001b[0m\u001b[0;32m      9\u001b[0m \u001b[1;32mimport\u001b[0m \u001b[0mjson\u001b[0m\u001b[1;33m\u001b[0m\u001b[1;33m\u001b[0m\u001b[0m\n\u001b[0;32m     10\u001b[0m \u001b[1;32mfrom\u001b[0m \u001b[0mio\u001b[0m \u001b[1;32mimport\u001b[0m \u001b[0mStringIO\u001b[0m\u001b[1;33m\u001b[0m\u001b[1;33m\u001b[0m\u001b[0m\n",
      "\u001b[1;31mModuleNotFoundError\u001b[0m: No module named 'seaborn'"
     ]
    }
   ],
   "source": [
    "%matplotlib inline\n",
    "import pandas as pd\n",
    "import numpy as np\n",
    "import matplotlib\n",
    "import matplotlib.pylab as plt\n",
    "import matplotlib.dates as mdates\n",
    "import matplotlib.cm as cm\n",
    "import seaborn as sns\n",
    "import json\n",
    "from io import StringIO\n",
    "import importlib"
   ]
  },
  {
   "cell_type": "code",
   "execution_count": null,
   "metadata": {},
   "outputs": [],
   "source": [
    "import p3_data\n",
    "from p3_data import (glob_file_list , load_json_from_file, merge_dicts, plot_groups, \n",
    "    get_varying_column_names, filter_dataframe, take_varying_columns,\n",
    "    load_json_records_as_dataframe)"
   ]
  },
  {
   "cell_type": "code",
   "execution_count": null,
   "metadata": {},
   "outputs": [],
   "source": [
    "src_files = []\n",
    "src_files += ['../data/results/json/*.json']\n",
    "raw_df = load_json_records_as_dataframe(src=src_files, ignore_error=True)"
   ]
  },
  {
   "cell_type": "code",
   "execution_count": null,
   "metadata": {},
   "outputs": [],
   "source": [
    "def clean_result(result):\n",
    "    try:\n",
    "        r = result.copy()\n",
    "        r['driverName'] = r['driver']['name']\n",
    "        if r['driverName'] == 'Pulsar':\n",
    "            r = merge_dicts(r, r['driver']['client']['persistence'])\n",
    "        r = merge_dicts(r, r['workload'])\n",
    "        del r['workload']\n",
    "        r = merge_dicts(r, r['omb_results'])\n",
    "        for k in list(r.keys()):\n",
    "            if 'Quantiles' in k:\n",
    "                r[k] = pd.Series(data=[float(q) for q in r[k].keys()], index=list(r[k].values())).sort_index() / 100\n",
    "            elif isinstance(r[k], list) and 'Rate' in k:\n",
    "                r[k] = pd.Series(r[k])\n",
    "                r['%sMean' % k] = r[k].mean()\n",
    "        r['numWorkloadWorkers'] = int(r.get('numWorkers', 0))\n",
    "        r['throttleEventsPerSec'] = r['producerRate']\n",
    "        r['publishRateEventsPerSecMean'] = r['publishRateMean']\n",
    "        r['publishRateMBPerSecMean'] = r['publishRateMean'] * r['messageSize'] * 1e-6\n",
    "        r['publishLatencyMsAvg'] = r['aggregatedPublishLatencyAvg']\n",
    "        r['publishLatencyMs99Pct'] = r['aggregatedPublishLatency99pct']\n",
    "        r['endToEndLatencyMsAvg'] = r['aggregatedEndToEndLatencyAvg']\n",
    "        r['endToEndLatencyMs99Pct'] = r['aggregatedEndToEndLatency99pct']\n",
    "        return pd.Series(r)\n",
    "    except Exception as e:\n",
    "        print('ERROR: %s: %s' % (r['test_uuid'], e))\n",
    "r = clean_result(raw_df.iloc[0])\n",
    "pd.DataFrame(r)"
   ]
  },
  {
   "cell_type": "code",
   "execution_count": null,
   "metadata": {},
   "outputs": [],
   "source": [
    "clean_df = raw_df.apply(clean_result, axis=1)\n",
    "clean_df = clean_df.set_index('test_uuid', drop=False)\n",
    "clean_df = clean_df[clean_df.error==False]\n",
    "clean_df = clean_df.sort_values(['utc_begin'])"
   ]
  },
  {
   "cell_type": "code",
   "execution_count": null,
   "metadata": {},
   "outputs": [],
   "source": [
    "clean_df.columns.values"
   ]
  },
  {
   "cell_type": "code",
   "execution_count": null,
   "metadata": {},
   "outputs": [],
   "source": [
    "info_cols = [\n",
    "    'numWorkers',\n",
    "    'topics',\n",
    "    'partitionsPerTopic',\n",
    "    'producersPerTopic',\n",
    "    'subscriptionsPerTopic',\n",
    "    'consumerPerSubscription',\n",
    "    'testDurationMinutes',\n",
    "    'keyDistributor',\n",
    "    'git_commit',\n",
    "]"
   ]
  },
  {
   "cell_type": "code",
   "execution_count": null,
   "metadata": {},
   "outputs": [],
   "source": [
    "cols = [\n",
    "    'messageSize',\n",
    "    'numWorkloadWorkers',\n",
    "    'producersPerTopic',\n",
    "    'partitionsPerTopic',\n",
    "    'testDurationMinutes',\n",
    "    'subscriptionsPerTopic',\n",
    "    'consumerPerSubscription',\n",
    "    'ackQuorum',\n",
    "    'throttleEventsPerSec',\n",
    "    #'deduplicationEnabled',\n",
    "    'publishRateEventsPerSecMean',\n",
    "    'publishRateMBPerSecMean',\n",
    "    'publishLatencyMsAvg',\n",
    "    'publishLatencyMs99Pct',\n",
    "    'endToEndLatencyMsAvg',\n",
    "    'endToEndLatencyMs99Pct',\n",
    "    'utc_begin',\n",
    "]"
   ]
  },
  {
   "cell_type": "code",
   "execution_count": null,
   "metadata": {},
   "outputs": [],
   "source": [
    "clean_df[cols].tail(4).T  # todo: number of tests"
   ]
  },
  {
   "cell_type": "code",
   "execution_count": null,
   "metadata": {},
   "outputs": [],
   "source": [
    "#clean_df[cols].to_csv('openmessaging-benchmark-results.csv')"
   ]
  },
  {
   "cell_type": "code",
   "execution_count": null,
   "metadata": {},
   "outputs": [],
   "source": [
    "df = clean_df[cols]\n",
    "df = df.sort_values(['messageSize','numWorkloadWorkers','producersPerTopic','throttleEventsPerSec','utc_begin'])\n",
    "df.head()"
   ]
  },
  {
   "cell_type": "code",
   "execution_count": null,
   "metadata": {},
   "outputs": [],
   "source": [
    "messageSize = 100 # todo should be found automatically\n",
    "filt_df = filter_dataframe(\n",
    "    clean_df,\n",
    "    driverName='Pulsar',\n",
    "    messageSize=messageSize, \n",
    "#     producerRate=5e4,\n",
    "    numWorkloadWorkers=4, \n",
    "    producersPerTopic=1,\n",
    "    partitionsPerTopic=16,\n",
    "    deduplicationEnabled=True,\n",
    "    testDurationMinutes=2,    \n",
    ")\n",
    "filt_df[cols].sort_values(['publishRateMBPerSecMean'], ascending=False).head(20)"
   ]
  },
  {
   "cell_type": "code",
   "execution_count": null,
   "metadata": {},
   "outputs": [],
   "source": [
    "take_varying_columns(filt_df[cols]).sort_values(['endToEndLatencyMs99Pct'], ascending=True).head(20)"
   ]
  },
  {
   "cell_type": "code",
   "execution_count": null,
   "metadata": {},
   "outputs": [],
   "source": [
    "plot_df = (filt_df\n",
    "    .set_index(['publishRateMBPerSecMean'])\n",
    "    .sort_index()\n",
    "    [[\n",
    "        'aggregatedPublishLatency50pct',\n",
    "        'aggregatedPublishLatency95pct',\n",
    "        'aggregatedPublishLatency99pct',\n",
    "        'aggregatedEndToEndLatency50pct',\n",
    "        'aggregatedEndToEndLatency95pct',\n",
    "        'aggregatedEndToEndLatency99pct',\n",
    "        'test_uuid',\n",
    "    ]]\n",
    "    .rename(columns=dict(\n",
    "        aggregatedPublishLatency50pct='Publish Latency p50',\n",
    "        aggregatedPublishLatency95pct='Publish Latency p95',\n",
    "        aggregatedPublishLatency99pct='Publish Latency p99',\n",
    "        aggregatedEndToEndLatency50pct='E2E Latency p50',\n",
    "        aggregatedEndToEndLatency95pct='E2E Latency p95',\n",
    "        aggregatedEndToEndLatency99pct='E2E Latency p99',\n",
    "    ))\n",
    "    )\n",
    "plot_df.index.name = 'Publish Throughput (MB/s)'\n",
    "plot_df"
   ]
  },
  {
   "cell_type": "code",
   "execution_count": null,
   "metadata": {},
   "outputs": [],
   "source": [
    "title = 'Message Size %db' % (messageSize)\n",
    "ax = plot_df.plot(\n",
    "    logx=True, \n",
    "    logy=True,\n",
    "    figsize=(10,8), \n",
    "    grid=True, \n",
    "    title=title, \n",
    "    style=['x:b','x-.b','x-b','+:r','+-.r','+-r'])\n",
    "ax.set_ylabel('Latency (ms)');\n",
    "tick_formatter = matplotlib.ticker.LogFormatter()\n",
    "ax.xaxis.set_major_formatter(tick_formatter)\n",
    "ax.yaxis.set_major_formatter(tick_formatter)\n",
    "ax.grid('on', which='both', axis='both')"
   ]
  },
  {
   "cell_type": "code",
   "execution_count": null,
   "metadata": {},
   "outputs": [],
   "source": [
    "filt_df[info_cols].drop_duplicates().T"
   ]
  },
  {
   "cell_type": "code",
   "execution_count": null,
   "metadata": {},
   "outputs": [],
   "source": [
    "# plot_groups(\n",
    "#     filt_df, \n",
    "#     x_col='publishRateEventsPerSecMean',\n",
    "#     y_col='publishLatencyMs99Pct',\n",
    "#     group_by_columns=['partitionsPerTopic', 'messageSize'],\n",
    "#     semilogx=True,\n",
    "# #     ylim=[0,100],\n",
    "# );"
   ]
  },
  {
   "cell_type": "markdown",
   "metadata": {},
   "source": [
    "# Analyze Latency Distribution"
   ]
  },
  {
   "cell_type": "code",
   "execution_count": null,
   "metadata": {},
   "outputs": [],
   "source": [
    "df = clean_df\n",
    "df = df[df.test_uuid=='ee1f6be0-a3aa-4085-a90e-0a76965e3388'] # todo\n",
    "t = df.iloc[0]\n",
    "t"
   ]
  },
  {
   "cell_type": "code",
   "execution_count": null,
   "metadata": {},
   "outputs": [],
   "source": [
    "# Cumulative Distribution Function\n",
    "pubcdf = t.aggregatedPublishLatencyQuantiles\n",
    "pubcdf.name = 'Publish Latency CDF'"
   ]
  },
  {
   "cell_type": "code",
   "execution_count": null,
   "metadata": {},
   "outputs": [],
   "source": [
    "# Probability Distribution Function (latency histogram)\n",
    "pubpdf = pd.Series(index=pubcdf.index, data=np.gradient(pubcdf, pubcdf.index.values), name='Publish Latency PDF')"
   ]
  },
  {
   "cell_type": "code",
   "execution_count": null,
   "metadata": {},
   "outputs": [],
   "source": [
    "fig0, ax0 = plt.subplots()\n",
    "ax1 = ax0.twinx()\n",
    "pubpdf.plot(ax=ax0, xlim=[1,100], ylim=[0,None], style='r', title='Publish Latency PDF and CDF')\n",
    "pubcdf.plot(ax=ax1, xlim=[1,100], secondary_y=True, logx=True, ylim=[0,1])\n",
    "# ax0.set_ylabel('PDF');\n",
    "# ax1.set_ylabel('CDF');\n",
    "ax0.set_xlabel('Publish Latency (ms)');\n",
    "tick_formatter = matplotlib.ticker.LogFormatter()\n",
    "ax0.xaxis.set_major_formatter(tick_formatter)\n",
    "ax0.grid('on', which='both', axis='both')\n",
    "plt.show()\n",
    "plt.close()"
   ]
  },
  {
   "cell_type": "code",
   "execution_count": null,
   "metadata": {},
   "outputs": [],
   "source": [
    "# Cumulative Distribution Function\n",
    "e2ecdf = t.aggregatedEndToEndLatencyQuantiles\n",
    "e2ecdf.name = 'E2E Latency CDF'\n",
    "# Probability Distribution Function (latency histogram)\n",
    "e2epdf = pd.Series(index=e2ecdf.index, data=np.gradient(e2ecdf, e2ecdf.index.values), name='E2E Latency PDF')"
   ]
  },
  {
   "cell_type": "code",
   "execution_count": null,
   "metadata": {},
   "outputs": [],
   "source": [
    "fig0, ax0 = plt.subplots()\n",
    "ax1 = ax0.twinx()\n",
    "e2epdf.plot(ax=ax0, xlim=[1,100], ylim=[0,None], style='r', title='E2E Latency PDF and CDF')\n",
    "e2ecdf.plot(ax=ax1, xlim=[1,100], secondary_y=True, logx=True, ylim=[0,1])\n",
    "# ax0.set_ylabel('PDF');\n",
    "# ax1.set_ylabel('CDF');\n",
    "ax0.set_xlabel('E2E Latency (ms)');\n",
    "tick_formatter = matplotlib.ticker.LogFormatter()\n",
    "ax0.xaxis.set_major_formatter(tick_formatter)\n",
    "ax0.grid('on', which='both', axis='both')\n",
    "plt.show()\n",
    "plt.close()"
   ]
  },
  {
   "cell_type": "code",
   "execution_count": null,
   "metadata": {},
   "outputs": [],
   "source": [
    "fig0, ax0 = plt.subplots()\n",
    "xlim=[1,25]\n",
    "pubcdf.plot(ax=ax0, xlim=xlim, logx=True, ylim=[0,1], legend=True, figsize=(10,8))\n",
    "e2ecdf.plot(ax=ax0, xlim=xlim, logx=True, ylim=[0,1], legend=True)\n",
    "ax0.set_xlabel('E2E Latency (ms)');\n",
    "tick_formatter = matplotlib.ticker.LogFormatter()\n",
    "ax0.xaxis.set_major_formatter(tick_formatter)\n",
    "ax0.grid('on', which='both', axis='both')\n",
    "plt.show()\n",
    "plt.close()"
   ]
  },
  {
   "cell_type": "code",
   "execution_count": null,
   "metadata": {},
   "outputs": [],
   "source": []
  },
  {
   "cell_type": "code",
   "execution_count": null,
   "metadata": {},
   "outputs": [],
   "source": []
  },
  {
   "cell_type": "code",
   "execution_count": null,
   "metadata": {},
   "outputs": [],
   "source": []
  }
 ],
 "metadata": {
  "kernelspec": {
   "display_name": "Python 3",
   "language": "python",
   "name": "python3"
  },
  "language_info": {
   "codemirror_mode": {
    "name": "ipython",
    "version": 3
   },
   "file_extension": ".py",
   "mimetype": "text/x-python",
   "name": "python",
   "nbconvert_exporter": "python",
   "pygments_lexer": "ipython3",
   "version": "3.7.7"
  },
  "pycharm": {
   "stem_cell": {
    "cell_type": "raw",
    "source": [],
    "metadata": {
     "collapsed": false
    }
   }
  }
 },
 "nbformat": 4,
 "nbformat_minor": 4
}