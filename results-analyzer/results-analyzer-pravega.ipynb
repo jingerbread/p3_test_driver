{
 "cells": [
  {
   "cell_type": "code",
   "execution_count": 1,
   "metadata": {},
   "outputs": [
    {
     "name": "stdout",
     "output_type": "stream",
     "text": [
      "Requirement already satisfied: p3_data in /opt/conda/lib/python3.7/site-packages (2.0.2)\n",
      "Requirement already satisfied: pandas in /opt/conda/lib/python3.7/site-packages (from p3_data) (0.25.1)\n",
      "Requirement already satisfied: six in /opt/conda/lib/python3.7/site-packages (from p3_data) (1.12.0)\n",
      "Requirement already satisfied: numpy in /opt/conda/lib/python3.7/site-packages (from p3_data) (1.17.2)\n",
      "Requirement already satisfied: ipywidgets in /opt/conda/lib/python3.7/site-packages (from p3_data) (7.5.1)\n",
      "Requirement already satisfied: IPython in /opt/conda/lib/python3.7/site-packages (from p3_data) (7.8.0)\n",
      "Requirement already satisfied: PyYaml in /opt/conda/lib/python3.7/site-packages (from p3_data) (5.1.2)\n",
      "Requirement already satisfied: sklearn in /opt/conda/lib/python3.7/site-packages (from p3_data) (0.0)\n",
      "Requirement already satisfied: matplotlib in /opt/conda/lib/python3.7/site-packages (from p3_data) (3.1.1)\n",
      "Requirement already satisfied: scipy in /opt/conda/lib/python3.7/site-packages (from p3_data) (1.3.1)\n",
      "Requirement already satisfied: python-dateutil>=2.6.1 in /opt/conda/lib/python3.7/site-packages (from pandas->p3_data) (2.8.0)\n",
      "Requirement already satisfied: pytz>=2017.2 in /opt/conda/lib/python3.7/site-packages (from pandas->p3_data) (2019.2)\n",
      "Requirement already satisfied: traitlets>=4.3.1 in /opt/conda/lib/python3.7/site-packages (from ipywidgets->p3_data) (4.3.2)\n",
      "Requirement already satisfied: nbformat>=4.2.0 in /opt/conda/lib/python3.7/site-packages (from ipywidgets->p3_data) (4.4.0)\n",
      "Requirement already satisfied: ipykernel>=4.5.1 in /opt/conda/lib/python3.7/site-packages (from ipywidgets->p3_data) (5.1.2)\n",
      "Requirement already satisfied: widgetsnbextension~=3.5.0 in /opt/conda/lib/python3.7/site-packages (from ipywidgets->p3_data) (3.5.1)\n",
      "Requirement already satisfied: prompt-toolkit<2.1.0,>=2.0.0 in /opt/conda/lib/python3.7/site-packages (from IPython->p3_data) (2.0.9)\n",
      "Requirement already satisfied: decorator in /opt/conda/lib/python3.7/site-packages (from IPython->p3_data) (4.4.0)\n",
      "Requirement already satisfied: backcall in /opt/conda/lib/python3.7/site-packages (from IPython->p3_data) (0.1.0)\n",
      "Requirement already satisfied: jedi>=0.10 in /opt/conda/lib/python3.7/site-packages (from IPython->p3_data) (0.15.1)\n",
      "Requirement already satisfied: pygments in /opt/conda/lib/python3.7/site-packages (from IPython->p3_data) (2.4.2)\n",
      "Requirement already satisfied: pexpect; sys_platform != \"win32\" in /opt/conda/lib/python3.7/site-packages (from IPython->p3_data) (4.7.0)\n",
      "Requirement already satisfied: setuptools>=18.5 in /opt/conda/lib/python3.7/site-packages (from IPython->p3_data) (41.0.1)\n",
      "Requirement already satisfied: pickleshare in /opt/conda/lib/python3.7/site-packages (from IPython->p3_data) (0.7.5)\n",
      "Requirement already satisfied: scikit-learn in /opt/conda/lib/python3.7/site-packages (from sklearn->p3_data) (0.21.3)\n",
      "Requirement already satisfied: kiwisolver>=1.0.1 in /opt/conda/lib/python3.7/site-packages (from matplotlib->p3_data) (1.1.0)\n",
      "Requirement already satisfied: cycler>=0.10 in /opt/conda/lib/python3.7/site-packages (from matplotlib->p3_data) (0.10.0)\n",
      "Requirement already satisfied: pyparsing!=2.0.4,!=2.1.2,!=2.1.6,>=2.0.1 in /opt/conda/lib/python3.7/site-packages (from matplotlib->p3_data) (2.4.2)\n",
      "Requirement already satisfied: ipython_genutils in /opt/conda/lib/python3.7/site-packages (from traitlets>=4.3.1->ipywidgets->p3_data) (0.2.0)\n",
      "Requirement already satisfied: jsonschema!=2.5.0,>=2.4 in /opt/conda/lib/python3.7/site-packages (from nbformat>=4.2.0->ipywidgets->p3_data) (3.0.2)\n",
      "Requirement already satisfied: jupyter_core in /opt/conda/lib/python3.7/site-packages (from nbformat>=4.2.0->ipywidgets->p3_data) (4.4.0)\n",
      "Requirement already satisfied: tornado>=4.2 in /opt/conda/lib/python3.7/site-packages (from ipykernel>=4.5.1->ipywidgets->p3_data) (6.0.3)\n",
      "Requirement already satisfied: jupyter-client in /opt/conda/lib/python3.7/site-packages (from ipykernel>=4.5.1->ipywidgets->p3_data) (5.3.1)\n",
      "Requirement already satisfied: notebook>=4.4.1 in /opt/conda/lib/python3.7/site-packages (from widgetsnbextension~=3.5.0->ipywidgets->p3_data) (6.0.0)\n",
      "Requirement already satisfied: wcwidth in /opt/conda/lib/python3.7/site-packages (from prompt-toolkit<2.1.0,>=2.0.0->IPython->p3_data) (0.1.7)\n",
      "Requirement already satisfied: parso>=0.5.0 in /opt/conda/lib/python3.7/site-packages (from jedi>=0.10->IPython->p3_data) (0.5.1)\n",
      "Requirement already satisfied: ptyprocess>=0.5 in /opt/conda/lib/python3.7/site-packages (from pexpect; sys_platform != \"win32\"->IPython->p3_data) (0.6.0)\n",
      "Requirement already satisfied: joblib>=0.11 in /opt/conda/lib/python3.7/site-packages (from scikit-learn->sklearn->p3_data) (0.13.2)\n",
      "Requirement already satisfied: pyrsistent>=0.14.0 in /opt/conda/lib/python3.7/site-packages (from jsonschema!=2.5.0,>=2.4->nbformat>=4.2.0->ipywidgets->p3_data) (0.15.4)\n",
      "Requirement already satisfied: attrs>=17.4.0 in /opt/conda/lib/python3.7/site-packages (from jsonschema!=2.5.0,>=2.4->nbformat>=4.2.0->ipywidgets->p3_data) (19.1.0)\n",
      "Requirement already satisfied: pyzmq>=13 in /opt/conda/lib/python3.7/site-packages (from jupyter-client->ipykernel>=4.5.1->ipywidgets->p3_data) (18.0.2)\n",
      "Requirement already satisfied: prometheus-client in /opt/conda/lib/python3.7/site-packages (from notebook>=4.4.1->widgetsnbextension~=3.5.0->ipywidgets->p3_data) (0.7.1)\n",
      "Requirement already satisfied: nbconvert in /opt/conda/lib/python3.7/site-packages (from notebook>=4.4.1->widgetsnbextension~=3.5.0->ipywidgets->p3_data) (5.6.0)\n",
      "Requirement already satisfied: terminado>=0.8.1 in /opt/conda/lib/python3.7/site-packages (from notebook>=4.4.1->widgetsnbextension~=3.5.0->ipywidgets->p3_data) (0.8.2)\n",
      "Requirement already satisfied: Send2Trash in /opt/conda/lib/python3.7/site-packages (from notebook>=4.4.1->widgetsnbextension~=3.5.0->ipywidgets->p3_data) (1.5.0)\n",
      "Requirement already satisfied: jinja2 in /opt/conda/lib/python3.7/site-packages (from notebook>=4.4.1->widgetsnbextension~=3.5.0->ipywidgets->p3_data) (2.10.1)\n",
      "Requirement already satisfied: mistune<2,>=0.8.1 in /opt/conda/lib/python3.7/site-packages (from nbconvert->notebook>=4.4.1->widgetsnbextension~=3.5.0->ipywidgets->p3_data) (0.8.4)\n",
      "Requirement already satisfied: pandocfilters>=1.4.1 in /opt/conda/lib/python3.7/site-packages (from nbconvert->notebook>=4.4.1->widgetsnbextension~=3.5.0->ipywidgets->p3_data) (1.4.2)\n",
      "Requirement already satisfied: defusedxml in /opt/conda/lib/python3.7/site-packages (from nbconvert->notebook>=4.4.1->widgetsnbextension~=3.5.0->ipywidgets->p3_data) (0.5.0)\n",
      "Requirement already satisfied: entrypoints>=0.2.2 in /opt/conda/lib/python3.7/site-packages (from nbconvert->notebook>=4.4.1->widgetsnbextension~=3.5.0->ipywidgets->p3_data) (0.3)\n",
      "Requirement already satisfied: bleach in /opt/conda/lib/python3.7/site-packages (from nbconvert->notebook>=4.4.1->widgetsnbextension~=3.5.0->ipywidgets->p3_data) (3.1.0)\n",
      "Requirement already satisfied: testpath in /opt/conda/lib/python3.7/site-packages (from nbconvert->notebook>=4.4.1->widgetsnbextension~=3.5.0->ipywidgets->p3_data) (0.4.2)\n",
      "Requirement already satisfied: MarkupSafe>=0.23 in /opt/conda/lib/python3.7/site-packages (from jinja2->notebook>=4.4.1->widgetsnbextension~=3.5.0->ipywidgets->p3_data) (1.1.1)\n",
      "Requirement already satisfied: webencodings in /opt/conda/lib/python3.7/site-packages (from bleach->nbconvert->notebook>=4.4.1->widgetsnbextension~=3.5.0->ipywidgets->p3_data) (0.5.1)\n"
     ]
    }
   ],
   "source": [
    "!pip install p3_data"
   ]
  },
  {
   "cell_type": "code",
   "execution_count": 2,
   "metadata": {},
   "outputs": [],
   "source": [
    "%matplotlib inline\n",
    "import pandas as pd\n",
    "import numpy as np\n",
    "import matplotlib\n",
    "import matplotlib.pylab as plt\n",
    "import matplotlib.dates as mdates\n",
    "import matplotlib.cm as cm\n",
    "import seaborn as sns\n",
    "import json\n",
    "from io import StringIO\n",
    "import importlib"
   ]
  },
  {
   "cell_type": "code",
   "execution_count": 3,
   "metadata": {},
   "outputs": [
    {
     "name": "stderr",
     "output_type": "stream",
     "text": [
      "/opt/conda/lib/python3.7/site-packages/sklearn/externals/joblib/__init__.py:15: DeprecationWarning: sklearn.externals.joblib is deprecated in 0.21 and will be removed in 0.23. Please import this functionality directly from joblib, which can be installed with: pip install joblib. If this warning is raised when loading pickled models, you may need to re-serialize those models with scikit-learn 0.21+.\n",
      "  warnings.warn(msg, category=DeprecationWarning)\n"
     ]
    }
   ],
   "source": [
    "import p3_data\n",
    "from p3_data import (glob_file_list, load_json_from_file, merge_dicts, plot_groups, \n",
    "    get_varying_column_names, filter_dataframe, take_varying_columns,\n",
    "    load_json_records_as_dataframe)"
   ]
  },
  {
   "cell_type": "code",
   "execution_count": 4,
   "metadata": {},
   "outputs": [
    {
     "name": "stdout",
     "output_type": "stream",
     "text": [
      "Loading records from 18 files...\n"
     ]
    }
   ],
   "source": [
    "# Load result files from P3 Test Driver\n",
    "src_files = []\n",
    "src_files += ['../../no_netty_comparison/low_cpu_18tests/low_cpu_18tests/p3_test_driver/results/*.json']\n",
    "#src_files += ['../../no_netty_comparison/data/p3_test_driver/results/*.json']\n",
    "raw_df = load_json_records_as_dataframe(src=src_files, ignore_error=True)"
   ]
  },
  {
   "cell_type": "code",
   "execution_count": 6,
   "metadata": {},
   "outputs": [],
   "source": [
    "# Clean raw results\n",
    "def clean_result(result):\n",
    "    try:\n",
    "        r = result.copy()\n",
    "        r['utc_begin'] = pd.to_datetime(r['utc_begin'], utc=True)\n",
    "        r['utc_end'] = pd.to_datetime(r['utc_end'], utc=True)\n",
    "        r['git_commit'] = r['git_commit'].split(' ')[0]\n",
    "        r['driverName'] = r['driver']['name']\n",
    "        if r['driverName'] == 'Pulsar':\n",
    "            r = merge_dicts(r, r['driver']['client']['persistence'])\n",
    "        r = merge_dicts(r, r['workload'])\n",
    "        del r['workload']\n",
    "        r = merge_dicts(r, r['omb_results'])\n",
    "        if 'ansible_vars' in r and isinstance(r['ansible_vars'], dict):\n",
    "            r = merge_dicts(r, r['ansible_vars'])\n",
    "        if r['driverName'] == 'Pravega':\n",
    "            if 'pravegaVersion' not in r:\n",
    "                r['pravegaVersion'] = '0.6.0-2361.f273314-SNAPSHOT'\n",
    "            r['pravegaVersion'] = r['pravegaVersion'].replace('-SNAPSHOT','')\n",
    "        for k in list(r.keys()):\n",
    "            if 'Quantiles' in k:\n",
    "                r[k] = pd.Series(data=[float(q) for q in r[k].keys()], index=list(r[k].values())).sort_index() / 100\n",
    "            elif isinstance(r[k], list) and 'Rate' in k:\n",
    "                r[k] = pd.Series(r[k])\n",
    "                r['%sMean' % k] = r[k].mean()\n",
    "        r['numWorkloadWorkers'] = int(r.get('numWorkers', 0))\n",
    "        r['throttleEventsPerSec'] = r['producerRate']\n",
    "        r['publishRateEventsPerSecMean'] = r['publishRateMean']\n",
    "        r['publishRateMBPerSecMean'] = r['publishRateMean'] * r['messageSize'] * 1e-6\n",
    "        r['publishLatencyMsAvg'] = r['aggregatedPublishLatencyAvg']\n",
    "        r['publishLatencyMs50Pct'] = r['aggregatedPublishLatency50pct']\n",
    "        r['publishLatencyMs99Pct'] = r['aggregatedPublishLatency99pct']\n",
    "        r['endToEndLatencyMsAvg'] = r['aggregatedEndToEndLatencyAvg']\n",
    "        r['endToEndLatencyMs50Pct'] = r['aggregatedEndToEndLatency50pct']\n",
    "        r['endToEndLatencyMs99Pct'] = r['aggregatedEndToEndLatency99pct']\n",
    "        return pd.Series(r)\n",
    "    except Exception as e:\n",
    "        print('ERROR: %s: %s' % (r['test_uuid'], e))\n",
    "        # raise e"
   ]
  },
  {
   "cell_type": "code",
   "execution_count": 7,
   "metadata": {},
   "outputs": [],
   "source": [
    "# r = clean_result(raw_df.iloc[-1])\n",
    "# pd.DataFrame(r)"
   ]
  },
  {
   "cell_type": "code",
   "execution_count": 8,
   "metadata": {},
   "outputs": [],
   "source": [
    "clean_df = raw_df.apply(clean_result, axis=1)\n",
    "clean_df = clean_df.set_index('test_uuid', drop=False)\n",
    "clean_df = clean_df[clean_df.error==False]\n",
    "clean_df = clean_df.sort_values(['utc_begin'])"
   ]
  },
  {
   "cell_type": "code",
   "execution_count": 9,
   "metadata": {},
   "outputs": [
    {
     "data": {
      "text/plain": [
       "array(['ansible', 'ansible_vars', 'aws-ec2', 'build', 'command_timed_out',\n",
       "       'docker', 'driver', 'elapsed_sec', 'error', 'errors', 'exit_code',\n",
       "       'git_commit', 'kubernetes', 'localWorker', 'max_test_attempts',\n",
       "       'noop', 'numWorkers', 'omb_results', 'omb_workers', 'output',\n",
       "       'print_output', 'record_utc', 'record_uuid', 'result_filename',\n",
       "       'run_as_test', 'sequence_in_test_batch', 'size_of_test_batch',\n",
       "       'ssh_host', 'ssh_identity_file', 'ssh_user', 'status_html',\n",
       "       'tarball', 'terraform', 'terraform_show', 'test', 'test_attempt',\n",
       "       'test_batch_uuid', 'test_desc', 'test_driver_log_filename',\n",
       "       'test_driver_version', 'test_uuid', 'undeploy', 'utc_begin',\n",
       "       'utc_end', 'loaded_filename', 'driverName',\n",
       "       'consumerBacklogSizeGB', 'consumerPerSubscription',\n",
       "       'keyDistributor', 'messageSize', 'name', 'partitionsPerTopic',\n",
       "       'payloadFile', 'producerRate', 'producersPerTopic',\n",
       "       'subscriptionsPerTopic', 'testDurationMinutes', 'topics',\n",
       "       'aggregatedEndToEndLatency50pct', 'aggregatedEndToEndLatency75pct',\n",
       "       'aggregatedEndToEndLatency95pct',\n",
       "       'aggregatedEndToEndLatency9999pct',\n",
       "       'aggregatedEndToEndLatency999pct',\n",
       "       'aggregatedEndToEndLatency99pct', 'aggregatedEndToEndLatencyAvg',\n",
       "       'aggregatedEndToEndLatencyMax',\n",
       "       'aggregatedEndToEndLatencyQuantiles',\n",
       "       'aggregatedPublishLatency50pct', 'aggregatedPublishLatency75pct',\n",
       "       'aggregatedPublishLatency95pct', 'aggregatedPublishLatency9999pct',\n",
       "       'aggregatedPublishLatency999pct', 'aggregatedPublishLatency99pct',\n",
       "       'aggregatedPublishLatencyAvg', 'aggregatedPublishLatencyMax',\n",
       "       'aggregatedPublishLatencyQuantiles', 'backlog', 'consumeRate',\n",
       "       'endToEndLatency50pct', 'endToEndLatency75pct',\n",
       "       'endToEndLatency95pct', 'endToEndLatency9999pct',\n",
       "       'endToEndLatency999pct', 'endToEndLatency99pct',\n",
       "       'endToEndLatencyAvg', 'endToEndLatencyMax', 'publishLatency50pct',\n",
       "       'publishLatency75pct', 'publishLatency95pct',\n",
       "       'publishLatency9999pct', 'publishLatency999pct',\n",
       "       'publishLatency99pct', 'publishLatencyAvg', 'publishLatencyMax',\n",
       "       'publishRate', 'workload', 'bookkeeperVersion',\n",
       "       'pravegaContainersPerSegmentStore', 'pravegaVersion',\n",
       "       'prometheusVersion', 'zookeeperVersion', 'consumeRateMean',\n",
       "       'publishRateMean', 'numWorkloadWorkers', 'throttleEventsPerSec',\n",
       "       'publishRateEventsPerSecMean', 'publishRateMBPerSecMean',\n",
       "       'publishLatencyMsAvg', 'publishLatencyMs50Pct',\n",
       "       'publishLatencyMs99Pct', 'endToEndLatencyMsAvg',\n",
       "       'endToEndLatencyMs50Pct', 'endToEndLatencyMs99Pct'], dtype=object)"
      ]
     },
     "execution_count": 9,
     "metadata": {},
     "output_type": "execute_result"
    }
   ],
   "source": [
    "# Show list of columns\n",
    "clean_df.columns.values"
   ]
  },
  {
   "cell_type": "code",
   "execution_count": 10,
   "metadata": {},
   "outputs": [],
   "source": [
    "# Define columns that identify test parameters\n",
    "param_cols = [\n",
    "    'numWorkloadWorkers',\n",
    "    'topics',\n",
    "    'partitionsPerTopic',\n",
    "    'producersPerTopic',\n",
    "    'subscriptionsPerTopic',\n",
    "    'consumerPerSubscription',\n",
    "    'testDurationMinutes',\n",
    "    'keyDistributor',\n",
    "    'git_commit',\n",
    "    'pravegaVersion',\n",
    "]"
   ]
  },
  {
   "cell_type": "code",
   "execution_count": 11,
   "metadata": {},
   "outputs": [],
   "source": [
    "# Define columns that are the output of the experiments\n",
    "output_cols = [\n",
    "    'publishRateEventsPerSecMean',\n",
    "    'publishRateMBPerSecMean',\n",
    "    'publishLatencyMs50Pct',\n",
    "    'publishLatencyMs99Pct',\n",
    "    'endToEndLatencyMs50Pct',\n",
    "    'endToEndLatencyMs99Pct',\n",
    "    'utc_begin',    \n",
    "]"
   ]
  },
  {
   "cell_type": "code",
   "execution_count": 12,
   "metadata": {},
   "outputs": [],
   "source": [
    "cols = param_cols + output_cols"
   ]
  },
  {
   "cell_type": "code",
   "execution_count": 13,
   "metadata": {},
   "outputs": [
    {
     "data": {
      "text/html": [
       "<div>\n",
       "<style scoped>\n",
       "    .dataframe tbody tr th:only-of-type {\n",
       "        vertical-align: middle;\n",
       "    }\n",
       "\n",
       "    .dataframe tbody tr th {\n",
       "        vertical-align: top;\n",
       "    }\n",
       "\n",
       "    .dataframe thead th {\n",
       "        text-align: right;\n",
       "    }\n",
       "</style>\n",
       "<table border=\"1\" class=\"dataframe\">\n",
       "  <thead>\n",
       "    <tr style=\"text-align: right;\">\n",
       "      <th>test_uuid</th>\n",
       "      <th>0f0874be-c493-45a6-acca-44bd16bb4dea</th>\n",
       "      <th>fe961d41-1581-4f81-a832-ebeb752f49e8</th>\n",
       "      <th>6f4675d0-c3f3-46e1-80fd-6ccbf216aaca</th>\n",
       "    </tr>\n",
       "  </thead>\n",
       "  <tbody>\n",
       "    <tr>\n",
       "      <td>numWorkloadWorkers</td>\n",
       "      <td>2</td>\n",
       "      <td>2</td>\n",
       "      <td>2</td>\n",
       "    </tr>\n",
       "    <tr>\n",
       "      <td>topics</td>\n",
       "      <td>1</td>\n",
       "      <td>1</td>\n",
       "      <td>1</td>\n",
       "    </tr>\n",
       "    <tr>\n",
       "      <td>partitionsPerTopic</td>\n",
       "      <td>1</td>\n",
       "      <td>1</td>\n",
       "      <td>1</td>\n",
       "    </tr>\n",
       "    <tr>\n",
       "      <td>producersPerTopic</td>\n",
       "      <td>1</td>\n",
       "      <td>1</td>\n",
       "      <td>1</td>\n",
       "    </tr>\n",
       "    <tr>\n",
       "      <td>subscriptionsPerTopic</td>\n",
       "      <td>1</td>\n",
       "      <td>1</td>\n",
       "      <td>1</td>\n",
       "    </tr>\n",
       "    <tr>\n",
       "      <td>consumerPerSubscription</td>\n",
       "      <td>1</td>\n",
       "      <td>1</td>\n",
       "      <td>1</td>\n",
       "    </tr>\n",
       "    <tr>\n",
       "      <td>testDurationMinutes</td>\n",
       "      <td>1</td>\n",
       "      <td>1</td>\n",
       "      <td>1</td>\n",
       "    </tr>\n",
       "    <tr>\n",
       "      <td>keyDistributor</td>\n",
       "      <td>NO_KEY</td>\n",
       "      <td>NO_KEY</td>\n",
       "      <td>NO_KEY</td>\n",
       "    </tr>\n",
       "    <tr>\n",
       "      <td>git_commit</td>\n",
       "      <td>329cd9c</td>\n",
       "      <td>cba95af</td>\n",
       "      <td>cba95af</td>\n",
       "    </tr>\n",
       "    <tr>\n",
       "      <td>pravegaVersion</td>\n",
       "      <td>0.8.0-2508.30406cf</td>\n",
       "      <td>0.8.0-2508.30406cf</td>\n",
       "      <td>0.8.0-2508.30406cf</td>\n",
       "    </tr>\n",
       "    <tr>\n",
       "      <td>publishRateEventsPerSecMean</td>\n",
       "      <td>10024.5</td>\n",
       "      <td>49388.8</td>\n",
       "      <td>46863.8</td>\n",
       "    </tr>\n",
       "    <tr>\n",
       "      <td>publishRateMBPerSecMean</td>\n",
       "      <td>100.245</td>\n",
       "      <td>493.888</td>\n",
       "      <td>468.638</td>\n",
       "    </tr>\n",
       "    <tr>\n",
       "      <td>publishLatencyMs50Pct</td>\n",
       "      <td>4.39</td>\n",
       "      <td>67.631</td>\n",
       "      <td>68.609</td>\n",
       "    </tr>\n",
       "    <tr>\n",
       "      <td>publishLatencyMs99Pct</td>\n",
       "      <td>8.877</td>\n",
       "      <td>130.785</td>\n",
       "      <td>113.986</td>\n",
       "    </tr>\n",
       "    <tr>\n",
       "      <td>endToEndLatencyMs50Pct</td>\n",
       "      <td>5</td>\n",
       "      <td>0</td>\n",
       "      <td>0</td>\n",
       "    </tr>\n",
       "    <tr>\n",
       "      <td>endToEndLatencyMs99Pct</td>\n",
       "      <td>10</td>\n",
       "      <td>0</td>\n",
       "      <td>0</td>\n",
       "    </tr>\n",
       "    <tr>\n",
       "      <td>utc_begin</td>\n",
       "      <td>2020-04-22 16:41:42.441872+00:00</td>\n",
       "      <td>2020-04-22 17:49:22.936069+00:00</td>\n",
       "      <td>2020-04-22 17:51:34.554139+00:00</td>\n",
       "    </tr>\n",
       "  </tbody>\n",
       "</table>\n",
       "</div>"
      ],
      "text/plain": [
       "test_uuid                   0f0874be-c493-45a6-acca-44bd16bb4dea  \\\n",
       "numWorkloadWorkers                                             2   \n",
       "topics                                                         1   \n",
       "partitionsPerTopic                                             1   \n",
       "producersPerTopic                                              1   \n",
       "subscriptionsPerTopic                                          1   \n",
       "consumerPerSubscription                                        1   \n",
       "testDurationMinutes                                            1   \n",
       "keyDistributor                                            NO_KEY   \n",
       "git_commit                                               329cd9c   \n",
       "pravegaVersion                                0.8.0-2508.30406cf   \n",
       "publishRateEventsPerSecMean                              10024.5   \n",
       "publishRateMBPerSecMean                                  100.245   \n",
       "publishLatencyMs50Pct                                       4.39   \n",
       "publishLatencyMs99Pct                                      8.877   \n",
       "endToEndLatencyMs50Pct                                         5   \n",
       "endToEndLatencyMs99Pct                                        10   \n",
       "utc_begin                       2020-04-22 16:41:42.441872+00:00   \n",
       "\n",
       "test_uuid                   fe961d41-1581-4f81-a832-ebeb752f49e8  \\\n",
       "numWorkloadWorkers                                             2   \n",
       "topics                                                         1   \n",
       "partitionsPerTopic                                             1   \n",
       "producersPerTopic                                              1   \n",
       "subscriptionsPerTopic                                          1   \n",
       "consumerPerSubscription                                        1   \n",
       "testDurationMinutes                                            1   \n",
       "keyDistributor                                            NO_KEY   \n",
       "git_commit                                               cba95af   \n",
       "pravegaVersion                                0.8.0-2508.30406cf   \n",
       "publishRateEventsPerSecMean                              49388.8   \n",
       "publishRateMBPerSecMean                                  493.888   \n",
       "publishLatencyMs50Pct                                     67.631   \n",
       "publishLatencyMs99Pct                                    130.785   \n",
       "endToEndLatencyMs50Pct                                         0   \n",
       "endToEndLatencyMs99Pct                                         0   \n",
       "utc_begin                       2020-04-22 17:49:22.936069+00:00   \n",
       "\n",
       "test_uuid                   6f4675d0-c3f3-46e1-80fd-6ccbf216aaca  \n",
       "numWorkloadWorkers                                             2  \n",
       "topics                                                         1  \n",
       "partitionsPerTopic                                             1  \n",
       "producersPerTopic                                              1  \n",
       "subscriptionsPerTopic                                          1  \n",
       "consumerPerSubscription                                        1  \n",
       "testDurationMinutes                                            1  \n",
       "keyDistributor                                            NO_KEY  \n",
       "git_commit                                               cba95af  \n",
       "pravegaVersion                                0.8.0-2508.30406cf  \n",
       "publishRateEventsPerSecMean                              46863.8  \n",
       "publishRateMBPerSecMean                                  468.638  \n",
       "publishLatencyMs50Pct                                     68.609  \n",
       "publishLatencyMs99Pct                                    113.986  \n",
       "endToEndLatencyMs50Pct                                         0  \n",
       "endToEndLatencyMs99Pct                                         0  \n",
       "utc_begin                       2020-04-22 17:51:34.554139+00:00  "
      ]
     },
     "execution_count": 13,
     "metadata": {},
     "output_type": "execute_result"
    }
   ],
   "source": [
    "# View most recent results\n",
    "clean_df[cols].tail(3).T"
   ]
  },
  {
   "cell_type": "code",
   "execution_count": 14,
   "metadata": {},
   "outputs": [],
   "source": [
    "# Export to CSV\n",
    "#clean_df[cols].to_csv('openmessaging-benchmark-results.csv')"
   ]
  },
  {
   "cell_type": "code",
   "execution_count": 15,
   "metadata": {},
   "outputs": [],
   "source": [
    "# df = clean_df[cols]\n",
    "# df = df.sort_values(['messageSize','numWorkloadWorkers','producersPerTopic','throttleEventsPerSec','utc_begin'])\n",
    "# df.head()"
   ]
  },
  {
   "cell_type": "code",
   "execution_count": 16,
   "metadata": {},
   "outputs": [
    {
     "data": {
      "text/plain": [
       "pravegaVersion\n",
       "0.8.0-2508.30406cf    18\n",
       "dtype: int64"
      ]
     },
     "execution_count": 16,
     "metadata": {},
     "output_type": "execute_result"
    }
   ],
   "source": [
    "# View distinct values of pravegaVersion and test counts\n",
    "clean_df.groupby(['pravegaVersion']).size()"
   ]
  },
  {
   "cell_type": "code",
   "execution_count": 17,
   "metadata": {},
   "outputs": [
    {
     "data": {
      "text/plain": [
       "18"
      ]
     },
     "execution_count": 17,
     "metadata": {},
     "output_type": "execute_result"
    }
   ],
   "source": [
    "# First level of filtering\n",
    "filt_df = filter_dataframe(\n",
    "    clean_df,\n",
    "  #  driverName='Pravega',\n",
    "  #  pravegaVersion='0.8.0-2508.30406cf',\n",
    "#     pravegaVersion='0.6.0-2386.23b7340',\n",
    "   # numWorkloadWorkers=2, \n",
    "    topics=1,\n",
    "    testDurationMinutes=1,\n",
    "   # size_of_test_batch=(2,1000), # between\n",
    "   # aggregatedEndToEndLatency50pct=(1,1e6),\n",
    ")\n",
    "# filt_df = filt_df[filt_df.size_of_test_batch > 1]\n",
    "len(filt_df)"
   ]
  },
  {
   "cell_type": "code",
   "execution_count": 19,
   "metadata": {},
   "outputs": [],
   "source": [
    "def latency_vs_throughput_table(df):\n",
    "    result_df = (df\n",
    "        .set_index(['publishRateMBPerSecMean'])\n",
    "        .sort_index()\n",
    "        [[\n",
    "            'aggregatedPublishLatency50pct',\n",
    "            'aggregatedPublishLatency95pct',\n",
    "            'aggregatedPublishLatency99pct',\n",
    "            'aggregatedEndToEndLatency50pct',\n",
    "            'aggregatedEndToEndLatency95pct',\n",
    "            'aggregatedEndToEndLatency99pct',\n",
    "            'test_uuid',\n",
    "        ]]\n",
    "        .rename(columns=dict(\n",
    "            aggregatedPublishLatency50pct='Publish Latency p50',\n",
    "            aggregatedPublishLatency95pct='Publish Latency p95',\n",
    "            aggregatedPublishLatency99pct='Publish Latency p99',\n",
    "            aggregatedEndToEndLatency50pct='E2E Latency p50',\n",
    "            aggregatedEndToEndLatency95pct='E2E Latency p95',\n",
    "            aggregatedEndToEndLatency99pct='E2E Latency p99',\n",
    "        ))\n",
    "        )\n",
    "    result_df.index.name = 'Publish Throughput (MB/s)'\n",
    "    return result_df"
   ]
  },
  {
   "cell_type": "code",
   "execution_count": 20,
   "metadata": {},
   "outputs": [],
   "source": [
    "def plot_latency_vs_throughput(df):\n",
    "    assert len(df.messageSize.drop_duplicates().values) == 1\n",
    "    messageSize = df.messageSize.iloc[0]\n",
    "    plot_df = latency_vs_throughput_table(df)\n",
    "    title = 'Message Size %d' % (messageSize)\n",
    "    ax = plot_df.plot(\n",
    "        logx=True, \n",
    "        logy=True,\n",
    "        figsize=(10,8),\n",
    "        grid=True, \n",
    "        title=title, \n",
    "        style=['x:b','x-.b','x-b','+:r','+-.r','+-r'])\n",
    "    ax.set_ylabel('Latency (ms)');\n",
    "    tick_formatter = matplotlib.ticker.LogFormatter()\n",
    "    ax.xaxis.set_major_formatter(tick_formatter)\n",
    "    ax.yaxis.set_major_formatter(tick_formatter)\n",
    "    ax.grid('on', which='both', axis='both')"
   ]
  },
  {
   "cell_type": "markdown",
   "metadata": {},
   "source": [
    "## Message Size 100 B"
   ]
  },
  {
   "cell_type": "code",
   "execution_count": 21,
   "metadata": {},
   "outputs": [],
   "source": [
    "filt_100_df = filter_dataframe(\n",
    "    filt_df,\n",
    "    messageSize=100,\n",
    "    producersPerTopic=1,\n",
    "    partitionsPerTopic=1,\n",
    ")"
   ]
  },
  {
   "cell_type": "code",
   "execution_count": 22,
   "metadata": {},
   "outputs": [
    {
     "data": {
      "text/html": [
       "<div>\n",
       "<style scoped>\n",
       "    .dataframe tbody tr th:only-of-type {\n",
       "        vertical-align: middle;\n",
       "    }\n",
       "\n",
       "    .dataframe tbody tr th {\n",
       "        vertical-align: top;\n",
       "    }\n",
       "\n",
       "    .dataframe thead th {\n",
       "        text-align: right;\n",
       "    }\n",
       "</style>\n",
       "<table border=\"1\" class=\"dataframe\">\n",
       "  <thead>\n",
       "    <tr style=\"text-align: right;\">\n",
       "      <th>test_uuid</th>\n",
       "      <th>2feaa9e8-105f-4cdc-afa8-7bab1a86be32</th>\n",
       "    </tr>\n",
       "  </thead>\n",
       "  <tbody>\n",
       "  </tbody>\n",
       "</table>\n",
       "</div>"
      ],
      "text/plain": [
       "Empty DataFrame\n",
       "Columns: [2feaa9e8-105f-4cdc-afa8-7bab1a86be32]\n",
       "Index: []"
      ]
     },
     "execution_count": 22,
     "metadata": {},
     "output_type": "execute_result"
    }
   ],
   "source": [
    "# View varying columns\n",
    "take_varying_columns(filt_100_df[filt_100_df.producerRate==100000]).T"
   ]
  },
  {
   "cell_type": "code",
   "execution_count": 23,
   "metadata": {},
   "outputs": [
    {
     "data": {
      "text/html": [
       "<div>\n",
       "<style scoped>\n",
       "    .dataframe tbody tr th:only-of-type {\n",
       "        vertical-align: middle;\n",
       "    }\n",
       "\n",
       "    .dataframe tbody tr th {\n",
       "        vertical-align: top;\n",
       "    }\n",
       "\n",
       "    .dataframe thead th {\n",
       "        text-align: right;\n",
       "    }\n",
       "</style>\n",
       "<table border=\"1\" class=\"dataframe\">\n",
       "  <thead>\n",
       "    <tr style=\"text-align: right;\">\n",
       "      <th>test_uuid</th>\n",
       "      <th>9d017fc7-a3be-4e7d-b623-9577bc814363</th>\n",
       "    </tr>\n",
       "  </thead>\n",
       "  <tbody>\n",
       "    <tr>\n",
       "      <td>numWorkloadWorkers</td>\n",
       "      <td>2</td>\n",
       "    </tr>\n",
       "    <tr>\n",
       "      <td>topics</td>\n",
       "      <td>1</td>\n",
       "    </tr>\n",
       "    <tr>\n",
       "      <td>partitionsPerTopic</td>\n",
       "      <td>1</td>\n",
       "    </tr>\n",
       "    <tr>\n",
       "      <td>producersPerTopic</td>\n",
       "      <td>1</td>\n",
       "    </tr>\n",
       "    <tr>\n",
       "      <td>subscriptionsPerTopic</td>\n",
       "      <td>1</td>\n",
       "    </tr>\n",
       "    <tr>\n",
       "      <td>consumerPerSubscription</td>\n",
       "      <td>1</td>\n",
       "    </tr>\n",
       "    <tr>\n",
       "      <td>testDurationMinutes</td>\n",
       "      <td>1</td>\n",
       "    </tr>\n",
       "    <tr>\n",
       "      <td>keyDistributor</td>\n",
       "      <td>NO_KEY</td>\n",
       "    </tr>\n",
       "    <tr>\n",
       "      <td>git_commit</td>\n",
       "      <td>329cd9c</td>\n",
       "    </tr>\n",
       "    <tr>\n",
       "      <td>pravegaVersion</td>\n",
       "      <td>0.8.0-2508.30406cf</td>\n",
       "    </tr>\n",
       "  </tbody>\n",
       "</table>\n",
       "</div>"
      ],
      "text/plain": [
       "test_uuid               9d017fc7-a3be-4e7d-b623-9577bc814363\n",
       "numWorkloadWorkers                                         2\n",
       "topics                                                     1\n",
       "partitionsPerTopic                                         1\n",
       "producersPerTopic                                          1\n",
       "subscriptionsPerTopic                                      1\n",
       "consumerPerSubscription                                    1\n",
       "testDurationMinutes                                        1\n",
       "keyDistributor                                        NO_KEY\n",
       "git_commit                                           329cd9c\n",
       "pravegaVersion                            0.8.0-2508.30406cf"
      ]
     },
     "execution_count": 23,
     "metadata": {},
     "output_type": "execute_result"
    }
   ],
   "source": [
    "# View distinct sets of parameters.\n",
    "# There should only be one distinct set of parameters.\n",
    "filt_100_df[param_cols].drop_duplicates().T"
   ]
  },
  {
   "cell_type": "code",
   "execution_count": 24,
   "metadata": {},
   "outputs": [
    {
     "data": {
      "image/png": "[encoded data removed]",
      "text/plain": [
       "<Figure size 720x576 with 1 Axes>"
      ]
     },
     "metadata": {
      "needs_background": "light"
     },
     "output_type": "display_data"
    }
   ],
   "source": [
    "plot_latency_vs_throughput(filt_100_df)"
   ]
  },
  {
   "cell_type": "code",
   "execution_count": 25,
   "metadata": {},
   "outputs": [
    {
     "data": {
      "text/html": [
       "<div>\n",
       "<style scoped>\n",
       "    .dataframe tbody tr th:only-of-type {\n",
       "        vertical-align: middle;\n",
       "    }\n",
       "\n",
       "    .dataframe tbody tr th {\n",
       "        vertical-align: top;\n",
       "    }\n",
       "\n",
       "    .dataframe thead th {\n",
       "        text-align: right;\n",
       "    }\n",
       "</style>\n",
       "<table border=\"1\" class=\"dataframe\">\n",
       "  <thead>\n",
       "    <tr style=\"text-align: right;\">\n",
       "      <th></th>\n",
       "      <th>Publish Latency p50</th>\n",
       "      <th>Publish Latency p95</th>\n",
       "      <th>Publish Latency p99</th>\n",
       "      <th>E2E Latency p50</th>\n",
       "      <th>E2E Latency p95</th>\n",
       "      <th>E2E Latency p99</th>\n",
       "      <th>test_uuid</th>\n",
       "    </tr>\n",
       "    <tr>\n",
       "      <th>Publish Throughput (MB/s)</th>\n",
       "      <th></th>\n",
       "      <th></th>\n",
       "      <th></th>\n",
       "      <th></th>\n",
       "      <th></th>\n",
       "      <th></th>\n",
       "      <th></th>\n",
       "    </tr>\n",
       "  </thead>\n",
       "  <tbody>\n",
       "    <tr>\n",
       "      <td>0.003005</td>\n",
       "      <td>2.020</td>\n",
       "      <td>2.198</td>\n",
       "      <td>2.366</td>\n",
       "      <td>2.000</td>\n",
       "      <td>3.000</td>\n",
       "      <td>6.000</td>\n",
       "      <td>9d017fc7-a3be-4e7d-b623-9577bc814363</td>\n",
       "    </tr>\n",
       "    <tr>\n",
       "      <td>0.010022</td>\n",
       "      <td>1.947</td>\n",
       "      <td>2.054</td>\n",
       "      <td>2.149</td>\n",
       "      <td>2.000</td>\n",
       "      <td>3.000</td>\n",
       "      <td>3.000</td>\n",
       "      <td>d93d2342-ae4c-4d8f-8fe1-3d89253e506f</td>\n",
       "    </tr>\n",
       "    <tr>\n",
       "      <td>0.030065</td>\n",
       "      <td>1.856</td>\n",
       "      <td>1.992</td>\n",
       "      <td>2.086</td>\n",
       "      <td>2.000</td>\n",
       "      <td>2.000</td>\n",
       "      <td>3.000</td>\n",
       "      <td>d116aab9-ff02-4f04-a804-36789f71ca24</td>\n",
       "    </tr>\n",
       "    <tr>\n",
       "      <td>0.100218</td>\n",
       "      <td>2.136</td>\n",
       "      <td>3.136</td>\n",
       "      <td>3.299</td>\n",
       "      <td>2.000</td>\n",
       "      <td>4.000</td>\n",
       "      <td>4.000</td>\n",
       "      <td>21b64e51-fb55-4101-8985-d6fdfaa566b7</td>\n",
       "    </tr>\n",
       "    <tr>\n",
       "      <td>0.301533</td>\n",
       "      <td>1.992</td>\n",
       "      <td>3.155</td>\n",
       "      <td>4.098</td>\n",
       "      <td>2.000</td>\n",
       "      <td>4.000</td>\n",
       "      <td>5.000</td>\n",
       "      <td>e90ff066-fee1-4888-963e-a7c18300523d</td>\n",
       "    </tr>\n",
       "    <tr>\n",
       "      <td>1.002137</td>\n",
       "      <td>2.035</td>\n",
       "      <td>3.414</td>\n",
       "      <td>4.780</td>\n",
       "      <td>2.000</td>\n",
       "      <td>4.000</td>\n",
       "      <td>5.000</td>\n",
       "      <td>e35becd8-7c5f-43b9-b3d3-e63ce55ed306</td>\n",
       "    </tr>\n",
       "    <tr>\n",
       "      <td>3.008994</td>\n",
       "      <td>2.316</td>\n",
       "      <td>3.558</td>\n",
       "      <td>6.400</td>\n",
       "      <td>3.000</td>\n",
       "      <td>4.000</td>\n",
       "      <td>7.000</td>\n",
       "      <td>51f3cbb2-9ff8-488c-95fe-100dbc5b1efc</td>\n",
       "    </tr>\n",
       "    <tr>\n",
       "      <td>10.020727</td>\n",
       "      <td>3.120</td>\n",
       "      <td>3.562</td>\n",
       "      <td>7.135</td>\n",
       "      <td>3.000</td>\n",
       "      <td>4.000</td>\n",
       "      <td>9.000</td>\n",
       "      <td>2feaa9e8-105f-4cdc-afa8-7bab1a86be32</td>\n",
       "    </tr>\n",
       "    <tr>\n",
       "      <td>30.104122</td>\n",
       "      <td>3.624</td>\n",
       "      <td>4.393</td>\n",
       "      <td>9.348</td>\n",
       "      <td>4.000</td>\n",
       "      <td>7.000</td>\n",
       "      <td>13.000</td>\n",
       "      <td>806a96d1-6e5b-42fb-bd21-d873b7dfe34e</td>\n",
       "    </tr>\n",
       "    <tr>\n",
       "      <td>69.301255</td>\n",
       "      <td>107.716</td>\n",
       "      <td>114.430</td>\n",
       "      <td>225.567</td>\n",
       "      <td>30163.071</td>\n",
       "      <td>39770.111</td>\n",
       "      <td>40513.023</td>\n",
       "      <td>17106cc9-e18c-45df-b1c9-af3c9c14c6e7</td>\n",
       "    </tr>\n",
       "  </tbody>\n",
       "</table>\n",
       "</div>"
      ],
      "text/plain": [
       "                           Publish Latency p50  Publish Latency p95  \\\n",
       "Publish Throughput (MB/s)                                             \n",
       "0.003005                                 2.020                2.198   \n",
       "0.010022                                 1.947                2.054   \n",
       "0.030065                                 1.856                1.992   \n",
       "0.100218                                 2.136                3.136   \n",
       "0.301533                                 1.992                3.155   \n",
       "1.002137                                 2.035                3.414   \n",
       "3.008994                                 2.316                3.558   \n",
       "10.020727                                3.120                3.562   \n",
       "30.104122                                3.624                4.393   \n",
       "69.301255                              107.716              114.430   \n",
       "\n",
       "                           Publish Latency p99  E2E Latency p50  \\\n",
       "Publish Throughput (MB/s)                                         \n",
       "0.003005                                 2.366            2.000   \n",
       "0.010022                                 2.149            2.000   \n",
       "0.030065                                 2.086            2.000   \n",
       "0.100218                                 3.299            2.000   \n",
       "0.301533                                 4.098            2.000   \n",
       "1.002137                                 4.780            2.000   \n",
       "3.008994                                 6.400            3.000   \n",
       "10.020727                                7.135            3.000   \n",
       "30.104122                                9.348            4.000   \n",
       "69.301255                              225.567        30163.071   \n",
       "\n",
       "                           E2E Latency p95  E2E Latency p99  \\\n",
       "Publish Throughput (MB/s)                                     \n",
       "0.003005                             3.000            6.000   \n",
       "0.010022                             3.000            3.000   \n",
       "0.030065                             2.000            3.000   \n",
       "0.100218                             4.000            4.000   \n",
       "0.301533                             4.000            5.000   \n",
       "1.002137                             4.000            5.000   \n",
       "3.008994                             4.000            7.000   \n",
       "10.020727                            4.000            9.000   \n",
       "30.104122                            7.000           13.000   \n",
       "69.301255                        39770.111        40513.023   \n",
       "\n",
       "                                                      test_uuid  \n",
       "Publish Throughput (MB/s)                                        \n",
       "0.003005                   9d017fc7-a3be-4e7d-b623-9577bc814363  \n",
       "0.010022                   d93d2342-ae4c-4d8f-8fe1-3d89253e506f  \n",
       "0.030065                   d116aab9-ff02-4f04-a804-36789f71ca24  \n",
       "0.100218                   21b64e51-fb55-4101-8985-d6fdfaa566b7  \n",
       "0.301533                   e90ff066-fee1-4888-963e-a7c18300523d  \n",
       "1.002137                   e35becd8-7c5f-43b9-b3d3-e63ce55ed306  \n",
       "3.008994                   51f3cbb2-9ff8-488c-95fe-100dbc5b1efc  \n",
       "10.020727                  2feaa9e8-105f-4cdc-afa8-7bab1a86be32  \n",
       "30.104122                  806a96d1-6e5b-42fb-bd21-d873b7dfe34e  \n",
       "69.301255                  17106cc9-e18c-45df-b1c9-af3c9c14c6e7  "
      ]
     },
     "execution_count": 25,
     "metadata": {},
     "output_type": "execute_result"
    }
   ],
   "source": [
    "latency_vs_throughput_table(filt_100_df)"
   ]
  },
  {
   "cell_type": "markdown",
   "metadata": {},
   "source": [
    "## Message Size 10 KB"
   ]
  },
  {
   "cell_type": "code",
   "execution_count": 26,
   "metadata": {},
   "outputs": [],
   "source": [
    "filt_10000_df = filter_dataframe(\n",
    "    filt_df,\n",
    "    messageSize=10000,\n",
    ")"
   ]
  },
  {
   "cell_type": "code",
   "execution_count": 27,
   "metadata": {},
   "outputs": [
    {
     "data": {
      "text/html": [
       "<div>\n",
       "<style scoped>\n",
       "    .dataframe tbody tr th:only-of-type {\n",
       "        vertical-align: middle;\n",
       "    }\n",
       "\n",
       "    .dataframe tbody tr th {\n",
       "        vertical-align: top;\n",
       "    }\n",
       "\n",
       "    .dataframe thead th {\n",
       "        text-align: right;\n",
       "    }\n",
       "</style>\n",
       "<table border=\"1\" class=\"dataframe\">\n",
       "  <thead>\n",
       "    <tr style=\"text-align: right;\">\n",
       "      <th>test_uuid</th>\n",
       "      <th>41973e27-2801-41bd-af1f-0bb052b51417</th>\n",
       "      <th>fe961d41-1581-4f81-a832-ebeb752f49e8</th>\n",
       "    </tr>\n",
       "  </thead>\n",
       "  <tbody>\n",
       "    <tr>\n",
       "      <td>numWorkloadWorkers</td>\n",
       "      <td>2</td>\n",
       "      <td>2</td>\n",
       "    </tr>\n",
       "    <tr>\n",
       "      <td>topics</td>\n",
       "      <td>1</td>\n",
       "      <td>1</td>\n",
       "    </tr>\n",
       "    <tr>\n",
       "      <td>partitionsPerTopic</td>\n",
       "      <td>1</td>\n",
       "      <td>1</td>\n",
       "    </tr>\n",
       "    <tr>\n",
       "      <td>producersPerTopic</td>\n",
       "      <td>1</td>\n",
       "      <td>1</td>\n",
       "    </tr>\n",
       "    <tr>\n",
       "      <td>subscriptionsPerTopic</td>\n",
       "      <td>1</td>\n",
       "      <td>1</td>\n",
       "    </tr>\n",
       "    <tr>\n",
       "      <td>consumerPerSubscription</td>\n",
       "      <td>1</td>\n",
       "      <td>1</td>\n",
       "    </tr>\n",
       "    <tr>\n",
       "      <td>testDurationMinutes</td>\n",
       "      <td>1</td>\n",
       "      <td>1</td>\n",
       "    </tr>\n",
       "    <tr>\n",
       "      <td>keyDistributor</td>\n",
       "      <td>NO_KEY</td>\n",
       "      <td>NO_KEY</td>\n",
       "    </tr>\n",
       "    <tr>\n",
       "      <td>git_commit</td>\n",
       "      <td>329cd9c</td>\n",
       "      <td>cba95af</td>\n",
       "    </tr>\n",
       "    <tr>\n",
       "      <td>pravegaVersion</td>\n",
       "      <td>0.8.0-2508.30406cf</td>\n",
       "      <td>0.8.0-2508.30406cf</td>\n",
       "    </tr>\n",
       "  </tbody>\n",
       "</table>\n",
       "</div>"
      ],
      "text/plain": [
       "test_uuid               41973e27-2801-41bd-af1f-0bb052b51417  \\\n",
       "numWorkloadWorkers                                         2   \n",
       "topics                                                     1   \n",
       "partitionsPerTopic                                         1   \n",
       "producersPerTopic                                          1   \n",
       "subscriptionsPerTopic                                      1   \n",
       "consumerPerSubscription                                    1   \n",
       "testDurationMinutes                                        1   \n",
       "keyDistributor                                        NO_KEY   \n",
       "git_commit                                           329cd9c   \n",
       "pravegaVersion                            0.8.0-2508.30406cf   \n",
       "\n",
       "test_uuid               fe961d41-1581-4f81-a832-ebeb752f49e8  \n",
       "numWorkloadWorkers                                         2  \n",
       "topics                                                     1  \n",
       "partitionsPerTopic                                         1  \n",
       "producersPerTopic                                          1  \n",
       "subscriptionsPerTopic                                      1  \n",
       "consumerPerSubscription                                    1  \n",
       "testDurationMinutes                                        1  \n",
       "keyDistributor                                        NO_KEY  \n",
       "git_commit                                           cba95af  \n",
       "pravegaVersion                            0.8.0-2508.30406cf  "
      ]
     },
     "execution_count": 27,
     "metadata": {},
     "output_type": "execute_result"
    }
   ],
   "source": [
    "# View distinct sets of parameters.\n",
    "# There should only be one distinct set of parameters.\n",
    "filt_10000_df[param_cols].drop_duplicates().T"
   ]
  },
  {
   "cell_type": "code",
   "execution_count": 28,
   "metadata": {},
   "outputs": [
    {
     "data": {
      "image/png": "[encoded data removed]",
      "text/plain": [
       "<Figure size 720x576 with 1 Axes>"
      ]
     },
     "metadata": {
      "needs_background": "light"
     },
     "output_type": "display_data"
    }
   ],
   "source": [
    "plot_latency_vs_throughput(filt_10000_df)"
   ]
  },
  {
   "cell_type": "code",
   "execution_count": 29,
   "metadata": {},
   "outputs": [
    {
     "data": {
      "text/html": [
       "<div>\n",
       "<style scoped>\n",
       "    .dataframe tbody tr th:only-of-type {\n",
       "        vertical-align: middle;\n",
       "    }\n",
       "\n",
       "    .dataframe tbody tr th {\n",
       "        vertical-align: top;\n",
       "    }\n",
       "\n",
       "    .dataframe thead th {\n",
       "        text-align: right;\n",
       "    }\n",
       "</style>\n",
       "<table border=\"1\" class=\"dataframe\">\n",
       "  <thead>\n",
       "    <tr style=\"text-align: right;\">\n",
       "      <th></th>\n",
       "      <th>Publish Latency p50</th>\n",
       "      <th>Publish Latency p95</th>\n",
       "      <th>Publish Latency p99</th>\n",
       "      <th>E2E Latency p50</th>\n",
       "      <th>E2E Latency p95</th>\n",
       "      <th>E2E Latency p99</th>\n",
       "      <th>test_uuid</th>\n",
       "    </tr>\n",
       "    <tr>\n",
       "      <th>Publish Throughput (MB/s)</th>\n",
       "      <th></th>\n",
       "      <th></th>\n",
       "      <th></th>\n",
       "      <th></th>\n",
       "      <th></th>\n",
       "      <th></th>\n",
       "      <th></th>\n",
       "    </tr>\n",
       "  </thead>\n",
       "  <tbody>\n",
       "    <tr>\n",
       "      <td>0.300573</td>\n",
       "      <td>2.046</td>\n",
       "      <td>2.257</td>\n",
       "      <td>2.363</td>\n",
       "      <td>2.0</td>\n",
       "      <td>3.0</td>\n",
       "      <td>6.0</td>\n",
       "      <td>41973e27-2801-41bd-af1f-0bb052b51417</td>\n",
       "    </tr>\n",
       "    <tr>\n",
       "      <td>1.002080</td>\n",
       "      <td>2.059</td>\n",
       "      <td>2.212</td>\n",
       "      <td>2.283</td>\n",
       "      <td>2.0</td>\n",
       "      <td>3.0</td>\n",
       "      <td>3.0</td>\n",
       "      <td>9b427bd4-8165-411a-9d65-11b3b5179499</td>\n",
       "    </tr>\n",
       "    <tr>\n",
       "      <td>3.005793</td>\n",
       "      <td>2.026</td>\n",
       "      <td>2.168</td>\n",
       "      <td>2.266</td>\n",
       "      <td>2.0</td>\n",
       "      <td>3.0</td>\n",
       "      <td>3.0</td>\n",
       "      <td>97caaa00-4add-43c0-a14b-14bf34fa2bd7</td>\n",
       "    </tr>\n",
       "    <tr>\n",
       "      <td>10.018248</td>\n",
       "      <td>2.362</td>\n",
       "      <td>3.298</td>\n",
       "      <td>4.139</td>\n",
       "      <td>3.0</td>\n",
       "      <td>4.0</td>\n",
       "      <td>5.0</td>\n",
       "      <td>16a17e44-1143-4e95-935c-d3c9992244f7</td>\n",
       "    </tr>\n",
       "    <tr>\n",
       "      <td>30.095132</td>\n",
       "      <td>2.860</td>\n",
       "      <td>4.256</td>\n",
       "      <td>6.781</td>\n",
       "      <td>3.0</td>\n",
       "      <td>5.0</td>\n",
       "      <td>8.0</td>\n",
       "      <td>9ea39cdb-d82d-49fa-911a-1f82f22f787d</td>\n",
       "    </tr>\n",
       "    <tr>\n",
       "      <td>100.245452</td>\n",
       "      <td>4.390</td>\n",
       "      <td>6.336</td>\n",
       "      <td>8.877</td>\n",
       "      <td>5.0</td>\n",
       "      <td>7.0</td>\n",
       "      <td>10.0</td>\n",
       "      <td>0f0874be-c493-45a6-acca-44bd16bb4dea</td>\n",
       "    </tr>\n",
       "    <tr>\n",
       "      <td>468.637826</td>\n",
       "      <td>68.609</td>\n",
       "      <td>93.134</td>\n",
       "      <td>113.986</td>\n",
       "      <td>0.0</td>\n",
       "      <td>0.0</td>\n",
       "      <td>0.0</td>\n",
       "      <td>6f4675d0-c3f3-46e1-80fd-6ccbf216aaca</td>\n",
       "    </tr>\n",
       "    <tr>\n",
       "      <td>493.887581</td>\n",
       "      <td>67.631</td>\n",
       "      <td>100.563</td>\n",
       "      <td>130.785</td>\n",
       "      <td>0.0</td>\n",
       "      <td>0.0</td>\n",
       "      <td>0.0</td>\n",
       "      <td>fe961d41-1581-4f81-a832-ebeb752f49e8</td>\n",
       "    </tr>\n",
       "  </tbody>\n",
       "</table>\n",
       "</div>"
      ],
      "text/plain": [
       "                           Publish Latency p50  Publish Latency p95  \\\n",
       "Publish Throughput (MB/s)                                             \n",
       "0.300573                                 2.046                2.257   \n",
       "1.002080                                 2.059                2.212   \n",
       "3.005793                                 2.026                2.168   \n",
       "10.018248                                2.362                3.298   \n",
       "30.095132                                2.860                4.256   \n",
       "100.245452                               4.390                6.336   \n",
       "468.637826                              68.609               93.134   \n",
       "493.887581                              67.631              100.563   \n",
       "\n",
       "                           Publish Latency p99  E2E Latency p50  \\\n",
       "Publish Throughput (MB/s)                                         \n",
       "0.300573                                 2.363              2.0   \n",
       "1.002080                                 2.283              2.0   \n",
       "3.005793                                 2.266              2.0   \n",
       "10.018248                                4.139              3.0   \n",
       "30.095132                                6.781              3.0   \n",
       "100.245452                               8.877              5.0   \n",
       "468.637826                             113.986              0.0   \n",
       "493.887581                             130.785              0.0   \n",
       "\n",
       "                           E2E Latency p95  E2E Latency p99  \\\n",
       "Publish Throughput (MB/s)                                     \n",
       "0.300573                               3.0              6.0   \n",
       "1.002080                               3.0              3.0   \n",
       "3.005793                               3.0              3.0   \n",
       "10.018248                              4.0              5.0   \n",
       "30.095132                              5.0              8.0   \n",
       "100.245452                             7.0             10.0   \n",
       "468.637826                             0.0              0.0   \n",
       "493.887581                             0.0              0.0   \n",
       "\n",
       "                                                      test_uuid  \n",
       "Publish Throughput (MB/s)                                        \n",
       "0.300573                   41973e27-2801-41bd-af1f-0bb052b51417  \n",
       "1.002080                   9b427bd4-8165-411a-9d65-11b3b5179499  \n",
       "3.005793                   97caaa00-4add-43c0-a14b-14bf34fa2bd7  \n",
       "10.018248                  16a17e44-1143-4e95-935c-d3c9992244f7  \n",
       "30.095132                  9ea39cdb-d82d-49fa-911a-1f82f22f787d  \n",
       "100.245452                 0f0874be-c493-45a6-acca-44bd16bb4dea  \n",
       "468.637826                 6f4675d0-c3f3-46e1-80fd-6ccbf216aaca  \n",
       "493.887581                 fe961d41-1581-4f81-a832-ebeb752f49e8  "
      ]
     },
     "execution_count": 29,
     "metadata": {},
     "output_type": "execute_result"
    }
   ],
   "source": [
    "latency_vs_throughput_table(filt_10000_df)"
   ]
  },
  {
   "cell_type": "markdown",
   "metadata": {},
   "source": [
    "## Analyze 100 B events, 50,000 events/sec, various number of partitions and producers"
   ]
  },
  {
   "cell_type": "code",
   "execution_count": 75,
   "metadata": {},
   "outputs": [
    {
     "name": "stderr",
     "output_type": "stream",
     "text": [
      "filter_dataframe: No matching records after filtering on producerRate=[-1]\n"
     ]
    },
    {
     "data": {
      "text/plain": [
       "0"
      ]
     },
     "execution_count": 75,
     "metadata": {},
     "output_type": "execute_result"
    }
   ],
   "source": [
    "filt_50000eps_df = filter_dataframe(\n",
    "    filt_df,\n",
    "    messageSize=100,\n",
    "    producerRate=-1,\n",
    ").sort_values(['endToEndLatencyMs99Pct'], ascending=True)\n",
    "len(filt_50000eps_df)"
   ]
  },
  {
   "cell_type": "code",
   "execution_count": 20,
   "metadata": {},
   "outputs": [
    {
     "ename": "NameError",
     "evalue": "name 'filt_50000eps_df' is not defined",
     "output_type": "error",
     "traceback": [
      "\u001b[0;31m---------------------------------------------------------------------------\u001b[0m",
      "\u001b[0;31mNameError\u001b[0m                                 Traceback (most recent call last)",
      "\u001b[0;32m<ipython-input-20-625cc91db59a>\u001b[0m in \u001b[0;36m<module>\u001b[0;34m\u001b[0m\n\u001b[0;32m----> 1\u001b[0;31m \u001b[0mtake_varying_columns\u001b[0m\u001b[0;34m(\u001b[0m\u001b[0mfilt_50000eps_df\u001b[0m\u001b[0;34m[\u001b[0m\u001b[0mcols\u001b[0m\u001b[0;34m]\u001b[0m\u001b[0;34m)\u001b[0m\u001b[0;34m.\u001b[0m\u001b[0mhead\u001b[0m\u001b[0;34m(\u001b[0m\u001b[0;36m20\u001b[0m\u001b[0;34m)\u001b[0m\u001b[0;34m\u001b[0m\u001b[0;34m\u001b[0m\u001b[0m\n\u001b[0m",
      "\u001b[0;31mNameError\u001b[0m: name 'filt_50000eps_df' is not defined"
     ]
    }
   ],
   "source": [
    "take_varying_columns(filt_50000eps_df[cols]).head(20)"
   ]
  },
  {
   "cell_type": "markdown",
   "metadata": {},
   "source": [
    "# Analyze Latency Distribution"
   ]
  },
  {
   "cell_type": "code",
   "execution_count": 21,
   "metadata": {},
   "outputs": [
    {
     "ename": "NameError",
     "evalue": "name 'filt_50000eps_df' is not defined",
     "output_type": "error",
     "traceback": [
      "\u001b[0;31m---------------------------------------------------------------------------\u001b[0m",
      "\u001b[0;31mNameError\u001b[0m                                 Traceback (most recent call last)",
      "\u001b[0;32m<ipython-input-21-2fccc8d6bfb3>\u001b[0m in \u001b[0;36m<module>\u001b[0;34m\u001b[0m\n\u001b[0;32m----> 1\u001b[0;31m \u001b[0mtest_uuid\u001b[0m \u001b[0;34m=\u001b[0m \u001b[0mfilt_50000eps_df\u001b[0m\u001b[0;34m.\u001b[0m\u001b[0miloc\u001b[0m\u001b[0;34m[\u001b[0m\u001b[0;36m0\u001b[0m\u001b[0;34m]\u001b[0m\u001b[0;34m.\u001b[0m\u001b[0mname\u001b[0m\u001b[0;34m\u001b[0m\u001b[0;34m\u001b[0m\u001b[0m\n\u001b[0m\u001b[1;32m      2\u001b[0m \u001b[0mtest_uuid\u001b[0m\u001b[0;34m\u001b[0m\u001b[0;34m\u001b[0m\u001b[0m\n",
      "\u001b[0;31mNameError\u001b[0m: name 'filt_50000eps_df' is not defined"
     ]
    }
   ],
   "source": [
    "test_uuid = filt_50000eps_df.iloc[0].name\n",
    "test_uuid"
   ]
  },
  {
   "cell_type": "code",
   "execution_count": 22,
   "metadata": {},
   "outputs": [
    {
     "ename": "NameError",
     "evalue": "name 'clean_df' is not defined",
     "output_type": "error",
     "traceback": [
      "\u001b[0;31m---------------------------------------------------------------------------\u001b[0m",
      "\u001b[0;31mNameError\u001b[0m                                 Traceback (most recent call last)",
      "\u001b[0;32m<ipython-input-22-014832a90b7f>\u001b[0m in \u001b[0;36m<module>\u001b[0;34m\u001b[0m\n\u001b[0;32m----> 1\u001b[0;31m \u001b[0mdf\u001b[0m \u001b[0;34m=\u001b[0m \u001b[0mclean_df\u001b[0m\u001b[0;34m\u001b[0m\u001b[0;34m\u001b[0m\u001b[0m\n\u001b[0m\u001b[1;32m      2\u001b[0m \u001b[0mt\u001b[0m \u001b[0;34m=\u001b[0m \u001b[0mdf\u001b[0m\u001b[0;34m[\u001b[0m\u001b[0mdf\u001b[0m\u001b[0;34m.\u001b[0m\u001b[0mtest_uuid\u001b[0m\u001b[0;34m==\u001b[0m\u001b[0mtest_uuid\u001b[0m\u001b[0;34m]\u001b[0m\u001b[0;34m.\u001b[0m\u001b[0miloc\u001b[0m\u001b[0;34m[\u001b[0m\u001b[0;36m0\u001b[0m\u001b[0;34m]\u001b[0m\u001b[0;34m\u001b[0m\u001b[0;34m\u001b[0m\u001b[0m\n",
      "\u001b[0;31mNameError\u001b[0m: name 'clean_df' is not defined"
     ]
    }
   ],
   "source": [
    "df = clean_df\n",
    "t = df[df.test_uuid==test_uuid].iloc[0]"
   ]
  },
  {
   "cell_type": "code",
   "execution_count": 23,
   "metadata": {},
   "outputs": [
    {
     "ename": "NameError",
     "evalue": "name 't' is not defined",
     "output_type": "error",
     "traceback": [
      "\u001b[0;31m---------------------------------------------------------------------------\u001b[0m",
      "\u001b[0;31mNameError\u001b[0m                                 Traceback (most recent call last)",
      "\u001b[0;32m<ipython-input-23-f54a03c4e089>\u001b[0m in \u001b[0;36m<module>\u001b[0;34m\u001b[0m\n\u001b[1;32m      1\u001b[0m \u001b[0;31m# Cumulative Distribution Function\u001b[0m\u001b[0;34m\u001b[0m\u001b[0;34m\u001b[0m\u001b[0;34m\u001b[0m\u001b[0m\n\u001b[0;32m----> 2\u001b[0;31m \u001b[0mpubcdf\u001b[0m \u001b[0;34m=\u001b[0m \u001b[0mt\u001b[0m\u001b[0;34m.\u001b[0m\u001b[0maggregatedPublishLatencyQuantiles\u001b[0m\u001b[0;34m\u001b[0m\u001b[0;34m\u001b[0m\u001b[0m\n\u001b[0m\u001b[1;32m      3\u001b[0m \u001b[0mpubcdf\u001b[0m\u001b[0;34m.\u001b[0m\u001b[0mname\u001b[0m \u001b[0;34m=\u001b[0m \u001b[0;34m'Publish Latency CDF'\u001b[0m\u001b[0;34m\u001b[0m\u001b[0;34m\u001b[0m\u001b[0m\n",
      "\u001b[0;31mNameError\u001b[0m: name 't' is not defined"
     ]
    }
   ],
   "source": [
    "# Cumulative Distribution Function\n",
    "pubcdf = t.aggregatedPublishLatencyQuantiles\n",
    "pubcdf.name = 'Publish Latency CDF'"
   ]
  },
  {
   "cell_type": "code",
   "execution_count": 24,
   "metadata": {},
   "outputs": [
    {
     "ename": "NameError",
     "evalue": "name 'pubcdf' is not defined",
     "output_type": "error",
     "traceback": [
      "\u001b[0;31m---------------------------------------------------------------------------\u001b[0m",
      "\u001b[0;31mNameError\u001b[0m                                 Traceback (most recent call last)",
      "\u001b[0;32m<ipython-input-24-5a0f27a62191>\u001b[0m in \u001b[0;36m<module>\u001b[0;34m\u001b[0m\n\u001b[1;32m      1\u001b[0m \u001b[0;31m# Probability Distribution Function (latency histogram)\u001b[0m\u001b[0;34m\u001b[0m\u001b[0;34m\u001b[0m\u001b[0;34m\u001b[0m\u001b[0m\n\u001b[0;32m----> 2\u001b[0;31m \u001b[0mpubpdf\u001b[0m \u001b[0;34m=\u001b[0m \u001b[0mpd\u001b[0m\u001b[0;34m.\u001b[0m\u001b[0mSeries\u001b[0m\u001b[0;34m(\u001b[0m\u001b[0mindex\u001b[0m\u001b[0;34m=\u001b[0m\u001b[0mpubcdf\u001b[0m\u001b[0;34m.\u001b[0m\u001b[0mindex\u001b[0m\u001b[0;34m,\u001b[0m \u001b[0mdata\u001b[0m\u001b[0;34m=\u001b[0m\u001b[0mnp\u001b[0m\u001b[0;34m.\u001b[0m\u001b[0mgradient\u001b[0m\u001b[0;34m(\u001b[0m\u001b[0mpubcdf\u001b[0m\u001b[0;34m,\u001b[0m \u001b[0mpubcdf\u001b[0m\u001b[0;34m.\u001b[0m\u001b[0mindex\u001b[0m\u001b[0;34m.\u001b[0m\u001b[0mvalues\u001b[0m\u001b[0;34m)\u001b[0m\u001b[0;34m,\u001b[0m \u001b[0mname\u001b[0m\u001b[0;34m=\u001b[0m\u001b[0;34m'Publish Latency PDF'\u001b[0m\u001b[0;34m)\u001b[0m\u001b[0;34m\u001b[0m\u001b[0;34m\u001b[0m\u001b[0m\n\u001b[0m",
      "\u001b[0;31mNameError\u001b[0m: name 'pubcdf' is not defined"
     ]
    }
   ],
   "source": [
    "# Probability Distribution Function (latency histogram)\n",
    "pubpdf = pd.Series(index=pubcdf.index, data=np.gradient(pubcdf, pubcdf.index.values), name='Publish Latency PDF')"
   ]
  },
  {
   "cell_type": "code",
   "execution_count": 25,
   "metadata": {},
   "outputs": [
    {
     "ename": "NameError",
     "evalue": "name 'pubpdf' is not defined",
     "output_type": "error",
     "traceback": [
      "\u001b[0;31m---------------------------------------------------------------------------\u001b[0m",
      "\u001b[0;31mNameError\u001b[0m                                 Traceback (most recent call last)",
      "\u001b[0;32m<ipython-input-25-c3189d1c32c7>\u001b[0m in \u001b[0;36m<module>\u001b[0;34m\u001b[0m\n\u001b[1;32m      1\u001b[0m \u001b[0mfig0\u001b[0m\u001b[0;34m,\u001b[0m \u001b[0max0\u001b[0m \u001b[0;34m=\u001b[0m \u001b[0mplt\u001b[0m\u001b[0;34m.\u001b[0m\u001b[0msubplots\u001b[0m\u001b[0;34m(\u001b[0m\u001b[0;34m)\u001b[0m\u001b[0;34m\u001b[0m\u001b[0;34m\u001b[0m\u001b[0m\n\u001b[1;32m      2\u001b[0m \u001b[0max1\u001b[0m \u001b[0;34m=\u001b[0m \u001b[0max0\u001b[0m\u001b[0;34m.\u001b[0m\u001b[0mtwinx\u001b[0m\u001b[0;34m(\u001b[0m\u001b[0;34m)\u001b[0m\u001b[0;34m\u001b[0m\u001b[0;34m\u001b[0m\u001b[0m\n\u001b[0;32m----> 3\u001b[0;31m \u001b[0mpubpdf\u001b[0m\u001b[0;34m.\u001b[0m\u001b[0mplot\u001b[0m\u001b[0;34m(\u001b[0m\u001b[0max\u001b[0m\u001b[0;34m=\u001b[0m\u001b[0max0\u001b[0m\u001b[0;34m,\u001b[0m \u001b[0mxlim\u001b[0m\u001b[0;34m=\u001b[0m\u001b[0;34m[\u001b[0m\u001b[0;36m1\u001b[0m\u001b[0;34m,\u001b[0m\u001b[0;36m100\u001b[0m\u001b[0;34m]\u001b[0m\u001b[0;34m,\u001b[0m \u001b[0mylim\u001b[0m\u001b[0;34m=\u001b[0m\u001b[0;34m[\u001b[0m\u001b[0;36m0\u001b[0m\u001b[0;34m,\u001b[0m\u001b[0;32mNone\u001b[0m\u001b[0;34m]\u001b[0m\u001b[0;34m,\u001b[0m \u001b[0mstyle\u001b[0m\u001b[0;34m=\u001b[0m\u001b[0;34m'r'\u001b[0m\u001b[0;34m,\u001b[0m \u001b[0mtitle\u001b[0m\u001b[0;34m=\u001b[0m\u001b[0;34m'Publish Latency PDF and CDF'\u001b[0m\u001b[0;34m)\u001b[0m\u001b[0;34m\u001b[0m\u001b[0;34m\u001b[0m\u001b[0m\n\u001b[0m\u001b[1;32m      4\u001b[0m \u001b[0mpubcdf\u001b[0m\u001b[0;34m.\u001b[0m\u001b[0mplot\u001b[0m\u001b[0;34m(\u001b[0m\u001b[0max\u001b[0m\u001b[0;34m=\u001b[0m\u001b[0max1\u001b[0m\u001b[0;34m,\u001b[0m \u001b[0mxlim\u001b[0m\u001b[0;34m=\u001b[0m\u001b[0;34m[\u001b[0m\u001b[0;36m1\u001b[0m\u001b[0;34m,\u001b[0m\u001b[0;36m100\u001b[0m\u001b[0;34m]\u001b[0m\u001b[0;34m,\u001b[0m \u001b[0msecondary_y\u001b[0m\u001b[0;34m=\u001b[0m\u001b[0;32mTrue\u001b[0m\u001b[0;34m,\u001b[0m \u001b[0mlogx\u001b[0m\u001b[0;34m=\u001b[0m\u001b[0;32mTrue\u001b[0m\u001b[0;34m,\u001b[0m \u001b[0mylim\u001b[0m\u001b[0;34m=\u001b[0m\u001b[0;34m[\u001b[0m\u001b[0;36m0\u001b[0m\u001b[0;34m,\u001b[0m\u001b[0;36m1\u001b[0m\u001b[0;34m]\u001b[0m\u001b[0;34m)\u001b[0m\u001b[0;34m\u001b[0m\u001b[0;34m\u001b[0m\u001b[0m\n\u001b[1;32m      5\u001b[0m \u001b[0;31m# ax0.set_ylabel('PDF');\u001b[0m\u001b[0;34m\u001b[0m\u001b[0;34m\u001b[0m\u001b[0;34m\u001b[0m\u001b[0m\n",
      "\u001b[0;31mNameError\u001b[0m: name 'pubpdf' is not defined"
     ]
    },
    {
     "data": {
      "image/png": "[encoded data removed]",
      "text/plain": [
       "<Figure size 432x288 with 2 Axes>"
      ]
     },
     "metadata": {
      "needs_background": "light"
     },
     "output_type": "display_data"
    }
   ],
   "source": [
    "fig0, ax0 = plt.subplots()\n",
    "ax1 = ax0.twinx()\n",
    "pubpdf.plot(ax=ax0, xlim=[1,100], ylim=[0,None], style='r', title='Publish Latency PDF and CDF')\n",
    "pubcdf.plot(ax=ax1, xlim=[1,100], secondary_y=True, logx=True, ylim=[0,1])\n",
    "# ax0.set_ylabel('PDF');\n",
    "# ax1.set_ylabel('CDF');\n",
    "ax0.set_xlabel('Publish Latency (ms)');\n",
    "tick_formatter = matplotlib.ticker.LogFormatter()\n",
    "ax0.xaxis.set_major_formatter(tick_formatter)\n",
    "ax0.grid('on', which='both', axis='both')\n",
    "plt.show()\n",
    "plt.close()"
   ]
  },
  {
   "cell_type": "code",
   "execution_count": null,
   "metadata": {},
   "outputs": [],
   "source": [
    "# Cumulative Distribution Function\n",
    "e2ecdf = t.aggregatedEndToEndLatencyQuantiles\n",
    "e2ecdf.name = 'E2E Latency CDF'\n",
    "# Probability Distribution Function (latency histogram)\n",
    "e2epdf = pd.Series(index=e2ecdf.index, data=np.gradient(e2ecdf, e2ecdf.index.values), name='E2E Latency PDF')"
   ]
  },
  {
   "cell_type": "code",
   "execution_count": null,
   "metadata": {},
   "outputs": [],
   "source": [
    "fig0, ax0 = plt.subplots()\n",
    "ax1 = ax0.twinx()\n",
    "e2epdf.plot(ax=ax0, xlim=[1,100], ylim=[0,None], style='r', title='E2E Latency PDF and CDF')\n",
    "e2ecdf.plot(ax=ax1, xlim=[1,100], secondary_y=True, logx=True, ylim=[0,1])\n",
    "# ax0.set_ylabel('PDF');\n",
    "# ax1.set_ylabel('CDF');\n",
    "ax0.set_xlabel('E2E Latency (ms)');\n",
    "tick_formatter = matplotlib.ticker.LogFormatter()\n",
    "ax0.xaxis.set_major_formatter(tick_formatter)\n",
    "ax0.grid('on', which='both', axis='both')\n",
    "plt.show()\n",
    "plt.close()"
   ]
  },
  {
   "cell_type": "code",
   "execution_count": null,
   "metadata": {},
   "outputs": [],
   "source": [
    "# Combined publish and E2E latency CDF\n",
    "fig0, ax0 = plt.subplots()\n",
    "xlim=[1,25]\n",
    "pubcdf.plot(ax=ax0, xlim=xlim, logx=True, ylim=[0,1], legend=True, figsize=(10,8))\n",
    "e2ecdf.plot(ax=ax0, xlim=xlim, logx=True, ylim=[0,1], legend=True)\n",
    "ax0.set_xlabel('E2E Latency (ms)');\n",
    "tick_formatter = matplotlib.ticker.LogFormatter()\n",
    "ax0.xaxis.set_major_formatter(tick_formatter)\n",
    "ax0.grid('on', which='both', axis='both')\n",
    "plt.show()\n",
    "plt.close()"
   ]
  },
  {
   "cell_type": "markdown",
   "metadata": {},
   "source": [
    "## Compare Two Sets"
   ]
  },
  {
   "cell_type": "code",
   "execution_count": 26,
   "metadata": {},
   "outputs": [
    {
     "ename": "NameError",
     "evalue": "name 'clean_df' is not defined",
     "output_type": "error",
     "traceback": [
      "\u001b[0;31m---------------------------------------------------------------------------\u001b[0m",
      "\u001b[0;31mNameError\u001b[0m                                 Traceback (most recent call last)",
      "\u001b[0;32m<ipython-input-26-6d43913d06ea>\u001b[0m in \u001b[0;36m<module>\u001b[0;34m\u001b[0m\n\u001b[1;32m      1\u001b[0m \u001b[0;31m# Common filter\u001b[0m\u001b[0;34m\u001b[0m\u001b[0;34m\u001b[0m\u001b[0;34m\u001b[0m\u001b[0m\n\u001b[1;32m      2\u001b[0m filt_df = filter_dataframe(\n\u001b[0;32m----> 3\u001b[0;31m     \u001b[0mclean_df\u001b[0m\u001b[0;34m,\u001b[0m\u001b[0;34m\u001b[0m\u001b[0;34m\u001b[0m\u001b[0m\n\u001b[0m\u001b[1;32m      4\u001b[0m     \u001b[0mdriverName\u001b[0m\u001b[0;34m=\u001b[0m\u001b[0;34m'Pravega'\u001b[0m\u001b[0;34m,\u001b[0m\u001b[0;34m\u001b[0m\u001b[0;34m\u001b[0m\u001b[0m\n\u001b[1;32m      5\u001b[0m     \u001b[0mnumWorkloadWorkers\u001b[0m\u001b[0;34m=\u001b[0m\u001b[0;36m4\u001b[0m\u001b[0;34m,\u001b[0m\u001b[0;34m\u001b[0m\u001b[0;34m\u001b[0m\u001b[0m\n",
      "\u001b[0;31mNameError\u001b[0m: name 'clean_df' is not defined"
     ]
    }
   ],
   "source": [
    "# Common filter\n",
    "filt_df = filter_dataframe(\n",
    "    clean_df,\n",
    "    driverName='Pravega',\n",
    "    numWorkloadWorkers=4, \n",
    "    topics=1,\n",
    "    testDurationMinutes=15,\n",
    "    size_of_test_batch=(2,1000), # between\n",
    "    aggregatedEndToEndLatency50pct=(1,1e6),\n",
    "    messageSize=100,\n",
    "    producersPerTopic=32,\n",
    "    partitionsPerTopic=16,    \n",
    ")\n",
    "len(filt_df)"
   ]
  },
  {
   "cell_type": "code",
   "execution_count": 27,
   "metadata": {},
   "outputs": [
    {
     "ename": "NameError",
     "evalue": "name 'filt_df' is not defined",
     "output_type": "error",
     "traceback": [
      "\u001b[0;31m---------------------------------------------------------------------------\u001b[0m",
      "\u001b[0;31mNameError\u001b[0m                                 Traceback (most recent call last)",
      "\u001b[0;32m<ipython-input-27-17e874cd9649>\u001b[0m in \u001b[0;36m<module>\u001b[0;34m\u001b[0m\n\u001b[1;32m      1\u001b[0m \u001b[0;31m# Set 1\u001b[0m\u001b[0;34m\u001b[0m\u001b[0;34m\u001b[0m\u001b[0;34m\u001b[0m\u001b[0m\n\u001b[1;32m      2\u001b[0m filt1_df = filter_dataframe(\n\u001b[0;32m----> 3\u001b[0;31m     \u001b[0mfilt_df\u001b[0m\u001b[0;34m,\u001b[0m\u001b[0;34m\u001b[0m\u001b[0;34m\u001b[0m\u001b[0m\n\u001b[0m\u001b[1;32m      4\u001b[0m     \u001b[0mpravegaVersion\u001b[0m\u001b[0;34m=\u001b[0m\u001b[0;34m'0.6.0-2361.f273314'\u001b[0m\u001b[0;34m,\u001b[0m\u001b[0;34m\u001b[0m\u001b[0;34m\u001b[0m\u001b[0m\n\u001b[1;32m      5\u001b[0m )\n",
      "\u001b[0;31mNameError\u001b[0m: name 'filt_df' is not defined"
     ]
    }
   ],
   "source": [
    "# Set 1\n",
    "filt1_df = filter_dataframe(\n",
    "    filt_df,\n",
    "    pravegaVersion='0.6.0-2361.f273314',\n",
    ")\n",
    "len(filt1_df)"
   ]
  },
  {
   "cell_type": "code",
   "execution_count": 28,
   "metadata": {},
   "outputs": [
    {
     "ename": "NameError",
     "evalue": "name 'filt_df' is not defined",
     "output_type": "error",
     "traceback": [
      "\u001b[0;31m---------------------------------------------------------------------------\u001b[0m",
      "\u001b[0;31mNameError\u001b[0m                                 Traceback (most recent call last)",
      "\u001b[0;32m<ipython-input-28-e62ef9d734bb>\u001b[0m in \u001b[0;36m<module>\u001b[0;34m\u001b[0m\n\u001b[1;32m      1\u001b[0m \u001b[0;31m# Set 2\u001b[0m\u001b[0;34m\u001b[0m\u001b[0;34m\u001b[0m\u001b[0;34m\u001b[0m\u001b[0m\n\u001b[1;32m      2\u001b[0m filt2_df = filter_dataframe(\n\u001b[0;32m----> 3\u001b[0;31m     \u001b[0mfilt_df\u001b[0m\u001b[0;34m,\u001b[0m\u001b[0;34m\u001b[0m\u001b[0;34m\u001b[0m\u001b[0m\n\u001b[0m\u001b[1;32m      4\u001b[0m     \u001b[0mpravegaVersion\u001b[0m\u001b[0;34m=\u001b[0m\u001b[0;34m'0.6.0-2386.23b7340'\u001b[0m\u001b[0;34m,\u001b[0m\u001b[0;34m\u001b[0m\u001b[0;34m\u001b[0m\u001b[0m\n\u001b[1;32m      5\u001b[0m )\n",
      "\u001b[0;31mNameError\u001b[0m: name 'filt_df' is not defined"
     ]
    }
   ],
   "source": [
    "# Set 2\n",
    "filt2_df = filter_dataframe(\n",
    "    filt_df,\n",
    "    pravegaVersion='0.6.0-2386.23b7340',\n",
    ")\n",
    "len(filt2_df)"
   ]
  },
  {
   "cell_type": "code",
   "execution_count": 29,
   "metadata": {},
   "outputs": [
    {
     "ename": "NameError",
     "evalue": "name 'filt1_df' is not defined",
     "output_type": "error",
     "traceback": [
      "\u001b[0;31m---------------------------------------------------------------------------\u001b[0m",
      "\u001b[0;31mNameError\u001b[0m                                 Traceback (most recent call last)",
      "\u001b[0;32m<ipython-input-29-f9d88f6a44a5>\u001b[0m in \u001b[0;36m<module>\u001b[0;34m\u001b[0m\n\u001b[0;32m----> 1\u001b[0;31m \u001b[0mdfs\u001b[0m \u001b[0;34m=\u001b[0m \u001b[0;34m[\u001b[0m\u001b[0mfilt1_df\u001b[0m\u001b[0;34m,\u001b[0m \u001b[0mfilt2_df\u001b[0m\u001b[0;34m]\u001b[0m\u001b[0;34m\u001b[0m\u001b[0;34m\u001b[0m\u001b[0m\n\u001b[0m\u001b[1;32m      2\u001b[0m \u001b[0mtake_varying_columns\u001b[0m\u001b[0;34m(\u001b[0m\u001b[0mpd\u001b[0m\u001b[0;34m.\u001b[0m\u001b[0mconcat\u001b[0m\u001b[0;34m(\u001b[0m\u001b[0mdfs\u001b[0m\u001b[0;34m)\u001b[0m\u001b[0;34m[\u001b[0m\u001b[0mparam_cols\u001b[0m\u001b[0;34m]\u001b[0m\u001b[0;34m)\u001b[0m\u001b[0;34m.\u001b[0m\u001b[0mdrop_duplicates\u001b[0m\u001b[0;34m(\u001b[0m\u001b[0;34m)\u001b[0m\u001b[0;34m\u001b[0m\u001b[0;34m\u001b[0m\u001b[0m\n",
      "\u001b[0;31mNameError\u001b[0m: name 'filt1_df' is not defined"
     ]
    }
   ],
   "source": [
    "dfs = [filt1_df, filt2_df]\n",
    "take_varying_columns(pd.concat(dfs)[param_cols]).drop_duplicates()"
   ]
  },
  {
   "cell_type": "code",
   "execution_count": 30,
   "metadata": {},
   "outputs": [],
   "source": [
    "def plot_latency_vs_throughput_comparison(dfs, legend_cols=None, latencyMetric='Publish'):\n",
    "    fig0, ax0 = plt.subplots()\n",
    "    cmap = plt.get_cmap('Set1')\n",
    "    colors = cmap.colors[0:len(dfs)]\n",
    "    for index, (df, color) in enumerate(zip(dfs, colors)):\n",
    "        df = df.set_index(['publishRateMBPerSecMean']).sort_index()\n",
    "        name_cols = df.iloc[0][legend_cols]\n",
    "        name = ','.join(['%s=%s' % item for item in name_cols.to_dict().items()])\n",
    "        for percentile, style in [('50',':x'), ('95','-.x'), ('99','-x')]:\n",
    "            plot_df = df[['aggregated%sLatency%spct' % (latencyMetric, percentile)]]\n",
    "            plot_df.columns = ['%s %s Latency p%s' % (name, latencyMetric, percentile)]\n",
    "            plot_df.index.name = 'Publish Throughput (MB/s)'\n",
    "            plot_df.plot(\n",
    "                ax=ax0,\n",
    "                logx=True, \n",
    "                logy=True,\n",
    "                figsize=(10,8),\n",
    "                grid=True,\n",
    "                style=style,\n",
    "                color=color,\n",
    "            )\n",
    "    ax0.set_ylabel('Latency (ms)');\n",
    "    tick_formatter = matplotlib.ticker.LogFormatter()\n",
    "    ax0.xaxis.set_major_formatter(tick_formatter)\n",
    "    ax0.yaxis.set_major_formatter(tick_formatter)\n",
    "    ax0.grid('on', which='both', axis='both')"
   ]
  },
  {
   "cell_type": "code",
   "execution_count": 31,
   "metadata": {},
   "outputs": [
    {
     "ename": "NameError",
     "evalue": "name 'filt1_df' is not defined",
     "output_type": "error",
     "traceback": [
      "\u001b[0;31m---------------------------------------------------------------------------\u001b[0m",
      "\u001b[0;31mNameError\u001b[0m                                 Traceback (most recent call last)",
      "\u001b[0;32m<ipython-input-31-d271989a3759>\u001b[0m in \u001b[0;36m<module>\u001b[0;34m\u001b[0m\n\u001b[0;32m----> 1\u001b[0;31m \u001b[0mplot_latency_vs_throughput_comparison\u001b[0m\u001b[0;34m(\u001b[0m\u001b[0;34m[\u001b[0m\u001b[0mfilt1_df\u001b[0m\u001b[0;34m,\u001b[0m \u001b[0mfilt2_df\u001b[0m\u001b[0;34m]\u001b[0m\u001b[0;34m,\u001b[0m \u001b[0mlegend_cols\u001b[0m\u001b[0;34m=\u001b[0m\u001b[0;34m[\u001b[0m\u001b[0;34m'pravegaVersion'\u001b[0m\u001b[0;34m]\u001b[0m\u001b[0;34m,\u001b[0m \u001b[0mlatencyMetric\u001b[0m\u001b[0;34m=\u001b[0m\u001b[0;34m'Publish'\u001b[0m\u001b[0;34m)\u001b[0m\u001b[0;34m\u001b[0m\u001b[0;34m\u001b[0m\u001b[0m\n\u001b[0m",
      "\u001b[0;31mNameError\u001b[0m: name 'filt1_df' is not defined"
     ]
    }
   ],
   "source": [
    "plot_latency_vs_throughput_comparison([filt1_df, filt2_df], legend_cols=['pravegaVersion'], latencyMetric='Publish')"
   ]
  },
  {
   "cell_type": "code",
   "execution_count": 32,
   "metadata": {},
   "outputs": [
    {
     "ename": "NameError",
     "evalue": "name 'filt1_df' is not defined",
     "output_type": "error",
     "traceback": [
      "\u001b[0;31m---------------------------------------------------------------------------\u001b[0m",
      "\u001b[0;31mNameError\u001b[0m                                 Traceback (most recent call last)",
      "\u001b[0;32m<ipython-input-32-c86bcc0e3090>\u001b[0m in \u001b[0;36m<module>\u001b[0;34m\u001b[0m\n\u001b[0;32m----> 1\u001b[0;31m \u001b[0mplot_latency_vs_throughput_comparison\u001b[0m\u001b[0;34m(\u001b[0m\u001b[0;34m[\u001b[0m\u001b[0mfilt1_df\u001b[0m\u001b[0;34m,\u001b[0m \u001b[0mfilt2_df\u001b[0m\u001b[0;34m]\u001b[0m\u001b[0;34m,\u001b[0m \u001b[0mlegend_cols\u001b[0m\u001b[0;34m=\u001b[0m\u001b[0;34m[\u001b[0m\u001b[0;34m'pravegaVersion'\u001b[0m\u001b[0;34m]\u001b[0m\u001b[0;34m,\u001b[0m \u001b[0mlatencyMetric\u001b[0m\u001b[0;34m=\u001b[0m\u001b[0;34m'EndToEnd'\u001b[0m\u001b[0;34m)\u001b[0m\u001b[0;34m\u001b[0m\u001b[0;34m\u001b[0m\u001b[0m\n\u001b[0m",
      "\u001b[0;31mNameError\u001b[0m: name 'filt1_df' is not defined"
     ]
    }
   ],
   "source": [
    "plot_latency_vs_throughput_comparison([filt1_df, filt2_df], legend_cols=['pravegaVersion'], latencyMetric='EndToEnd')"
   ]
  },
  {
   "cell_type": "code",
   "execution_count": null,
   "metadata": {},
   "outputs": [],
   "source": []
  },
  {
   "cell_type": "code",
   "execution_count": null,
   "metadata": {},
   "outputs": [],
   "source": []
  },
  {
   "cell_type": "code",
   "execution_count": null,
   "metadata": {},
   "outputs": [],
   "source": []
  },
  {
   "cell_type": "code",
   "execution_count": null,
   "metadata": {},
   "outputs": [],
   "source": []
  },
  {
   "cell_type": "code",
   "execution_count": null,
   "metadata": {},
   "outputs": [],
   "source": []
  },
  {
   "cell_type": "code",
   "execution_count": null,
   "metadata": {},
   "outputs": [],
   "source": []
  }
 ],
 "metadata": {
  "kernelspec": {
   "display_name": "Python 3",
   "language": "python",
   "name": "python3"
  },
  "language_info": {
   "codemirror_mode": {
    "name": "ipython",
    "version": 3
   },
   "file_extension": ".py",
   "mimetype": "text/x-python",
   "name": "python",
   "nbconvert_exporter": "python",
   "pygments_lexer": "ipython3",
   "version": "3.7.3"
  }
 },
 "nbformat": 4,
 "nbformat_minor": 4
}
