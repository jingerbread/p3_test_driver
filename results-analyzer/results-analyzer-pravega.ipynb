{
 "cells": [
  {
   "cell_type": "code",
   "execution_count": 46,
   "metadata": {},
   "outputs": [
    {
     "name": "stdout",
     "output_type": "stream",
     "text": [
      "Requirement already satisfied: p3_data in /opt/conda/lib/python3.7/site-packages (2.0.2)\n",
      "Requirement already satisfied: six in /opt/conda/lib/python3.7/site-packages (from p3_data) (1.12.0)\n",
      "Requirement already satisfied: sklearn in /opt/conda/lib/python3.7/site-packages (from p3_data) (0.0)\n",
      "Requirement already satisfied: numpy in /opt/conda/lib/python3.7/site-packages (from p3_data) (1.17.2)\n",
      "Requirement already satisfied: ipywidgets in /opt/conda/lib/python3.7/site-packages (from p3_data) (7.5.1)\n",
      "Requirement already satisfied: IPython in /opt/conda/lib/python3.7/site-packages (from p3_data) (7.8.0)\n",
      "Requirement already satisfied: pandas in /opt/conda/lib/python3.7/site-packages (from p3_data) (0.25.1)\n",
      "Requirement already satisfied: scipy in /opt/conda/lib/python3.7/site-packages (from p3_data) (1.3.1)\n",
      "Requirement already satisfied: PyYaml in /opt/conda/lib/python3.7/site-packages (from p3_data) (5.1.2)\n",
      "Requirement already satisfied: matplotlib in /opt/conda/lib/python3.7/site-packages (from p3_data) (3.1.1)\n",
      "Requirement already satisfied: scikit-learn in /opt/conda/lib/python3.7/site-packages (from sklearn->p3_data) (0.21.3)\n",
      "Requirement already satisfied: widgetsnbextension~=3.5.0 in /opt/conda/lib/python3.7/site-packages (from ipywidgets->p3_data) (3.5.1)\n",
      "Requirement already satisfied: traitlets>=4.3.1 in /opt/conda/lib/python3.7/site-packages (from ipywidgets->p3_data) (4.3.2)\n",
      "Requirement already satisfied: ipykernel>=4.5.1 in /opt/conda/lib/python3.7/site-packages (from ipywidgets->p3_data) (5.1.2)\n",
      "Requirement already satisfied: nbformat>=4.2.0 in /opt/conda/lib/python3.7/site-packages (from ipywidgets->p3_data) (4.4.0)\n",
      "Requirement already satisfied: prompt-toolkit<2.1.0,>=2.0.0 in /opt/conda/lib/python3.7/site-packages (from IPython->p3_data) (2.0.9)\n",
      "Requirement already satisfied: jedi>=0.10 in /opt/conda/lib/python3.7/site-packages (from IPython->p3_data) (0.15.1)\n",
      "Requirement already satisfied: setuptools>=18.5 in /opt/conda/lib/python3.7/site-packages (from IPython->p3_data) (41.0.1)\n",
      "Requirement already satisfied: backcall in /opt/conda/lib/python3.7/site-packages (from IPython->p3_data) (0.1.0)\n",
      "Requirement already satisfied: pickleshare in /opt/conda/lib/python3.7/site-packages (from IPython->p3_data) (0.7.5)\n",
      "Requirement already satisfied: pexpect; sys_platform != \"win32\" in /opt/conda/lib/python3.7/site-packages (from IPython->p3_data) (4.7.0)\n",
      "Requirement already satisfied: decorator in /opt/conda/lib/python3.7/site-packages (from IPython->p3_data) (4.4.0)\n",
      "Requirement already satisfied: pygments in /opt/conda/lib/python3.7/site-packages (from IPython->p3_data) (2.4.2)\n",
      "Requirement already satisfied: pytz>=2017.2 in /opt/conda/lib/python3.7/site-packages (from pandas->p3_data) (2019.2)\n",
      "Requirement already satisfied: python-dateutil>=2.6.1 in /opt/conda/lib/python3.7/site-packages (from pandas->p3_data) (2.8.0)\n",
      "Requirement already satisfied: kiwisolver>=1.0.1 in /opt/conda/lib/python3.7/site-packages (from matplotlib->p3_data) (1.1.0)\n",
      "Requirement already satisfied: cycler>=0.10 in /opt/conda/lib/python3.7/site-packages (from matplotlib->p3_data) (0.10.0)\n",
      "Requirement already satisfied: pyparsing!=2.0.4,!=2.1.2,!=2.1.6,>=2.0.1 in /opt/conda/lib/python3.7/site-packages (from matplotlib->p3_data) (2.4.2)\n",
      "Requirement already satisfied: joblib>=0.11 in /opt/conda/lib/python3.7/site-packages (from scikit-learn->sklearn->p3_data) (0.13.2)\n",
      "Requirement already satisfied: notebook>=4.4.1 in /opt/conda/lib/python3.7/site-packages (from widgetsnbextension~=3.5.0->ipywidgets->p3_data) (6.0.0)\n",
      "Requirement already satisfied: ipython_genutils in /opt/conda/lib/python3.7/site-packages (from traitlets>=4.3.1->ipywidgets->p3_data) (0.2.0)\n",
      "Requirement already satisfied: jupyter-client in /opt/conda/lib/python3.7/site-packages (from ipykernel>=4.5.1->ipywidgets->p3_data) (5.3.1)\n",
      "Requirement already satisfied: tornado>=4.2 in /opt/conda/lib/python3.7/site-packages (from ipykernel>=4.5.1->ipywidgets->p3_data) (6.0.3)\n",
      "Requirement already satisfied: jsonschema!=2.5.0,>=2.4 in /opt/conda/lib/python3.7/site-packages (from nbformat>=4.2.0->ipywidgets->p3_data) (3.0.2)\n",
      "Requirement already satisfied: jupyter_core in /opt/conda/lib/python3.7/site-packages (from nbformat>=4.2.0->ipywidgets->p3_data) (4.4.0)\n",
      "Requirement already satisfied: wcwidth in /opt/conda/lib/python3.7/site-packages (from prompt-toolkit<2.1.0,>=2.0.0->IPython->p3_data) (0.1.7)\n",
      "Requirement already satisfied: parso>=0.5.0 in /opt/conda/lib/python3.7/site-packages (from jedi>=0.10->IPython->p3_data) (0.5.1)\n",
      "Requirement already satisfied: ptyprocess>=0.5 in /opt/conda/lib/python3.7/site-packages (from pexpect; sys_platform != \"win32\"->IPython->p3_data) (0.6.0)\n",
      "Requirement already satisfied: nbconvert in /opt/conda/lib/python3.7/site-packages (from notebook>=4.4.1->widgetsnbextension~=3.5.0->ipywidgets->p3_data) (5.6.0)\n",
      "Requirement already satisfied: terminado>=0.8.1 in /opt/conda/lib/python3.7/site-packages (from notebook>=4.4.1->widgetsnbextension~=3.5.0->ipywidgets->p3_data) (0.8.2)\n",
      "Requirement already satisfied: prometheus-client in /opt/conda/lib/python3.7/site-packages (from notebook>=4.4.1->widgetsnbextension~=3.5.0->ipywidgets->p3_data) (0.7.1)\n",
      "Requirement already satisfied: Send2Trash in /opt/conda/lib/python3.7/site-packages (from notebook>=4.4.1->widgetsnbextension~=3.5.0->ipywidgets->p3_data) (1.5.0)\n",
      "Requirement already satisfied: pyzmq>=17 in /opt/conda/lib/python3.7/site-packages (from notebook>=4.4.1->widgetsnbextension~=3.5.0->ipywidgets->p3_data) (18.0.2)\n",
      "Requirement already satisfied: jinja2 in /opt/conda/lib/python3.7/site-packages (from notebook>=4.4.1->widgetsnbextension~=3.5.0->ipywidgets->p3_data) (2.10.1)\n",
      "Requirement already satisfied: pyrsistent>=0.14.0 in /opt/conda/lib/python3.7/site-packages (from jsonschema!=2.5.0,>=2.4->nbformat>=4.2.0->ipywidgets->p3_data) (0.15.4)\n",
      "Requirement already satisfied: attrs>=17.4.0 in /opt/conda/lib/python3.7/site-packages (from jsonschema!=2.5.0,>=2.4->nbformat>=4.2.0->ipywidgets->p3_data) (19.1.0)\n",
      "Requirement already satisfied: mistune<2,>=0.8.1 in /opt/conda/lib/python3.7/site-packages (from nbconvert->notebook>=4.4.1->widgetsnbextension~=3.5.0->ipywidgets->p3_data) (0.8.4)\n",
      "Requirement already satisfied: pandocfilters>=1.4.1 in /opt/conda/lib/python3.7/site-packages (from nbconvert->notebook>=4.4.1->widgetsnbextension~=3.5.0->ipywidgets->p3_data) (1.4.2)\n",
      "Requirement already satisfied: defusedxml in /opt/conda/lib/python3.7/site-packages (from nbconvert->notebook>=4.4.1->widgetsnbextension~=3.5.0->ipywidgets->p3_data) (0.5.0)\n",
      "Requirement already satisfied: bleach in /opt/conda/lib/python3.7/site-packages (from nbconvert->notebook>=4.4.1->widgetsnbextension~=3.5.0->ipywidgets->p3_data) (3.1.0)\n",
      "Requirement already satisfied: entrypoints>=0.2.2 in /opt/conda/lib/python3.7/site-packages (from nbconvert->notebook>=4.4.1->widgetsnbextension~=3.5.0->ipywidgets->p3_data) (0.3)\n",
      "Requirement already satisfied: testpath in /opt/conda/lib/python3.7/site-packages (from nbconvert->notebook>=4.4.1->widgetsnbextension~=3.5.0->ipywidgets->p3_data) (0.4.2)\n",
      "Requirement already satisfied: MarkupSafe>=0.23 in /opt/conda/lib/python3.7/site-packages (from jinja2->notebook>=4.4.1->widgetsnbextension~=3.5.0->ipywidgets->p3_data) (1.1.1)\n",
      "Requirement already satisfied: webencodings in /opt/conda/lib/python3.7/site-packages (from bleach->nbconvert->notebook>=4.4.1->widgetsnbextension~=3.5.0->ipywidgets->p3_data) (0.5.1)\n"
     ]
    }
   ],
   "source": [
    "!pip install p3_data"
   ]
  },
  {
   "cell_type": "code",
   "execution_count": 47,
   "metadata": {},
   "outputs": [],
   "source": [
    "%matplotlib inline\n",
    "import pandas as pd\n",
    "import numpy as np\n",
    "import matplotlib\n",
    "import matplotlib.pylab as plt\n",
    "import matplotlib.dates as mdates\n",
    "import matplotlib.cm as cm\n",
    "import seaborn as sns\n",
    "import json\n",
    "from io import StringIO\n",
    "import importlib"
   ]
  },
  {
   "cell_type": "code",
   "execution_count": 48,
   "metadata": {},
   "outputs": [],
   "source": [
    "import p3_data\n",
    "from p3_data import (glob_file_list, load_json_from_file, merge_dicts, plot_groups, \n",
    "    get_varying_column_names, filter_dataframe, take_varying_columns,\n",
    "    load_json_records_as_dataframe)"
   ]
  },
  {
   "cell_type": "code",
   "execution_count": 50,
   "metadata": {},
   "outputs": [
    {
     "name": "stdout",
     "output_type": "stream",
     "text": [
      "Loading records from 23 files...\n"
     ]
    }
   ],
   "source": [
    "# Load result files from P3 Test Driver\n",
    "src_files = []\n",
    "src_files += ['../../no_netty_comparison/manual_tests_no_netty/*.json']\n",
    "src_files += ['../../no_netty_comparison/data/p3_test_driver/results/*.json']\n",
    "raw_df = load_json_records_as_dataframe(src=src_files, ignore_error=True)"
   ]
  },
  {
   "cell_type": "code",
   "execution_count": 51,
   "metadata": {},
   "outputs": [],
   "source": [
    "# Clean raw results\n",
    "def clean_result(result):\n",
    "    try:\n",
    "        r = result.copy()\n",
    "        r['utc_begin'] = pd.to_datetime(r['utc_begin'], utc=True)\n",
    "        r['utc_end'] = pd.to_datetime(r['utc_end'], utc=True)\n",
    "        r['git_commit'] = r['git_commit'].split(' ')[0]\n",
    "        r['driverName'] = r['driver']['name']\n",
    "        if r['driverName'] == 'Pulsar':\n",
    "            r = merge_dicts(r, r['driver']['client']['persistence'])\n",
    "        r = merge_dicts(r, r['workload'])\n",
    "        del r['workload']\n",
    "        r = merge_dicts(r, r['omb_results'])\n",
    "        if 'ansible_vars' in r and isinstance(r['ansible_vars'], dict):\n",
    "            r = merge_dicts(r, r['ansible_vars'])\n",
    "        if r['driverName'] == 'Pravega':\n",
    "            if 'pravegaVersion' not in r:\n",
    "                r['pravegaVersion'] = '0.6.0-2361.f273314-SNAPSHOT'\n",
    "            r['pravegaVersion'] = r['pravegaVersion'].replace('-SNAPSHOT','')\n",
    "        for k in list(r.keys()):\n",
    "            if 'Quantiles' in k:\n",
    "                r[k] = pd.Series(data=[float(q) for q in r[k].keys()], index=list(r[k].values())).sort_index() / 100\n",
    "            elif isinstance(r[k], list) and 'Rate' in k:\n",
    "                r[k] = pd.Series(r[k])\n",
    "                r['%sMean' % k] = r[k].mean()\n",
    "        r['numWorkloadWorkers'] = int(r.get('numWorkers', 0))\n",
    "        r['throttleEventsPerSec'] = r['producerRate']\n",
    "        r['publishRateEventsPerSecMean'] = r['publishRateMean']\n",
    "        r['publishRateMBPerSecMean'] = r['publishRateMean'] * r['messageSize'] * 1e-6\n",
    "        r['publishLatencyMsAvg'] = r['aggregatedPublishLatencyAvg']\n",
    "        r['publishLatencyMs50Pct'] = r['aggregatedPublishLatency50pct']\n",
    "        r['publishLatencyMs99Pct'] = r['aggregatedPublishLatency99pct']\n",
    "        r['endToEndLatencyMsAvg'] = r['aggregatedEndToEndLatencyAvg']\n",
    "        r['endToEndLatencyMs50Pct'] = r['aggregatedEndToEndLatency50pct']\n",
    "        r['endToEndLatencyMs99Pct'] = r['aggregatedEndToEndLatency99pct']\n",
    "        return pd.Series(r)\n",
    "    except Exception as e:\n",
    "        print('ERROR: %s: %s' % (r['test_uuid'], e))\n",
    "        # raise e"
   ]
  },
  {
   "cell_type": "code",
   "execution_count": 52,
   "metadata": {},
   "outputs": [],
   "source": [
    "# r = clean_result(raw_df.iloc[-1])\n",
    "# pd.DataFrame(r)"
   ]
  },
  {
   "cell_type": "code",
   "execution_count": 53,
   "metadata": {},
   "outputs": [
    {
     "name": "stdout",
     "output_type": "stream",
     "text": [
      "ERROR: 1a5511b0-265c-4089-9255-e01e5bf1a24a: 'float' object is not iterable\n",
      "ERROR: 5731b314-8711-440c-aa9a-1e4725b47225: 'float' object is not iterable\n",
      "ERROR: feb6f7f3-6201-4855-b0d3-9ff0a77cc78e: 'float' object is not iterable\n"
     ]
    }
   ],
   "source": [
    "clean_df = raw_df.apply(clean_result, axis=1)\n",
    "clean_df = clean_df.set_index('test_uuid', drop=False)\n",
    "clean_df = clean_df[clean_df.error==False]\n",
    "clean_df = clean_df.sort_values(['utc_begin'])"
   ]
  },
  {
   "cell_type": "code",
   "execution_count": 54,
   "metadata": {},
   "outputs": [
    {
     "data": {
      "text/plain": [
       "array(['ansible', 'ansible_vars', 'aws-ec2', 'build', 'command_timed_out',\n",
       "       'docker', 'driver', 'elapsed_sec', 'error', 'errors', 'exit_code',\n",
       "       'git_commit', 'kubernetes', 'localWorker', 'max_test_attempts',\n",
       "       'noop', 'numWorkers', 'omb_results', 'omb_workers', 'output',\n",
       "       'print_output', 'record_utc', 'record_uuid', 'result_filename',\n",
       "       'run_as_test', 'sequence_in_test_batch', 'size_of_test_batch',\n",
       "       'ssh_host', 'ssh_identity_file', 'ssh_user', 'status_html',\n",
       "       'tarball', 'terraform', 'terraform_show', 'test', 'test_attempt',\n",
       "       'test_batch_uuid', 'test_desc', 'test_driver_log_filename',\n",
       "       'test_driver_version', 'test_uuid', 'undeploy', 'utc_begin',\n",
       "       'utc_end', 'loaded_filename', 'driverName',\n",
       "       'consumerBacklogSizeGB', 'consumerPerSubscription',\n",
       "       'keyDistributor', 'messageSize', 'name', 'partitionsPerTopic',\n",
       "       'payloadFile', 'producerRate', 'producersPerTopic',\n",
       "       'subscriptionsPerTopic', 'testDurationMinutes', 'topics',\n",
       "       'aggregatedEndToEndLatency50pct', 'aggregatedEndToEndLatency75pct',\n",
       "       'aggregatedEndToEndLatency95pct',\n",
       "       'aggregatedEndToEndLatency9999pct',\n",
       "       'aggregatedEndToEndLatency999pct',\n",
       "       'aggregatedEndToEndLatency99pct', 'aggregatedEndToEndLatencyAvg',\n",
       "       'aggregatedEndToEndLatencyMax',\n",
       "       'aggregatedEndToEndLatencyQuantiles',\n",
       "       'aggregatedPublishLatency50pct', 'aggregatedPublishLatency75pct',\n",
       "       'aggregatedPublishLatency95pct', 'aggregatedPublishLatency9999pct',\n",
       "       'aggregatedPublishLatency999pct', 'aggregatedPublishLatency99pct',\n",
       "       'aggregatedPublishLatencyAvg', 'aggregatedPublishLatencyMax',\n",
       "       'aggregatedPublishLatencyQuantiles', 'backlog', 'consumeRate',\n",
       "       'endToEndLatency50pct', 'endToEndLatency75pct',\n",
       "       'endToEndLatency95pct', 'endToEndLatency9999pct',\n",
       "       'endToEndLatency999pct', 'endToEndLatency99pct',\n",
       "       'endToEndLatencyAvg', 'endToEndLatencyMax', 'publishLatency50pct',\n",
       "       'publishLatency75pct', 'publishLatency95pct',\n",
       "       'publishLatency9999pct', 'publishLatency999pct',\n",
       "       'publishLatency99pct', 'publishLatencyAvg', 'publishLatencyMax',\n",
       "       'publishRate', 'workload', 'bookkeeperVersion',\n",
       "       'pravegaContainersPerSegmentStore', 'pravegaVersion',\n",
       "       'prometheusVersion', 'zookeeperVersion', 'consumeRateMean',\n",
       "       'publishRateMean', 'numWorkloadWorkers', 'throttleEventsPerSec',\n",
       "       'publishRateEventsPerSecMean', 'publishRateMBPerSecMean',\n",
       "       'publishLatencyMsAvg', 'publishLatencyMs50Pct',\n",
       "       'publishLatencyMs99Pct', 'endToEndLatencyMsAvg',\n",
       "       'endToEndLatencyMs50Pct', 'endToEndLatencyMs99Pct'], dtype=object)"
      ]
     },
     "execution_count": 54,
     "metadata": {},
     "output_type": "execute_result"
    }
   ],
   "source": [
    "# Show list of columns\n",
    "clean_df.columns.values"
   ]
  },
  {
   "cell_type": "code",
   "execution_count": 55,
   "metadata": {},
   "outputs": [],
   "source": [
    "# Define columns that identify test parameters\n",
    "param_cols = [\n",
    "    'numWorkloadWorkers',\n",
    "    'topics',\n",
    "    'partitionsPerTopic',\n",
    "    'producersPerTopic',\n",
    "    'subscriptionsPerTopic',\n",
    "    'consumerPerSubscription',\n",
    "    'testDurationMinutes',\n",
    "    'keyDistributor',\n",
    "    'git_commit',\n",
    "    'pravegaVersion',\n",
    "]"
   ]
  },
  {
   "cell_type": "code",
   "execution_count": 56,
   "metadata": {},
   "outputs": [],
   "source": [
    "# Define columns that are the output of the experiments\n",
    "output_cols = [\n",
    "    'publishRateEventsPerSecMean',\n",
    "    'publishRateMBPerSecMean',\n",
    "    'publishLatencyMs50Pct',\n",
    "    'publishLatencyMs99Pct',\n",
    "    'endToEndLatencyMs50Pct',\n",
    "    'endToEndLatencyMs99Pct',\n",
    "    'utc_begin',    \n",
    "]"
   ]
  },
  {
   "cell_type": "code",
   "execution_count": 57,
   "metadata": {},
   "outputs": [],
   "source": [
    "cols = param_cols + output_cols"
   ]
  },
  {
   "cell_type": "code",
   "execution_count": 58,
   "metadata": {},
   "outputs": [
    {
     "data": {
      "text/html": [
       "<div>\n",
       "<style scoped>\n",
       "    .dataframe tbody tr th:only-of-type {\n",
       "        vertical-align: middle;\n",
       "    }\n",
       "\n",
       "    .dataframe tbody tr th {\n",
       "        vertical-align: top;\n",
       "    }\n",
       "\n",
       "    .dataframe thead th {\n",
       "        text-align: right;\n",
       "    }\n",
       "</style>\n",
       "<table border=\"1\" class=\"dataframe\">\n",
       "  <thead>\n",
       "    <tr style=\"text-align: right;\">\n",
       "      <th>test_uuid</th>\n",
       "      <th>e851ef06-a2f8-46f7-ba1e-8899129e8a2e</th>\n",
       "      <th>693570e5-a9ec-4942-b2c4-2b6937c43d4b</th>\n",
       "      <th>42d051a1-ec17-4bb0-ac1e-9a573c7e1deb</th>\n",
       "    </tr>\n",
       "  </thead>\n",
       "  <tbody>\n",
       "    <tr>\n",
       "      <td>numWorkloadWorkers</td>\n",
       "      <td>2</td>\n",
       "      <td>2</td>\n",
       "      <td>2</td>\n",
       "    </tr>\n",
       "    <tr>\n",
       "      <td>topics</td>\n",
       "      <td>1</td>\n",
       "      <td>1</td>\n",
       "      <td>1</td>\n",
       "    </tr>\n",
       "    <tr>\n",
       "      <td>partitionsPerTopic</td>\n",
       "      <td>1</td>\n",
       "      <td>1</td>\n",
       "      <td>1</td>\n",
       "    </tr>\n",
       "    <tr>\n",
       "      <td>producersPerTopic</td>\n",
       "      <td>1</td>\n",
       "      <td>1</td>\n",
       "      <td>1</td>\n",
       "    </tr>\n",
       "    <tr>\n",
       "      <td>subscriptionsPerTopic</td>\n",
       "      <td>1</td>\n",
       "      <td>1</td>\n",
       "      <td>1</td>\n",
       "    </tr>\n",
       "    <tr>\n",
       "      <td>consumerPerSubscription</td>\n",
       "      <td>1</td>\n",
       "      <td>1</td>\n",
       "      <td>1</td>\n",
       "    </tr>\n",
       "    <tr>\n",
       "      <td>testDurationMinutes</td>\n",
       "      <td>1</td>\n",
       "      <td>1</td>\n",
       "      <td>1</td>\n",
       "    </tr>\n",
       "    <tr>\n",
       "      <td>keyDistributor</td>\n",
       "      <td>NO_KEY</td>\n",
       "      <td>NO_KEY</td>\n",
       "      <td>NO_KEY</td>\n",
       "    </tr>\n",
       "    <tr>\n",
       "      <td>git_commit</td>\n",
       "      <td>22e4b5f</td>\n",
       "      <td>22e4b5f</td>\n",
       "      <td>22e4b5f</td>\n",
       "    </tr>\n",
       "    <tr>\n",
       "      <td>pravegaVersion</td>\n",
       "      <td>0.8.0-2508.30406cf</td>\n",
       "      <td>0.8.0-2508.30406cf</td>\n",
       "      <td>0.8.0-2508.30406cf</td>\n",
       "    </tr>\n",
       "    <tr>\n",
       "      <td>publishRateEventsPerSecMean</td>\n",
       "      <td>300.711</td>\n",
       "      <td>1002.3</td>\n",
       "      <td>3006.66</td>\n",
       "    </tr>\n",
       "    <tr>\n",
       "      <td>publishRateMBPerSecMean</td>\n",
       "      <td>3.00711</td>\n",
       "      <td>10.023</td>\n",
       "      <td>30.0666</td>\n",
       "    </tr>\n",
       "    <tr>\n",
       "      <td>publishLatencyMs50Pct</td>\n",
       "      <td>1.922</td>\n",
       "      <td>2.173</td>\n",
       "      <td>3.119</td>\n",
       "    </tr>\n",
       "    <tr>\n",
       "      <td>publishLatencyMs99Pct</td>\n",
       "      <td>3.769</td>\n",
       "      <td>3.836</td>\n",
       "      <td>26.934</td>\n",
       "    </tr>\n",
       "    <tr>\n",
       "      <td>endToEndLatencyMs50Pct</td>\n",
       "      <td>2</td>\n",
       "      <td>3</td>\n",
       "      <td>3</td>\n",
       "    </tr>\n",
       "    <tr>\n",
       "      <td>endToEndLatencyMs99Pct</td>\n",
       "      <td>6</td>\n",
       "      <td>5</td>\n",
       "      <td>67</td>\n",
       "    </tr>\n",
       "    <tr>\n",
       "      <td>utc_begin</td>\n",
       "      <td>2020-04-21 19:17:35.215357+00:00</td>\n",
       "      <td>2020-04-21 19:19:45.649452+00:00</td>\n",
       "      <td>2020-04-21 19:21:54.978450+00:00</td>\n",
       "    </tr>\n",
       "  </tbody>\n",
       "</table>\n",
       "</div>"
      ],
      "text/plain": [
       "test_uuid                   e851ef06-a2f8-46f7-ba1e-8899129e8a2e  \\\n",
       "numWorkloadWorkers                                             2   \n",
       "topics                                                         1   \n",
       "partitionsPerTopic                                             1   \n",
       "producersPerTopic                                              1   \n",
       "subscriptionsPerTopic                                          1   \n",
       "consumerPerSubscription                                        1   \n",
       "testDurationMinutes                                            1   \n",
       "keyDistributor                                            NO_KEY   \n",
       "git_commit                                               22e4b5f   \n",
       "pravegaVersion                                0.8.0-2508.30406cf   \n",
       "publishRateEventsPerSecMean                              300.711   \n",
       "publishRateMBPerSecMean                                  3.00711   \n",
       "publishLatencyMs50Pct                                      1.922   \n",
       "publishLatencyMs99Pct                                      3.769   \n",
       "endToEndLatencyMs50Pct                                         2   \n",
       "endToEndLatencyMs99Pct                                         6   \n",
       "utc_begin                       2020-04-21 19:17:35.215357+00:00   \n",
       "\n",
       "test_uuid                   693570e5-a9ec-4942-b2c4-2b6937c43d4b  \\\n",
       "numWorkloadWorkers                                             2   \n",
       "topics                                                         1   \n",
       "partitionsPerTopic                                             1   \n",
       "producersPerTopic                                              1   \n",
       "subscriptionsPerTopic                                          1   \n",
       "consumerPerSubscription                                        1   \n",
       "testDurationMinutes                                            1   \n",
       "keyDistributor                                            NO_KEY   \n",
       "git_commit                                               22e4b5f   \n",
       "pravegaVersion                                0.8.0-2508.30406cf   \n",
       "publishRateEventsPerSecMean                               1002.3   \n",
       "publishRateMBPerSecMean                                   10.023   \n",
       "publishLatencyMs50Pct                                      2.173   \n",
       "publishLatencyMs99Pct                                      3.836   \n",
       "endToEndLatencyMs50Pct                                         3   \n",
       "endToEndLatencyMs99Pct                                         5   \n",
       "utc_begin                       2020-04-21 19:19:45.649452+00:00   \n",
       "\n",
       "test_uuid                   42d051a1-ec17-4bb0-ac1e-9a573c7e1deb  \n",
       "numWorkloadWorkers                                             2  \n",
       "topics                                                         1  \n",
       "partitionsPerTopic                                             1  \n",
       "producersPerTopic                                              1  \n",
       "subscriptionsPerTopic                                          1  \n",
       "consumerPerSubscription                                        1  \n",
       "testDurationMinutes                                            1  \n",
       "keyDistributor                                            NO_KEY  \n",
       "git_commit                                               22e4b5f  \n",
       "pravegaVersion                                0.8.0-2508.30406cf  \n",
       "publishRateEventsPerSecMean                              3006.66  \n",
       "publishRateMBPerSecMean                                  30.0666  \n",
       "publishLatencyMs50Pct                                      3.119  \n",
       "publishLatencyMs99Pct                                     26.934  \n",
       "endToEndLatencyMs50Pct                                         3  \n",
       "endToEndLatencyMs99Pct                                        67  \n",
       "utc_begin                       2020-04-21 19:21:54.978450+00:00  "
      ]
     },
     "execution_count": 58,
     "metadata": {},
     "output_type": "execute_result"
    }
   ],
   "source": [
    "# View most recent results\n",
    "clean_df[cols].tail(3).T"
   ]
  },
  {
   "cell_type": "code",
   "execution_count": 59,
   "metadata": {},
   "outputs": [],
   "source": [
    "# Export to CSV\n",
    "#clean_df[cols].to_csv('openmessaging-benchmark-results.csv')"
   ]
  },
  {
   "cell_type": "code",
   "execution_count": 60,
   "metadata": {},
   "outputs": [],
   "source": [
    "# df = clean_df[cols]\n",
    "# df = df.sort_values(['messageSize','numWorkloadWorkers','producersPerTopic','throttleEventsPerSec','utc_begin'])\n",
    "# df.head()"
   ]
  },
  {
   "cell_type": "code",
   "execution_count": 82,
   "metadata": {},
   "outputs": [
    {
     "data": {
      "text/plain": [
       "pravegaVersion\n",
       "0.8.0-2508.30406cf    14\n",
       "dtype: int64"
      ]
     },
     "execution_count": 82,
     "metadata": {},
     "output_type": "execute_result"
    }
   ],
   "source": [
    "# View distinct values of pravegaVersion and test counts\n",
    "clean_df.groupby(['pravegaVersion']).size()"
   ]
  },
  {
   "cell_type": "code",
   "execution_count": 80,
   "metadata": {},
   "outputs": [
    {
     "data": {
      "text/plain": [
       "14"
      ]
     },
     "execution_count": 80,
     "metadata": {},
     "output_type": "execute_result"
    }
   ],
   "source": [
    "# First level of filtering\n",
    "filt_df = filter_dataframe(\n",
    "    clean_df,\n",
    "  #  driverName='Pravega',\n",
    "  #  pravegaVersion='0.8.0-2508.30406cf',\n",
    "#     pravegaVersion='0.6.0-2386.23b7340',\n",
    "   # numWorkloadWorkers=2, \n",
    "    topics=1,\n",
    "    testDurationMinutes=1,\n",
    "   # size_of_test_batch=(2,1000), # between\n",
    "   # aggregatedEndToEndLatency50pct=(1,1e6),\n",
    ")\n",
    "# filt_df = filt_df[filt_df.size_of_test_batch > 1]\n",
    "len(filt_df)"
   ]
  },
  {
   "cell_type": "code",
   "execution_count": 64,
   "metadata": {},
   "outputs": [],
   "source": [
    "def latency_vs_throughput_table(df):\n",
    "    result_df = (df\n",
    "        .set_index(['publishRateMBPerSecMean'])\n",
    "        .sort_index()\n",
    "        [[\n",
    "            'aggregatedPublishLatency50pct',\n",
    "            'aggregatedPublishLatency95pct',\n",
    "            'aggregatedPublishLatency99pct',\n",
    "            'aggregatedEndToEndLatency50pct',\n",
    "            'aggregatedEndToEndLatency95pct',\n",
    "            'aggregatedEndToEndLatency99pct',\n",
    "            'test_uuid',\n",
    "        ]]\n",
    "        .rename(columns=dict(\n",
    "            aggregatedPublishLatency50pct='Publish Latency p50',\n",
    "            aggregatedPublishLatency95pct='Publish Latency p95',\n",
    "            aggregatedPublishLatency99pct='Publish Latency p99',\n",
    "            aggregatedEndToEndLatency50pct='E2E Latency p50',\n",
    "            aggregatedEndToEndLatency95pct='E2E Latency p95',\n",
    "            aggregatedEndToEndLatency99pct='E2E Latency p99',\n",
    "        ))\n",
    "        )\n",
    "    result_df.index.name = 'Publish Throughput (MB/s)'\n",
    "    return result_df"
   ]
  },
  {
   "cell_type": "code",
   "execution_count": 65,
   "metadata": {},
   "outputs": [],
   "source": [
    "def plot_latency_vs_throughput(df):\n",
    "    assert len(df.messageSize.drop_duplicates().values) == 1\n",
    "    messageSize = df.messageSize.iloc[0]\n",
    "    plot_df = latency_vs_throughput_table(df)\n",
    "    title = 'Message Size %d' % (messageSize)\n",
    "    ax = plot_df.plot(\n",
    "        logx=True, \n",
    "        logy=True,\n",
    "        figsize=(10,8),\n",
    "        grid=True, \n",
    "        title=title, \n",
    "        style=['x:b','x-.b','x-b','+:r','+-.r','+-r'])\n",
    "    ax.set_ylabel('Latency (ms)');\n",
    "    tick_formatter = matplotlib.ticker.LogFormatter()\n",
    "    ax.xaxis.set_major_formatter(tick_formatter)\n",
    "    ax.yaxis.set_major_formatter(tick_formatter)\n",
    "    ax.grid('on', which='both', axis='both')"
   ]
  },
  {
   "cell_type": "markdown",
   "metadata": {},
   "source": [
    "## Message Size 100 B"
   ]
  },
  {
   "cell_type": "code",
   "execution_count": 66,
   "metadata": {},
   "outputs": [],
   "source": [
    "filt_100_df = filter_dataframe(\n",
    "    filt_df,\n",
    "    messageSize=100,\n",
    "    producersPerTopic=1,\n",
    "    partitionsPerTopic=1,\n",
    ")"
   ]
  },
  {
   "cell_type": "code",
   "execution_count": 67,
   "metadata": {},
   "outputs": [
    {
     "data": {
      "text/html": [
       "<div>\n",
       "<style scoped>\n",
       "    .dataframe tbody tr th:only-of-type {\n",
       "        vertical-align: middle;\n",
       "    }\n",
       "\n",
       "    .dataframe tbody tr th {\n",
       "        vertical-align: top;\n",
       "    }\n",
       "\n",
       "    .dataframe thead th {\n",
       "        text-align: right;\n",
       "    }\n",
       "</style>\n",
       "<table border=\"1\" class=\"dataframe\">\n",
       "  <thead>\n",
       "    <tr style=\"text-align: right;\">\n",
       "      <th>test_uuid</th>\n",
       "      <th>0aa106a1-67f0-4e42-acd4-6528faf54f3f</th>\n",
       "    </tr>\n",
       "  </thead>\n",
       "  <tbody>\n",
       "  </tbody>\n",
       "</table>\n",
       "</div>"
      ],
      "text/plain": [
       "Empty DataFrame\n",
       "Columns: [0aa106a1-67f0-4e42-acd4-6528faf54f3f]\n",
       "Index: []"
      ]
     },
     "execution_count": 67,
     "metadata": {},
     "output_type": "execute_result"
    }
   ],
   "source": [
    "# View varying columns\n",
    "take_varying_columns(filt_100_df[filt_100_df.producerRate==100000]).T"
   ]
  },
  {
   "cell_type": "code",
   "execution_count": 68,
   "metadata": {},
   "outputs": [
    {
     "data": {
      "text/html": [
       "<div>\n",
       "<style scoped>\n",
       "    .dataframe tbody tr th:only-of-type {\n",
       "        vertical-align: middle;\n",
       "    }\n",
       "\n",
       "    .dataframe tbody tr th {\n",
       "        vertical-align: top;\n",
       "    }\n",
       "\n",
       "    .dataframe thead th {\n",
       "        text-align: right;\n",
       "    }\n",
       "</style>\n",
       "<table border=\"1\" class=\"dataframe\">\n",
       "  <thead>\n",
       "    <tr style=\"text-align: right;\">\n",
       "      <th>test_uuid</th>\n",
       "      <th>6bd8004e-aa3c-4800-9dc3-679a5d78be49</th>\n",
       "    </tr>\n",
       "  </thead>\n",
       "  <tbody>\n",
       "    <tr>\n",
       "      <td>numWorkloadWorkers</td>\n",
       "      <td>2</td>\n",
       "    </tr>\n",
       "    <tr>\n",
       "      <td>topics</td>\n",
       "      <td>1</td>\n",
       "    </tr>\n",
       "    <tr>\n",
       "      <td>partitionsPerTopic</td>\n",
       "      <td>1</td>\n",
       "    </tr>\n",
       "    <tr>\n",
       "      <td>producersPerTopic</td>\n",
       "      <td>1</td>\n",
       "    </tr>\n",
       "    <tr>\n",
       "      <td>subscriptionsPerTopic</td>\n",
       "      <td>1</td>\n",
       "    </tr>\n",
       "    <tr>\n",
       "      <td>consumerPerSubscription</td>\n",
       "      <td>1</td>\n",
       "    </tr>\n",
       "    <tr>\n",
       "      <td>testDurationMinutes</td>\n",
       "      <td>1</td>\n",
       "    </tr>\n",
       "    <tr>\n",
       "      <td>keyDistributor</td>\n",
       "      <td>NO_KEY</td>\n",
       "    </tr>\n",
       "    <tr>\n",
       "      <td>git_commit</td>\n",
       "      <td>22e4b5f</td>\n",
       "    </tr>\n",
       "    <tr>\n",
       "      <td>pravegaVersion</td>\n",
       "      <td>0.8.0-2508.30406cf</td>\n",
       "    </tr>\n",
       "  </tbody>\n",
       "</table>\n",
       "</div>"
      ],
      "text/plain": [
       "test_uuid               6bd8004e-aa3c-4800-9dc3-679a5d78be49\n",
       "numWorkloadWorkers                                         2\n",
       "topics                                                     1\n",
       "partitionsPerTopic                                         1\n",
       "producersPerTopic                                          1\n",
       "subscriptionsPerTopic                                      1\n",
       "consumerPerSubscription                                    1\n",
       "testDurationMinutes                                        1\n",
       "keyDistributor                                        NO_KEY\n",
       "git_commit                                           22e4b5f\n",
       "pravegaVersion                            0.8.0-2508.30406cf"
      ]
     },
     "execution_count": 68,
     "metadata": {},
     "output_type": "execute_result"
    }
   ],
   "source": [
    "# View distinct sets of parameters.\n",
    "# There should only be one distinct set of parameters.\n",
    "filt_100_df[param_cols].drop_duplicates().T"
   ]
  },
  {
   "cell_type": "code",
   "execution_count": 69,
   "metadata": {},
   "outputs": [
    {
     "data": {
      "image/png": "[encoded data removed]",
      "text/plain": [
       "<Figure size 720x576 with 1 Axes>"
      ]
     },
     "metadata": {
      "needs_background": "light"
     },
     "output_type": "display_data"
    }
   ],
   "source": [
    "plot_latency_vs_throughput(filt_100_df)"
   ]
  },
  {
   "cell_type": "code",
   "execution_count": 70,
   "metadata": {},
   "outputs": [
    {
     "data": {
      "text/html": [
       "<div>\n",
       "<style scoped>\n",
       "    .dataframe tbody tr th:only-of-type {\n",
       "        vertical-align: middle;\n",
       "    }\n",
       "\n",
       "    .dataframe tbody tr th {\n",
       "        vertical-align: top;\n",
       "    }\n",
       "\n",
       "    .dataframe thead th {\n",
       "        text-align: right;\n",
       "    }\n",
       "</style>\n",
       "<table border=\"1\" class=\"dataframe\">\n",
       "  <thead>\n",
       "    <tr style=\"text-align: right;\">\n",
       "      <th></th>\n",
       "      <th>Publish Latency p50</th>\n",
       "      <th>Publish Latency p95</th>\n",
       "      <th>Publish Latency p99</th>\n",
       "      <th>E2E Latency p50</th>\n",
       "      <th>E2E Latency p95</th>\n",
       "      <th>E2E Latency p99</th>\n",
       "      <th>test_uuid</th>\n",
       "    </tr>\n",
       "    <tr>\n",
       "      <th>Publish Throughput (MB/s)</th>\n",
       "      <th></th>\n",
       "      <th></th>\n",
       "      <th></th>\n",
       "      <th></th>\n",
       "      <th></th>\n",
       "      <th></th>\n",
       "      <th></th>\n",
       "    </tr>\n",
       "  </thead>\n",
       "  <tbody>\n",
       "    <tr>\n",
       "      <td>0.003007</td>\n",
       "      <td>2.061</td>\n",
       "      <td>2.211</td>\n",
       "      <td>2.303</td>\n",
       "      <td>2.0</td>\n",
       "      <td>3.000</td>\n",
       "      <td>23.000</td>\n",
       "      <td>6bd8004e-aa3c-4800-9dc3-679a5d78be49</td>\n",
       "    </tr>\n",
       "    <tr>\n",
       "      <td>0.010019</td>\n",
       "      <td>1.988</td>\n",
       "      <td>2.159</td>\n",
       "      <td>2.232</td>\n",
       "      <td>2.0</td>\n",
       "      <td>3.000</td>\n",
       "      <td>3.000</td>\n",
       "      <td>5773dca8-8069-4f65-a7fc-cbf91b7ce537</td>\n",
       "    </tr>\n",
       "    <tr>\n",
       "      <td>0.030117</td>\n",
       "      <td>1.818</td>\n",
       "      <td>1.953</td>\n",
       "      <td>2.063</td>\n",
       "      <td>2.0</td>\n",
       "      <td>2.000</td>\n",
       "      <td>2.000</td>\n",
       "      <td>8ebcfad8-3c0c-4328-b2dc-cf036ba6902f</td>\n",
       "    </tr>\n",
       "    <tr>\n",
       "      <td>0.100246</td>\n",
       "      <td>6.081</td>\n",
       "      <td>219.977</td>\n",
       "      <td>263.981</td>\n",
       "      <td>6.0</td>\n",
       "      <td>221.000</td>\n",
       "      <td>265.001</td>\n",
       "      <td>45d470f1-ad7d-4530-b4c7-9000121c6f35</td>\n",
       "    </tr>\n",
       "    <tr>\n",
       "      <td>0.300447</td>\n",
       "      <td>1.924</td>\n",
       "      <td>3.055</td>\n",
       "      <td>3.729</td>\n",
       "      <td>2.0</td>\n",
       "      <td>3.000</td>\n",
       "      <td>4.000</td>\n",
       "      <td>590eacf4-59a5-46f2-8992-e86a4acd84e1</td>\n",
       "    </tr>\n",
       "    <tr>\n",
       "      <td>1.002076</td>\n",
       "      <td>2.447</td>\n",
       "      <td>6.255</td>\n",
       "      <td>19.563</td>\n",
       "      <td>3.0</td>\n",
       "      <td>7.000</td>\n",
       "      <td>21.000</td>\n",
       "      <td>3943af88-1ef3-4d79-bbad-94bf1f4094e0</td>\n",
       "    </tr>\n",
       "    <tr>\n",
       "      <td>3.009279</td>\n",
       "      <td>2.588</td>\n",
       "      <td>3.632</td>\n",
       "      <td>6.124</td>\n",
       "      <td>3.0</td>\n",
       "      <td>4.000</td>\n",
       "      <td>10.000</td>\n",
       "      <td>fbd9d0d5-b9a1-44f3-8a57-666abb0f105b</td>\n",
       "    </tr>\n",
       "    <tr>\n",
       "      <td>8.016885</td>\n",
       "      <td>63.595</td>\n",
       "      <td>358.571</td>\n",
       "      <td>410.445</td>\n",
       "      <td>94.0</td>\n",
       "      <td>370.001</td>\n",
       "      <td>419.001</td>\n",
       "      <td>ba36eba1-f98e-41fa-b8f5-67f71c42a9fb</td>\n",
       "    </tr>\n",
       "    <tr>\n",
       "      <td>10.023827</td>\n",
       "      <td>3.146</td>\n",
       "      <td>8.200</td>\n",
       "      <td>33.466</td>\n",
       "      <td>3.0</td>\n",
       "      <td>14.000</td>\n",
       "      <td>73.000</td>\n",
       "      <td>0aa106a1-67f0-4e42-acd4-6528faf54f3f</td>\n",
       "    </tr>\n",
       "  </tbody>\n",
       "</table>\n",
       "</div>"
      ],
      "text/plain": [
       "                           Publish Latency p50  Publish Latency p95  \\\n",
       "Publish Throughput (MB/s)                                             \n",
       "0.003007                                 2.061                2.211   \n",
       "0.010019                                 1.988                2.159   \n",
       "0.030117                                 1.818                1.953   \n",
       "0.100246                                 6.081              219.977   \n",
       "0.300447                                 1.924                3.055   \n",
       "1.002076                                 2.447                6.255   \n",
       "3.009279                                 2.588                3.632   \n",
       "8.016885                                63.595              358.571   \n",
       "10.023827                                3.146                8.200   \n",
       "\n",
       "                           Publish Latency p99  E2E Latency p50  \\\n",
       "Publish Throughput (MB/s)                                         \n",
       "0.003007                                 2.303              2.0   \n",
       "0.010019                                 2.232              2.0   \n",
       "0.030117                                 2.063              2.0   \n",
       "0.100246                               263.981              6.0   \n",
       "0.300447                                 3.729              2.0   \n",
       "1.002076                                19.563              3.0   \n",
       "3.009279                                 6.124              3.0   \n",
       "8.016885                               410.445             94.0   \n",
       "10.023827                               33.466              3.0   \n",
       "\n",
       "                           E2E Latency p95  E2E Latency p99  \\\n",
       "Publish Throughput (MB/s)                                     \n",
       "0.003007                             3.000           23.000   \n",
       "0.010019                             3.000            3.000   \n",
       "0.030117                             2.000            2.000   \n",
       "0.100246                           221.000          265.001   \n",
       "0.300447                             3.000            4.000   \n",
       "1.002076                             7.000           21.000   \n",
       "3.009279                             4.000           10.000   \n",
       "8.016885                           370.001          419.001   \n",
       "10.023827                           14.000           73.000   \n",
       "\n",
       "                                                      test_uuid  \n",
       "Publish Throughput (MB/s)                                        \n",
       "0.003007                   6bd8004e-aa3c-4800-9dc3-679a5d78be49  \n",
       "0.010019                   5773dca8-8069-4f65-a7fc-cbf91b7ce537  \n",
       "0.030117                   8ebcfad8-3c0c-4328-b2dc-cf036ba6902f  \n",
       "0.100246                   45d470f1-ad7d-4530-b4c7-9000121c6f35  \n",
       "0.300447                   590eacf4-59a5-46f2-8992-e86a4acd84e1  \n",
       "1.002076                   3943af88-1ef3-4d79-bbad-94bf1f4094e0  \n",
       "3.009279                   fbd9d0d5-b9a1-44f3-8a57-666abb0f105b  \n",
       "8.016885                   ba36eba1-f98e-41fa-b8f5-67f71c42a9fb  \n",
       "10.023827                  0aa106a1-67f0-4e42-acd4-6528faf54f3f  "
      ]
     },
     "execution_count": 70,
     "metadata": {},
     "output_type": "execute_result"
    }
   ],
   "source": [
    "latency_vs_throughput_table(filt_100_df)"
   ]
  },
  {
   "cell_type": "markdown",
   "metadata": {},
   "source": [
    "## Message Size 10 KB"
   ]
  },
  {
   "cell_type": "code",
   "execution_count": 71,
   "metadata": {},
   "outputs": [],
   "source": [
    "filt_10000_df = filter_dataframe(\n",
    "    filt_df,\n",
    "    messageSize=10000,\n",
    ")"
   ]
  },
  {
   "cell_type": "code",
   "execution_count": 72,
   "metadata": {},
   "outputs": [
    {
     "data": {
      "text/html": [
       "<div>\n",
       "<style scoped>\n",
       "    .dataframe tbody tr th:only-of-type {\n",
       "        vertical-align: middle;\n",
       "    }\n",
       "\n",
       "    .dataframe tbody tr th {\n",
       "        vertical-align: top;\n",
       "    }\n",
       "\n",
       "    .dataframe thead th {\n",
       "        text-align: right;\n",
       "    }\n",
       "</style>\n",
       "<table border=\"1\" class=\"dataframe\">\n",
       "  <thead>\n",
       "    <tr style=\"text-align: right;\">\n",
       "      <th>test_uuid</th>\n",
       "      <th>8437c0b5-1609-41bc-854a-9c5c6531ff4f</th>\n",
       "    </tr>\n",
       "  </thead>\n",
       "  <tbody>\n",
       "    <tr>\n",
       "      <td>numWorkloadWorkers</td>\n",
       "      <td>2</td>\n",
       "    </tr>\n",
       "    <tr>\n",
       "      <td>topics</td>\n",
       "      <td>1</td>\n",
       "    </tr>\n",
       "    <tr>\n",
       "      <td>partitionsPerTopic</td>\n",
       "      <td>1</td>\n",
       "    </tr>\n",
       "    <tr>\n",
       "      <td>producersPerTopic</td>\n",
       "      <td>1</td>\n",
       "    </tr>\n",
       "    <tr>\n",
       "      <td>subscriptionsPerTopic</td>\n",
       "      <td>1</td>\n",
       "    </tr>\n",
       "    <tr>\n",
       "      <td>consumerPerSubscription</td>\n",
       "      <td>1</td>\n",
       "    </tr>\n",
       "    <tr>\n",
       "      <td>testDurationMinutes</td>\n",
       "      <td>1</td>\n",
       "    </tr>\n",
       "    <tr>\n",
       "      <td>keyDistributor</td>\n",
       "      <td>NO_KEY</td>\n",
       "    </tr>\n",
       "    <tr>\n",
       "      <td>git_commit</td>\n",
       "      <td>22e4b5f</td>\n",
       "    </tr>\n",
       "    <tr>\n",
       "      <td>pravegaVersion</td>\n",
       "      <td>0.8.0-2508.30406cf</td>\n",
       "    </tr>\n",
       "  </tbody>\n",
       "</table>\n",
       "</div>"
      ],
      "text/plain": [
       "test_uuid               8437c0b5-1609-41bc-854a-9c5c6531ff4f\n",
       "numWorkloadWorkers                                         2\n",
       "topics                                                     1\n",
       "partitionsPerTopic                                         1\n",
       "producersPerTopic                                          1\n",
       "subscriptionsPerTopic                                      1\n",
       "consumerPerSubscription                                    1\n",
       "testDurationMinutes                                        1\n",
       "keyDistributor                                        NO_KEY\n",
       "git_commit                                           22e4b5f\n",
       "pravegaVersion                            0.8.0-2508.30406cf"
      ]
     },
     "execution_count": 72,
     "metadata": {},
     "output_type": "execute_result"
    }
   ],
   "source": [
    "# View distinct sets of parameters.\n",
    "# There should only be one distinct set of parameters.\n",
    "filt_10000_df[param_cols].drop_duplicates().T"
   ]
  },
  {
   "cell_type": "code",
   "execution_count": 73,
   "metadata": {},
   "outputs": [
    {
     "data": {
      "image/png": "[encoded data removed]",
      "text/plain": [
       "<Figure size 720x576 with 1 Axes>"
      ]
     },
     "metadata": {
      "needs_background": "light"
     },
     "output_type": "display_data"
    }
   ],
   "source": [
    "plot_latency_vs_throughput(filt_10000_df)"
   ]
  },
  {
   "cell_type": "code",
   "execution_count": 74,
   "metadata": {},
   "outputs": [
    {
     "data": {
      "text/html": [
       "<div>\n",
       "<style scoped>\n",
       "    .dataframe tbody tr th:only-of-type {\n",
       "        vertical-align: middle;\n",
       "    }\n",
       "\n",
       "    .dataframe tbody tr th {\n",
       "        vertical-align: top;\n",
       "    }\n",
       "\n",
       "    .dataframe thead th {\n",
       "        text-align: right;\n",
       "    }\n",
       "</style>\n",
       "<table border=\"1\" class=\"dataframe\">\n",
       "  <thead>\n",
       "    <tr style=\"text-align: right;\">\n",
       "      <th></th>\n",
       "      <th>Publish Latency p50</th>\n",
       "      <th>Publish Latency p95</th>\n",
       "      <th>Publish Latency p99</th>\n",
       "      <th>E2E Latency p50</th>\n",
       "      <th>E2E Latency p95</th>\n",
       "      <th>E2E Latency p99</th>\n",
       "      <th>test_uuid</th>\n",
       "    </tr>\n",
       "    <tr>\n",
       "      <th>Publish Throughput (MB/s)</th>\n",
       "      <th></th>\n",
       "      <th></th>\n",
       "      <th></th>\n",
       "      <th></th>\n",
       "      <th></th>\n",
       "      <th></th>\n",
       "      <th></th>\n",
       "    </tr>\n",
       "  </thead>\n",
       "  <tbody>\n",
       "    <tr>\n",
       "      <td>0.297382</td>\n",
       "      <td>2.191</td>\n",
       "      <td>2.471</td>\n",
       "      <td>3.705</td>\n",
       "      <td>3.0</td>\n",
       "      <td>3.0</td>\n",
       "      <td>9.0</td>\n",
       "      <td>8437c0b5-1609-41bc-854a-9c5c6531ff4f</td>\n",
       "    </tr>\n",
       "    <tr>\n",
       "      <td>1.002098</td>\n",
       "      <td>2.082</td>\n",
       "      <td>2.254</td>\n",
       "      <td>2.343</td>\n",
       "      <td>2.0</td>\n",
       "      <td>3.0</td>\n",
       "      <td>9.0</td>\n",
       "      <td>d8d2a1c0-a7d8-462a-b086-066c45e8b5bd</td>\n",
       "    </tr>\n",
       "    <tr>\n",
       "      <td>3.007114</td>\n",
       "      <td>1.922</td>\n",
       "      <td>2.023</td>\n",
       "      <td>3.769</td>\n",
       "      <td>2.0</td>\n",
       "      <td>3.0</td>\n",
       "      <td>6.0</td>\n",
       "      <td>e851ef06-a2f8-46f7-ba1e-8899129e8a2e</td>\n",
       "    </tr>\n",
       "    <tr>\n",
       "      <td>10.023000</td>\n",
       "      <td>2.173</td>\n",
       "      <td>3.175</td>\n",
       "      <td>3.836</td>\n",
       "      <td>3.0</td>\n",
       "      <td>4.0</td>\n",
       "      <td>5.0</td>\n",
       "      <td>693570e5-a9ec-4942-b2c4-2b6937c43d4b</td>\n",
       "    </tr>\n",
       "    <tr>\n",
       "      <td>30.066639</td>\n",
       "      <td>3.119</td>\n",
       "      <td>7.708</td>\n",
       "      <td>26.934</td>\n",
       "      <td>3.0</td>\n",
       "      <td>12.0</td>\n",
       "      <td>67.0</td>\n",
       "      <td>42d051a1-ec17-4bb0-ac1e-9a573c7e1deb</td>\n",
       "    </tr>\n",
       "  </tbody>\n",
       "</table>\n",
       "</div>"
      ],
      "text/plain": [
       "                           Publish Latency p50  Publish Latency p95  \\\n",
       "Publish Throughput (MB/s)                                             \n",
       "0.297382                                 2.191                2.471   \n",
       "1.002098                                 2.082                2.254   \n",
       "3.007114                                 1.922                2.023   \n",
       "10.023000                                2.173                3.175   \n",
       "30.066639                                3.119                7.708   \n",
       "\n",
       "                           Publish Latency p99  E2E Latency p50  \\\n",
       "Publish Throughput (MB/s)                                         \n",
       "0.297382                                 3.705              3.0   \n",
       "1.002098                                 2.343              2.0   \n",
       "3.007114                                 3.769              2.0   \n",
       "10.023000                                3.836              3.0   \n",
       "30.066639                               26.934              3.0   \n",
       "\n",
       "                           E2E Latency p95  E2E Latency p99  \\\n",
       "Publish Throughput (MB/s)                                     \n",
       "0.297382                               3.0              9.0   \n",
       "1.002098                               3.0              9.0   \n",
       "3.007114                               3.0              6.0   \n",
       "10.023000                              4.0              5.0   \n",
       "30.066639                             12.0             67.0   \n",
       "\n",
       "                                                      test_uuid  \n",
       "Publish Throughput (MB/s)                                        \n",
       "0.297382                   8437c0b5-1609-41bc-854a-9c5c6531ff4f  \n",
       "1.002098                   d8d2a1c0-a7d8-462a-b086-066c45e8b5bd  \n",
       "3.007114                   e851ef06-a2f8-46f7-ba1e-8899129e8a2e  \n",
       "10.023000                  693570e5-a9ec-4942-b2c4-2b6937c43d4b  \n",
       "30.066639                  42d051a1-ec17-4bb0-ac1e-9a573c7e1deb  "
      ]
     },
     "execution_count": 74,
     "metadata": {},
     "output_type": "execute_result"
    }
   ],
   "source": [
    "latency_vs_throughput_table(filt_10000_df)"
   ]
  },
  {
   "cell_type": "markdown",
   "metadata": {},
   "source": [
    "## Analyze 100 B events, 50,000 events/sec, various number of partitions and producers"
   ]
  },
  {
   "cell_type": "code",
   "execution_count": 75,
   "metadata": {},
   "outputs": [
    {
     "name": "stderr",
     "output_type": "stream",
     "text": [
      "filter_dataframe: No matching records after filtering on producerRate=[-1]\n"
     ]
    },
    {
     "data": {
      "text/plain": [
       "0"
      ]
     },
     "execution_count": 75,
     "metadata": {},
     "output_type": "execute_result"
    }
   ],
   "source": [
    "filt_50000eps_df = filter_dataframe(\n",
    "    filt_df,\n",
    "    messageSize=100,\n",
    "    producerRate=-1,\n",
    ").sort_values(['endToEndLatencyMs99Pct'], ascending=True)\n",
    "len(filt_50000eps_df)"
   ]
  },
  {
   "cell_type": "code",
   "execution_count": 20,
   "metadata": {},
   "outputs": [
    {
     "ename": "NameError",
     "evalue": "name 'filt_50000eps_df' is not defined",
     "output_type": "error",
     "traceback": [
      "\u001b[0;31m---------------------------------------------------------------------------\u001b[0m",
      "\u001b[0;31mNameError\u001b[0m                                 Traceback (most recent call last)",
      "\u001b[0;32m<ipython-input-20-625cc91db59a>\u001b[0m in \u001b[0;36m<module>\u001b[0;34m\u001b[0m\n\u001b[0;32m----> 1\u001b[0;31m \u001b[0mtake_varying_columns\u001b[0m\u001b[0;34m(\u001b[0m\u001b[0mfilt_50000eps_df\u001b[0m\u001b[0;34m[\u001b[0m\u001b[0mcols\u001b[0m\u001b[0;34m]\u001b[0m\u001b[0;34m)\u001b[0m\u001b[0;34m.\u001b[0m\u001b[0mhead\u001b[0m\u001b[0;34m(\u001b[0m\u001b[0;36m20\u001b[0m\u001b[0;34m)\u001b[0m\u001b[0;34m\u001b[0m\u001b[0;34m\u001b[0m\u001b[0m\n\u001b[0m",
      "\u001b[0;31mNameError\u001b[0m: name 'filt_50000eps_df' is not defined"
     ]
    }
   ],
   "source": [
    "take_varying_columns(filt_50000eps_df[cols]).head(20)"
   ]
  },
  {
   "cell_type": "markdown",
   "metadata": {},
   "source": [
    "# Analyze Latency Distribution"
   ]
  },
  {
   "cell_type": "code",
   "execution_count": 21,
   "metadata": {},
   "outputs": [
    {
     "ename": "NameError",
     "evalue": "name 'filt_50000eps_df' is not defined",
     "output_type": "error",
     "traceback": [
      "\u001b[0;31m---------------------------------------------------------------------------\u001b[0m",
      "\u001b[0;31mNameError\u001b[0m                                 Traceback (most recent call last)",
      "\u001b[0;32m<ipython-input-21-2fccc8d6bfb3>\u001b[0m in \u001b[0;36m<module>\u001b[0;34m\u001b[0m\n\u001b[0;32m----> 1\u001b[0;31m \u001b[0mtest_uuid\u001b[0m \u001b[0;34m=\u001b[0m \u001b[0mfilt_50000eps_df\u001b[0m\u001b[0;34m.\u001b[0m\u001b[0miloc\u001b[0m\u001b[0;34m[\u001b[0m\u001b[0;36m0\u001b[0m\u001b[0;34m]\u001b[0m\u001b[0;34m.\u001b[0m\u001b[0mname\u001b[0m\u001b[0;34m\u001b[0m\u001b[0;34m\u001b[0m\u001b[0m\n\u001b[0m\u001b[1;32m      2\u001b[0m \u001b[0mtest_uuid\u001b[0m\u001b[0;34m\u001b[0m\u001b[0;34m\u001b[0m\u001b[0m\n",
      "\u001b[0;31mNameError\u001b[0m: name 'filt_50000eps_df' is not defined"
     ]
    }
   ],
   "source": [
    "test_uuid = filt_50000eps_df.iloc[0].name\n",
    "test_uuid"
   ]
  },
  {
   "cell_type": "code",
   "execution_count": 22,
   "metadata": {},
   "outputs": [
    {
     "ename": "NameError",
     "evalue": "name 'clean_df' is not defined",
     "output_type": "error",
     "traceback": [
      "\u001b[0;31m---------------------------------------------------------------------------\u001b[0m",
      "\u001b[0;31mNameError\u001b[0m                                 Traceback (most recent call last)",
      "\u001b[0;32m<ipython-input-22-014832a90b7f>\u001b[0m in \u001b[0;36m<module>\u001b[0;34m\u001b[0m\n\u001b[0;32m----> 1\u001b[0;31m \u001b[0mdf\u001b[0m \u001b[0;34m=\u001b[0m \u001b[0mclean_df\u001b[0m\u001b[0;34m\u001b[0m\u001b[0;34m\u001b[0m\u001b[0m\n\u001b[0m\u001b[1;32m      2\u001b[0m \u001b[0mt\u001b[0m \u001b[0;34m=\u001b[0m \u001b[0mdf\u001b[0m\u001b[0;34m[\u001b[0m\u001b[0mdf\u001b[0m\u001b[0;34m.\u001b[0m\u001b[0mtest_uuid\u001b[0m\u001b[0;34m==\u001b[0m\u001b[0mtest_uuid\u001b[0m\u001b[0;34m]\u001b[0m\u001b[0;34m.\u001b[0m\u001b[0miloc\u001b[0m\u001b[0;34m[\u001b[0m\u001b[0;36m0\u001b[0m\u001b[0;34m]\u001b[0m\u001b[0;34m\u001b[0m\u001b[0;34m\u001b[0m\u001b[0m\n",
      "\u001b[0;31mNameError\u001b[0m: name 'clean_df' is not defined"
     ]
    }
   ],
   "source": [
    "df = clean_df\n",
    "t = df[df.test_uuid==test_uuid].iloc[0]"
   ]
  },
  {
   "cell_type": "code",
   "execution_count": 23,
   "metadata": {},
   "outputs": [
    {
     "ename": "NameError",
     "evalue": "name 't' is not defined",
     "output_type": "error",
     "traceback": [
      "\u001b[0;31m---------------------------------------------------------------------------\u001b[0m",
      "\u001b[0;31mNameError\u001b[0m                                 Traceback (most recent call last)",
      "\u001b[0;32m<ipython-input-23-f54a03c4e089>\u001b[0m in \u001b[0;36m<module>\u001b[0;34m\u001b[0m\n\u001b[1;32m      1\u001b[0m \u001b[0;31m# Cumulative Distribution Function\u001b[0m\u001b[0;34m\u001b[0m\u001b[0;34m\u001b[0m\u001b[0;34m\u001b[0m\u001b[0m\n\u001b[0;32m----> 2\u001b[0;31m \u001b[0mpubcdf\u001b[0m \u001b[0;34m=\u001b[0m \u001b[0mt\u001b[0m\u001b[0;34m.\u001b[0m\u001b[0maggregatedPublishLatencyQuantiles\u001b[0m\u001b[0;34m\u001b[0m\u001b[0;34m\u001b[0m\u001b[0m\n\u001b[0m\u001b[1;32m      3\u001b[0m \u001b[0mpubcdf\u001b[0m\u001b[0;34m.\u001b[0m\u001b[0mname\u001b[0m \u001b[0;34m=\u001b[0m \u001b[0;34m'Publish Latency CDF'\u001b[0m\u001b[0;34m\u001b[0m\u001b[0;34m\u001b[0m\u001b[0m\n",
      "\u001b[0;31mNameError\u001b[0m: name 't' is not defined"
     ]
    }
   ],
   "source": [
    "# Cumulative Distribution Function\n",
    "pubcdf = t.aggregatedPublishLatencyQuantiles\n",
    "pubcdf.name = 'Publish Latency CDF'"
   ]
  },
  {
   "cell_type": "code",
   "execution_count": 24,
   "metadata": {},
   "outputs": [
    {
     "ename": "NameError",
     "evalue": "name 'pubcdf' is not defined",
     "output_type": "error",
     "traceback": [
      "\u001b[0;31m---------------------------------------------------------------------------\u001b[0m",
      "\u001b[0;31mNameError\u001b[0m                                 Traceback (most recent call last)",
      "\u001b[0;32m<ipython-input-24-5a0f27a62191>\u001b[0m in \u001b[0;36m<module>\u001b[0;34m\u001b[0m\n\u001b[1;32m      1\u001b[0m \u001b[0;31m# Probability Distribution Function (latency histogram)\u001b[0m\u001b[0;34m\u001b[0m\u001b[0;34m\u001b[0m\u001b[0;34m\u001b[0m\u001b[0m\n\u001b[0;32m----> 2\u001b[0;31m \u001b[0mpubpdf\u001b[0m \u001b[0;34m=\u001b[0m \u001b[0mpd\u001b[0m\u001b[0;34m.\u001b[0m\u001b[0mSeries\u001b[0m\u001b[0;34m(\u001b[0m\u001b[0mindex\u001b[0m\u001b[0;34m=\u001b[0m\u001b[0mpubcdf\u001b[0m\u001b[0;34m.\u001b[0m\u001b[0mindex\u001b[0m\u001b[0;34m,\u001b[0m \u001b[0mdata\u001b[0m\u001b[0;34m=\u001b[0m\u001b[0mnp\u001b[0m\u001b[0;34m.\u001b[0m\u001b[0mgradient\u001b[0m\u001b[0;34m(\u001b[0m\u001b[0mpubcdf\u001b[0m\u001b[0;34m,\u001b[0m \u001b[0mpubcdf\u001b[0m\u001b[0;34m.\u001b[0m\u001b[0mindex\u001b[0m\u001b[0;34m.\u001b[0m\u001b[0mvalues\u001b[0m\u001b[0;34m)\u001b[0m\u001b[0;34m,\u001b[0m \u001b[0mname\u001b[0m\u001b[0;34m=\u001b[0m\u001b[0;34m'Publish Latency PDF'\u001b[0m\u001b[0;34m)\u001b[0m\u001b[0;34m\u001b[0m\u001b[0;34m\u001b[0m\u001b[0m\n\u001b[0m",
      "\u001b[0;31mNameError\u001b[0m: name 'pubcdf' is not defined"
     ]
    }
   ],
   "source": [
    "# Probability Distribution Function (latency histogram)\n",
    "pubpdf = pd.Series(index=pubcdf.index, data=np.gradient(pubcdf, pubcdf.index.values), name='Publish Latency PDF')"
   ]
  },
  {
   "cell_type": "code",
   "execution_count": 25,
   "metadata": {},
   "outputs": [
    {
     "ename": "NameError",
     "evalue": "name 'pubpdf' is not defined",
     "output_type": "error",
     "traceback": [
      "\u001b[0;31m---------------------------------------------------------------------------\u001b[0m",
      "\u001b[0;31mNameError\u001b[0m                                 Traceback (most recent call last)",
      "\u001b[0;32m<ipython-input-25-c3189d1c32c7>\u001b[0m in \u001b[0;36m<module>\u001b[0;34m\u001b[0m\n\u001b[1;32m      1\u001b[0m \u001b[0mfig0\u001b[0m\u001b[0;34m,\u001b[0m \u001b[0max0\u001b[0m \u001b[0;34m=\u001b[0m \u001b[0mplt\u001b[0m\u001b[0;34m.\u001b[0m\u001b[0msubplots\u001b[0m\u001b[0;34m(\u001b[0m\u001b[0;34m)\u001b[0m\u001b[0;34m\u001b[0m\u001b[0;34m\u001b[0m\u001b[0m\n\u001b[1;32m      2\u001b[0m \u001b[0max1\u001b[0m \u001b[0;34m=\u001b[0m \u001b[0max0\u001b[0m\u001b[0;34m.\u001b[0m\u001b[0mtwinx\u001b[0m\u001b[0;34m(\u001b[0m\u001b[0;34m)\u001b[0m\u001b[0;34m\u001b[0m\u001b[0;34m\u001b[0m\u001b[0m\n\u001b[0;32m----> 3\u001b[0;31m \u001b[0mpubpdf\u001b[0m\u001b[0;34m.\u001b[0m\u001b[0mplot\u001b[0m\u001b[0;34m(\u001b[0m\u001b[0max\u001b[0m\u001b[0;34m=\u001b[0m\u001b[0max0\u001b[0m\u001b[0;34m,\u001b[0m \u001b[0mxlim\u001b[0m\u001b[0;34m=\u001b[0m\u001b[0;34m[\u001b[0m\u001b[0;36m1\u001b[0m\u001b[0;34m,\u001b[0m\u001b[0;36m100\u001b[0m\u001b[0;34m]\u001b[0m\u001b[0;34m,\u001b[0m \u001b[0mylim\u001b[0m\u001b[0;34m=\u001b[0m\u001b[0;34m[\u001b[0m\u001b[0;36m0\u001b[0m\u001b[0;34m,\u001b[0m\u001b[0;32mNone\u001b[0m\u001b[0;34m]\u001b[0m\u001b[0;34m,\u001b[0m \u001b[0mstyle\u001b[0m\u001b[0;34m=\u001b[0m\u001b[0;34m'r'\u001b[0m\u001b[0;34m,\u001b[0m \u001b[0mtitle\u001b[0m\u001b[0;34m=\u001b[0m\u001b[0;34m'Publish Latency PDF and CDF'\u001b[0m\u001b[0;34m)\u001b[0m\u001b[0;34m\u001b[0m\u001b[0;34m\u001b[0m\u001b[0m\n\u001b[0m\u001b[1;32m      4\u001b[0m \u001b[0mpubcdf\u001b[0m\u001b[0;34m.\u001b[0m\u001b[0mplot\u001b[0m\u001b[0;34m(\u001b[0m\u001b[0max\u001b[0m\u001b[0;34m=\u001b[0m\u001b[0max1\u001b[0m\u001b[0;34m,\u001b[0m \u001b[0mxlim\u001b[0m\u001b[0;34m=\u001b[0m\u001b[0;34m[\u001b[0m\u001b[0;36m1\u001b[0m\u001b[0;34m,\u001b[0m\u001b[0;36m100\u001b[0m\u001b[0;34m]\u001b[0m\u001b[0;34m,\u001b[0m \u001b[0msecondary_y\u001b[0m\u001b[0;34m=\u001b[0m\u001b[0;32mTrue\u001b[0m\u001b[0;34m,\u001b[0m \u001b[0mlogx\u001b[0m\u001b[0;34m=\u001b[0m\u001b[0;32mTrue\u001b[0m\u001b[0;34m,\u001b[0m \u001b[0mylim\u001b[0m\u001b[0;34m=\u001b[0m\u001b[0;34m[\u001b[0m\u001b[0;36m0\u001b[0m\u001b[0;34m,\u001b[0m\u001b[0;36m1\u001b[0m\u001b[0;34m]\u001b[0m\u001b[0;34m)\u001b[0m\u001b[0;34m\u001b[0m\u001b[0;34m\u001b[0m\u001b[0m\n\u001b[1;32m      5\u001b[0m \u001b[0;31m# ax0.set_ylabel('PDF');\u001b[0m\u001b[0;34m\u001b[0m\u001b[0;34m\u001b[0m\u001b[0;34m\u001b[0m\u001b[0m\n",
      "\u001b[0;31mNameError\u001b[0m: name 'pubpdf' is not defined"
     ]
    },
    {
     "data": {
      "image/png": "[encoded data removed]",
      "text/plain": [
       "<Figure size 432x288 with 2 Axes>"
      ]
     },
     "metadata": {
      "needs_background": "light"
     },
     "output_type": "display_data"
    }
   ],
   "source": [
    "fig0, ax0 = plt.subplots()\n",
    "ax1 = ax0.twinx()\n",
    "pubpdf.plot(ax=ax0, xlim=[1,100], ylim=[0,None], style='r', title='Publish Latency PDF and CDF')\n",
    "pubcdf.plot(ax=ax1, xlim=[1,100], secondary_y=True, logx=True, ylim=[0,1])\n",
    "# ax0.set_ylabel('PDF');\n",
    "# ax1.set_ylabel('CDF');\n",
    "ax0.set_xlabel('Publish Latency (ms)');\n",
    "tick_formatter = matplotlib.ticker.LogFormatter()\n",
    "ax0.xaxis.set_major_formatter(tick_formatter)\n",
    "ax0.grid('on', which='both', axis='both')\n",
    "plt.show()\n",
    "plt.close()"
   ]
  },
  {
   "cell_type": "code",
   "execution_count": null,
   "metadata": {},
   "outputs": [],
   "source": [
    "# Cumulative Distribution Function\n",
    "e2ecdf = t.aggregatedEndToEndLatencyQuantiles\n",
    "e2ecdf.name = 'E2E Latency CDF'\n",
    "# Probability Distribution Function (latency histogram)\n",
    "e2epdf = pd.Series(index=e2ecdf.index, data=np.gradient(e2ecdf, e2ecdf.index.values), name='E2E Latency PDF')"
   ]
  },
  {
   "cell_type": "code",
   "execution_count": null,
   "metadata": {},
   "outputs": [],
   "source": [
    "fig0, ax0 = plt.subplots()\n",
    "ax1 = ax0.twinx()\n",
    "e2epdf.plot(ax=ax0, xlim=[1,100], ylim=[0,None], style='r', title='E2E Latency PDF and CDF')\n",
    "e2ecdf.plot(ax=ax1, xlim=[1,100], secondary_y=True, logx=True, ylim=[0,1])\n",
    "# ax0.set_ylabel('PDF');\n",
    "# ax1.set_ylabel('CDF');\n",
    "ax0.set_xlabel('E2E Latency (ms)');\n",
    "tick_formatter = matplotlib.ticker.LogFormatter()\n",
    "ax0.xaxis.set_major_formatter(tick_formatter)\n",
    "ax0.grid('on', which='both', axis='both')\n",
    "plt.show()\n",
    "plt.close()"
   ]
  },
  {
   "cell_type": "code",
   "execution_count": null,
   "metadata": {},
   "outputs": [],
   "source": [
    "# Combined publish and E2E latency CDF\n",
    "fig0, ax0 = plt.subplots()\n",
    "xlim=[1,25]\n",
    "pubcdf.plot(ax=ax0, xlim=xlim, logx=True, ylim=[0,1], legend=True, figsize=(10,8))\n",
    "e2ecdf.plot(ax=ax0, xlim=xlim, logx=True, ylim=[0,1], legend=True)\n",
    "ax0.set_xlabel('E2E Latency (ms)');\n",
    "tick_formatter = matplotlib.ticker.LogFormatter()\n",
    "ax0.xaxis.set_major_formatter(tick_formatter)\n",
    "ax0.grid('on', which='both', axis='both')\n",
    "plt.show()\n",
    "plt.close()"
   ]
  },
  {
   "cell_type": "markdown",
   "metadata": {},
   "source": [
    "## Compare Two Sets"
   ]
  },
  {
   "cell_type": "code",
   "execution_count": 26,
   "metadata": {},
   "outputs": [
    {
     "ename": "NameError",
     "evalue": "name 'clean_df' is not defined",
     "output_type": "error",
     "traceback": [
      "\u001b[0;31m---------------------------------------------------------------------------\u001b[0m",
      "\u001b[0;31mNameError\u001b[0m                                 Traceback (most recent call last)",
      "\u001b[0;32m<ipython-input-26-6d43913d06ea>\u001b[0m in \u001b[0;36m<module>\u001b[0;34m\u001b[0m\n\u001b[1;32m      1\u001b[0m \u001b[0;31m# Common filter\u001b[0m\u001b[0;34m\u001b[0m\u001b[0;34m\u001b[0m\u001b[0;34m\u001b[0m\u001b[0m\n\u001b[1;32m      2\u001b[0m filt_df = filter_dataframe(\n\u001b[0;32m----> 3\u001b[0;31m     \u001b[0mclean_df\u001b[0m\u001b[0;34m,\u001b[0m\u001b[0;34m\u001b[0m\u001b[0;34m\u001b[0m\u001b[0m\n\u001b[0m\u001b[1;32m      4\u001b[0m     \u001b[0mdriverName\u001b[0m\u001b[0;34m=\u001b[0m\u001b[0;34m'Pravega'\u001b[0m\u001b[0;34m,\u001b[0m\u001b[0;34m\u001b[0m\u001b[0;34m\u001b[0m\u001b[0m\n\u001b[1;32m      5\u001b[0m     \u001b[0mnumWorkloadWorkers\u001b[0m\u001b[0;34m=\u001b[0m\u001b[0;36m4\u001b[0m\u001b[0;34m,\u001b[0m\u001b[0;34m\u001b[0m\u001b[0;34m\u001b[0m\u001b[0m\n",
      "\u001b[0;31mNameError\u001b[0m: name 'clean_df' is not defined"
     ]
    }
   ],
   "source": [
    "# Common filter\n",
    "filt_df = filter_dataframe(\n",
    "    clean_df,\n",
    "    driverName='Pravega',\n",
    "    numWorkloadWorkers=4, \n",
    "    topics=1,\n",
    "    testDurationMinutes=15,\n",
    "    size_of_test_batch=(2,1000), # between\n",
    "    aggregatedEndToEndLatency50pct=(1,1e6),\n",
    "    messageSize=100,\n",
    "    producersPerTopic=32,\n",
    "    partitionsPerTopic=16,    \n",
    ")\n",
    "len(filt_df)"
   ]
  },
  {
   "cell_type": "code",
   "execution_count": 27,
   "metadata": {},
   "outputs": [
    {
     "ename": "NameError",
     "evalue": "name 'filt_df' is not defined",
     "output_type": "error",
     "traceback": [
      "\u001b[0;31m---------------------------------------------------------------------------\u001b[0m",
      "\u001b[0;31mNameError\u001b[0m                                 Traceback (most recent call last)",
      "\u001b[0;32m<ipython-input-27-17e874cd9649>\u001b[0m in \u001b[0;36m<module>\u001b[0;34m\u001b[0m\n\u001b[1;32m      1\u001b[0m \u001b[0;31m# Set 1\u001b[0m\u001b[0;34m\u001b[0m\u001b[0;34m\u001b[0m\u001b[0;34m\u001b[0m\u001b[0m\n\u001b[1;32m      2\u001b[0m filt1_df = filter_dataframe(\n\u001b[0;32m----> 3\u001b[0;31m     \u001b[0mfilt_df\u001b[0m\u001b[0;34m,\u001b[0m\u001b[0;34m\u001b[0m\u001b[0;34m\u001b[0m\u001b[0m\n\u001b[0m\u001b[1;32m      4\u001b[0m     \u001b[0mpravegaVersion\u001b[0m\u001b[0;34m=\u001b[0m\u001b[0;34m'0.6.0-2361.f273314'\u001b[0m\u001b[0;34m,\u001b[0m\u001b[0;34m\u001b[0m\u001b[0;34m\u001b[0m\u001b[0m\n\u001b[1;32m      5\u001b[0m )\n",
      "\u001b[0;31mNameError\u001b[0m: name 'filt_df' is not defined"
     ]
    }
   ],
   "source": [
    "# Set 1\n",
    "filt1_df = filter_dataframe(\n",
    "    filt_df,\n",
    "    pravegaVersion='0.6.0-2361.f273314',\n",
    ")\n",
    "len(filt1_df)"
   ]
  },
  {
   "cell_type": "code",
   "execution_count": 28,
   "metadata": {},
   "outputs": [
    {
     "ename": "NameError",
     "evalue": "name 'filt_df' is not defined",
     "output_type": "error",
     "traceback": [
      "\u001b[0;31m---------------------------------------------------------------------------\u001b[0m",
      "\u001b[0;31mNameError\u001b[0m                                 Traceback (most recent call last)",
      "\u001b[0;32m<ipython-input-28-e62ef9d734bb>\u001b[0m in \u001b[0;36m<module>\u001b[0;34m\u001b[0m\n\u001b[1;32m      1\u001b[0m \u001b[0;31m# Set 2\u001b[0m\u001b[0;34m\u001b[0m\u001b[0;34m\u001b[0m\u001b[0;34m\u001b[0m\u001b[0m\n\u001b[1;32m      2\u001b[0m filt2_df = filter_dataframe(\n\u001b[0;32m----> 3\u001b[0;31m     \u001b[0mfilt_df\u001b[0m\u001b[0;34m,\u001b[0m\u001b[0;34m\u001b[0m\u001b[0;34m\u001b[0m\u001b[0m\n\u001b[0m\u001b[1;32m      4\u001b[0m     \u001b[0mpravegaVersion\u001b[0m\u001b[0;34m=\u001b[0m\u001b[0;34m'0.6.0-2386.23b7340'\u001b[0m\u001b[0;34m,\u001b[0m\u001b[0;34m\u001b[0m\u001b[0;34m\u001b[0m\u001b[0m\n\u001b[1;32m      5\u001b[0m )\n",
      "\u001b[0;31mNameError\u001b[0m: name 'filt_df' is not defined"
     ]
    }
   ],
   "source": [
    "# Set 2\n",
    "filt2_df = filter_dataframe(\n",
    "    filt_df,\n",
    "    pravegaVersion='0.6.0-2386.23b7340',\n",
    ")\n",
    "len(filt2_df)"
   ]
  },
  {
   "cell_type": "code",
   "execution_count": 29,
   "metadata": {},
   "outputs": [
    {
     "ename": "NameError",
     "evalue": "name 'filt1_df' is not defined",
     "output_type": "error",
     "traceback": [
      "\u001b[0;31m---------------------------------------------------------------------------\u001b[0m",
      "\u001b[0;31mNameError\u001b[0m                                 Traceback (most recent call last)",
      "\u001b[0;32m<ipython-input-29-f9d88f6a44a5>\u001b[0m in \u001b[0;36m<module>\u001b[0;34m\u001b[0m\n\u001b[0;32m----> 1\u001b[0;31m \u001b[0mdfs\u001b[0m \u001b[0;34m=\u001b[0m \u001b[0;34m[\u001b[0m\u001b[0mfilt1_df\u001b[0m\u001b[0;34m,\u001b[0m \u001b[0mfilt2_df\u001b[0m\u001b[0;34m]\u001b[0m\u001b[0;34m\u001b[0m\u001b[0;34m\u001b[0m\u001b[0m\n\u001b[0m\u001b[1;32m      2\u001b[0m \u001b[0mtake_varying_columns\u001b[0m\u001b[0;34m(\u001b[0m\u001b[0mpd\u001b[0m\u001b[0;34m.\u001b[0m\u001b[0mconcat\u001b[0m\u001b[0;34m(\u001b[0m\u001b[0mdfs\u001b[0m\u001b[0;34m)\u001b[0m\u001b[0;34m[\u001b[0m\u001b[0mparam_cols\u001b[0m\u001b[0;34m]\u001b[0m\u001b[0;34m)\u001b[0m\u001b[0;34m.\u001b[0m\u001b[0mdrop_duplicates\u001b[0m\u001b[0;34m(\u001b[0m\u001b[0;34m)\u001b[0m\u001b[0;34m\u001b[0m\u001b[0;34m\u001b[0m\u001b[0m\n",
      "\u001b[0;31mNameError\u001b[0m: name 'filt1_df' is not defined"
     ]
    }
   ],
   "source": [
    "dfs = [filt1_df, filt2_df]\n",
    "take_varying_columns(pd.concat(dfs)[param_cols]).drop_duplicates()"
   ]
  },
  {
   "cell_type": "code",
   "execution_count": 30,
   "metadata": {},
   "outputs": [],
   "source": [
    "def plot_latency_vs_throughput_comparison(dfs, legend_cols=None, latencyMetric='Publish'):\n",
    "    fig0, ax0 = plt.subplots()\n",
    "    cmap = plt.get_cmap('Set1')\n",
    "    colors = cmap.colors[0:len(dfs)]\n",
    "    for index, (df, color) in enumerate(zip(dfs, colors)):\n",
    "        df = df.set_index(['publishRateMBPerSecMean']).sort_index()\n",
    "        name_cols = df.iloc[0][legend_cols]\n",
    "        name = ','.join(['%s=%s' % item for item in name_cols.to_dict().items()])\n",
    "        for percentile, style in [('50',':x'), ('95','-.x'), ('99','-x')]:\n",
    "            plot_df = df[['aggregated%sLatency%spct' % (latencyMetric, percentile)]]\n",
    "            plot_df.columns = ['%s %s Latency p%s' % (name, latencyMetric, percentile)]\n",
    "            plot_df.index.name = 'Publish Throughput (MB/s)'\n",
    "            plot_df.plot(\n",
    "                ax=ax0,\n",
    "                logx=True, \n",
    "                logy=True,\n",
    "                figsize=(10,8),\n",
    "                grid=True,\n",
    "                style=style,\n",
    "                color=color,\n",
    "            )\n",
    "    ax0.set_ylabel('Latency (ms)');\n",
    "    tick_formatter = matplotlib.ticker.LogFormatter()\n",
    "    ax0.xaxis.set_major_formatter(tick_formatter)\n",
    "    ax0.yaxis.set_major_formatter(tick_formatter)\n",
    "    ax0.grid('on', which='both', axis='both')"
   ]
  },
  {
   "cell_type": "code",
   "execution_count": 31,
   "metadata": {},
   "outputs": [
    {
     "ename": "NameError",
     "evalue": "name 'filt1_df' is not defined",
     "output_type": "error",
     "traceback": [
      "\u001b[0;31m---------------------------------------------------------------------------\u001b[0m",
      "\u001b[0;31mNameError\u001b[0m                                 Traceback (most recent call last)",
      "\u001b[0;32m<ipython-input-31-d271989a3759>\u001b[0m in \u001b[0;36m<module>\u001b[0;34m\u001b[0m\n\u001b[0;32m----> 1\u001b[0;31m \u001b[0mplot_latency_vs_throughput_comparison\u001b[0m\u001b[0;34m(\u001b[0m\u001b[0;34m[\u001b[0m\u001b[0mfilt1_df\u001b[0m\u001b[0;34m,\u001b[0m \u001b[0mfilt2_df\u001b[0m\u001b[0;34m]\u001b[0m\u001b[0;34m,\u001b[0m \u001b[0mlegend_cols\u001b[0m\u001b[0;34m=\u001b[0m\u001b[0;34m[\u001b[0m\u001b[0;34m'pravegaVersion'\u001b[0m\u001b[0;34m]\u001b[0m\u001b[0;34m,\u001b[0m \u001b[0mlatencyMetric\u001b[0m\u001b[0;34m=\u001b[0m\u001b[0;34m'Publish'\u001b[0m\u001b[0;34m)\u001b[0m\u001b[0;34m\u001b[0m\u001b[0;34m\u001b[0m\u001b[0m\n\u001b[0m",
      "\u001b[0;31mNameError\u001b[0m: name 'filt1_df' is not defined"
     ]
    }
   ],
   "source": [
    "plot_latency_vs_throughput_comparison([filt1_df, filt2_df], legend_cols=['pravegaVersion'], latencyMetric='Publish')"
   ]
  },
  {
   "cell_type": "code",
   "execution_count": 32,
   "metadata": {},
   "outputs": [
    {
     "ename": "NameError",
     "evalue": "name 'filt1_df' is not defined",
     "output_type": "error",
     "traceback": [
      "\u001b[0;31m---------------------------------------------------------------------------\u001b[0m",
      "\u001b[0;31mNameError\u001b[0m                                 Traceback (most recent call last)",
      "\u001b[0;32m<ipython-input-32-c86bcc0e3090>\u001b[0m in \u001b[0;36m<module>\u001b[0;34m\u001b[0m\n\u001b[0;32m----> 1\u001b[0;31m \u001b[0mplot_latency_vs_throughput_comparison\u001b[0m\u001b[0;34m(\u001b[0m\u001b[0;34m[\u001b[0m\u001b[0mfilt1_df\u001b[0m\u001b[0;34m,\u001b[0m \u001b[0mfilt2_df\u001b[0m\u001b[0;34m]\u001b[0m\u001b[0;34m,\u001b[0m \u001b[0mlegend_cols\u001b[0m\u001b[0;34m=\u001b[0m\u001b[0;34m[\u001b[0m\u001b[0;34m'pravegaVersion'\u001b[0m\u001b[0;34m]\u001b[0m\u001b[0;34m,\u001b[0m \u001b[0mlatencyMetric\u001b[0m\u001b[0;34m=\u001b[0m\u001b[0;34m'EndToEnd'\u001b[0m\u001b[0;34m)\u001b[0m\u001b[0;34m\u001b[0m\u001b[0;34m\u001b[0m\u001b[0m\n\u001b[0m",
      "\u001b[0;31mNameError\u001b[0m: name 'filt1_df' is not defined"
     ]
    }
   ],
   "source": [
    "plot_latency_vs_throughput_comparison([filt1_df, filt2_df], legend_cols=['pravegaVersion'], latencyMetric='EndToEnd')"
   ]
  },
  {
   "cell_type": "code",
   "execution_count": null,
   "metadata": {},
   "outputs": [],
   "source": []
  },
  {
   "cell_type": "code",
   "execution_count": null,
   "metadata": {},
   "outputs": [],
   "source": []
  },
  {
   "cell_type": "code",
   "execution_count": null,
   "metadata": {},
   "outputs": [],
   "source": []
  },
  {
   "cell_type": "code",
   "execution_count": null,
   "metadata": {},
   "outputs": [],
   "source": []
  },
  {
   "cell_type": "code",
   "execution_count": null,
   "metadata": {},
   "outputs": [],
   "source": []
  },
  {
   "cell_type": "code",
   "execution_count": null,
   "metadata": {},
   "outputs": [],
   "source": []
  }
 ],
 "metadata": {
  "kernelspec": {
   "display_name": "Python 3",
   "language": "python",
   "name": "python3"
  },
  "language_info": {
   "codemirror_mode": {
    "name": "ipython",
    "version": 3
   },
   "file_extension": ".py",
   "mimetype": "text/x-python",
   "name": "python",
   "nbconvert_exporter": "python",
   "pygments_lexer": "ipython3",
   "version": "3.7.3"
  }
 },
 "nbformat": 4,
 "nbformat_minor": 4
}
