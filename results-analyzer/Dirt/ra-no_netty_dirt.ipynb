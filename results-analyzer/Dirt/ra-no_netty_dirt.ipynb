{
 "cells": [
  {
   "cell_type": "code",
   "execution_count": null,
   "metadata": {},
   "outputs": [],
   "source": [
    "!pip install p3_data"
   ]
  },
  {
   "cell_type": "code",
   "execution_count": null,
   "metadata": {},
   "outputs": [],
   "source": [
    "%matplotlib inline\n",
    "import pandas as pd\n",
    "import numpy as np\n",
    "import matplotlib\n",
    "import matplotlib.pylab as plt\n",
    "import matplotlib.dates as mdates\n",
    "import matplotlib.cm as cm\n",
    "import seaborn as sns\n",
    "import json\n",
    "from io import StringIO\n",
    "import importlib"
   ]
  },
  {
   "cell_type": "code",
   "execution_count": null,
   "metadata": {},
   "outputs": [],
   "source": [
    "import p3_data\n",
    "from p3_data import (glob_file_list, load_json_from_file, merge_dicts, plot_groups, \n",
    "    get_varying_column_names, filter_dataframe, take_varying_columns,\n",
    "    load_json_records_as_dataframe)"
   ]
  },
  {
   "cell_type": "code",
   "execution_count": null,
   "metadata": {},
   "outputs": [],
   "source": [
    "# Load result files from P3 Test Driver\n",
    "src_files = []\n",
    "src_files += ['../../../../no_netty_comparison/28april-Dirt/no_netty_Dirt_38tests/p3_test_driver/results1/*.json']\n",
    "#src_files += ['../../../no_netty_comparison/28april-Dirt/better_batching_38tests/p3_test_driver/results1/*.json']\n",
    "#src_files += ['../../../no_netty_comparison/28april-Dirt/no_netty_100b_18tests_Dirt/p3_test_driver/results1/*.json']\n",
    "raw_df = load_json_records_as_dataframe(src=src_files, ignore_error=True)"
   ]
  },
  {
   "cell_type": "code",
   "execution_count": null,
   "metadata": {},
   "outputs": [],
   "source": [
    "# Clean raw results\n",
    "def clean_result(result):\n",
    "    try:\n",
    "        r = result.copy()\n",
    "        r['utc_begin'] = pd.to_datetime(r['utc_begin'], utc=True)\n",
    "        r['utc_end'] = pd.to_datetime(r['utc_end'], utc=True)\n",
    "        r['git_commit'] = r['git_commit'].split(' ')[0]\n",
    "        r['driverName'] = r['driver']['name']\n",
    "        if r['driverName'] == 'Pulsar':\n",
    "            r = merge_dicts(r, r['driver']['client']['persistence'])\n",
    "        r = merge_dicts(r, r['workload'])\n",
    "        del r['workload']\n",
    "        r = merge_dicts(r, r['omb_results'])\n",
    "        if 'ansible_vars' in r and isinstance(r['ansible_vars'], dict):\n",
    "            r = merge_dicts(r, r['ansible_vars'])\n",
    "        if r['driverName'] == 'Pravega':\n",
    "            if 'pravegaVersion' not in r:\n",
    "                r['pravegaVersion'] = '0.6.0-2361.f273314-SNAPSHOT'\n",
    "            r['pravegaVersion'] = r['pravegaVersion'].replace('-SNAPSHOT','')\n",
    "        for k in list(r.keys()):\n",
    "            if 'Quantiles' in k:\n",
    "                r[k] = pd.Series(data=[float(q) for q in r[k].keys()], index=list(r[k].values())).sort_index() / 100\n",
    "            elif isinstance(r[k], list) and 'Rate' in k:\n",
    "                r[k] = pd.Series(r[k])\n",
    "                r['%sMean' % k] = r[k].mean()\n",
    "        r['numWorkloadWorkers'] = int(r.get('numWorkers', 0))\n",
    "        r['throttleEventsPerSec'] = r['producerRate']\n",
    "        r['publishRateEventsPerSecMean'] = r['publishRateMean']\n",
    "        r['publishRateMBPerSecMean'] = r['publishRateMean'] * r['messageSize'] * 1e-6\n",
    "        r['publishLatencyMsAvg'] = r['aggregatedPublishLatencyAvg']\n",
    "        r['publishLatencyMs50Pct'] = r['aggregatedPublishLatency50pct']\n",
    "        r['publishLatencyMs99Pct'] = r['aggregatedPublishLatency99pct']\n",
    "        r['endToEndLatencyMsAvg'] = r['aggregatedEndToEndLatencyAvg']\n",
    "        r['endToEndLatencyMs50Pct'] = r['aggregatedEndToEndLatency50pct']\n",
    "        r['endToEndLatencyMs99Pct'] = r['aggregatedEndToEndLatency99pct']\n",
    "        return pd.Series(r)\n",
    "    except Exception as e:\n",
    "        print('ERROR: %s: %s' % (r['test_uuid'], e))\n",
    "        # raise e"
   ]
  },
  {
   "cell_type": "code",
   "execution_count": null,
   "metadata": {},
   "outputs": [],
   "source": [
    "# r = clean_result(raw_df.iloc[-1])\n",
    "# pd.DataFrame(r)"
   ]
  },
  {
   "cell_type": "code",
   "execution_count": null,
   "metadata": {},
   "outputs": [],
   "source": [
    "clean_df = raw_df.apply(clean_result, axis=1)\n",
    "clean_df = clean_df.set_index('test_uuid', drop=False)\n",
    "clean_df = clean_df[clean_df.error==False]\n",
    "clean_df = clean_df.sort_values(['utc_begin'])"
   ]
  },
  {
   "cell_type": "code",
   "execution_count": null,
   "metadata": {},
   "outputs": [],
   "source": [
    "# Show list of columns\n",
    "clean_df.columns.values"
   ]
  },
  {
   "cell_type": "code",
   "execution_count": null,
   "metadata": {},
   "outputs": [],
   "source": [
    "# Define columns that identify test parameters\n",
    "param_cols = [\n",
    "    'numWorkloadWorkers',\n",
    "    'topics',\n",
    "    'partitionsPerTopic',\n",
    "    'producersPerTopic',\n",
    "    'subscriptionsPerTopic',\n",
    "    'consumerPerSubscription',\n",
    "    'testDurationMinutes',\n",
    "    'keyDistributor',\n",
    "    'git_commit',\n",
    "    'pravegaVersion',\n",
    "]"
   ]
  },
  {
   "cell_type": "code",
   "execution_count": null,
   "metadata": {},
   "outputs": [],
   "source": [
    "# Define columns that are the output of the experiments\n",
    "output_cols = [\n",
    "    'publishRateEventsPerSecMean',\n",
    "    'publishRateMBPerSecMean',\n",
    "    'publishLatencyMs50Pct',\n",
    "    'publishLatencyMs99Pct',\n",
    "    'endToEndLatencyMs50Pct',\n",
    "    'endToEndLatencyMs99Pct',\n",
    "    'utc_begin',    \n",
    "]"
   ]
  },
  {
   "cell_type": "code",
   "execution_count": null,
   "metadata": {},
   "outputs": [],
   "source": [
    "cols = param_cols + output_cols"
   ]
  },
  {
   "cell_type": "code",
   "execution_count": null,
   "metadata": {},
   "outputs": [],
   "source": [
    "# View most recent results\n",
    "clean_df[cols].tail(24).T"
   ]
  },
  {
   "cell_type": "code",
   "execution_count": null,
   "metadata": {},
   "outputs": [],
   "source": [
    "# Export to CSV\n",
    "#clean_df[cols].to_csv('openmessaging-benchmark-results.csv')"
   ]
  },
  {
   "cell_type": "code",
   "execution_count": null,
   "metadata": {},
   "outputs": [],
   "source": [
    "# df = clean_df[cols]\n",
    "# df = df.sort_values(['messageSize','numWorkloadWorkers','producersPerTopic','throttleEventsPerSec','utc_begin'])\n",
    "# df.head()"
   ]
  },
  {
   "cell_type": "code",
   "execution_count": null,
   "metadata": {},
   "outputs": [],
   "source": [
    "# View distinct values of pravegaVersion and test counts\n",
    "clean_df.groupby(['pravegaVersion']).size()"
   ]
  },
  {
   "cell_type": "code",
   "execution_count": null,
   "metadata": {},
   "outputs": [],
   "source": [
    "# First level of filtering\n",
    "filt_df = filter_dataframe(\n",
    "    clean_df,\n",
    "  #  driverName='Pravega',\n",
    "  #  pravegaVersion='0.8.0-2508.30406cf',\n",
    "#     pravegaVersion='0.6.0-2386.23b7340',\n",
    "   # numWorkloadWorkers=2, \n",
    "    topics=1,\n",
    "    testDurationMinutes=2,\n",
    "   # size_of_test_batch=(2,1000), # between\n",
    "   # aggregatedEndToEndLatency50pct=(1,1e6),\n",
    ")\n",
    "# filt_df = filt_df[filt_df.size_of_test_batch > 1]\n",
    "len(filt_df)"
   ]
  },
  {
   "cell_type": "code",
   "execution_count": null,
   "metadata": {},
   "outputs": [],
   "source": [
    "def latency_vs_throughput_table(df):\n",
    "    result_df = (df\n",
    "        .set_index(['publishRateMBPerSecMean'])\n",
    "        .sort_index()\n",
    "        [[\n",
    "            'aggregatedPublishLatency50pct',\n",
    "            'aggregatedPublishLatency95pct',\n",
    "            'aggregatedPublishLatency99pct',\n",
    "            'aggregatedEndToEndLatency50pct',\n",
    "            'aggregatedEndToEndLatency95pct',\n",
    "            'aggregatedEndToEndLatency99pct',\n",
    "            'test_uuid',\n",
    "        ]]\n",
    "        .rename(columns=dict(\n",
    "            aggregatedPublishLatency50pct='Publish Latency p50',\n",
    "            aggregatedPublishLatency95pct='Publish Latency p95',\n",
    "            aggregatedPublishLatency99pct='Publish Latency p99',\n",
    "            aggregatedEndToEndLatency50pct='E2E Latency p50',\n",
    "            aggregatedEndToEndLatency95pct='E2E Latency p95',\n",
    "            aggregatedEndToEndLatency99pct='E2E Latency p99',\n",
    "        ))\n",
    "        )\n",
    "    result_df.index.name = 'Publish Throughput (MB/s)'\n",
    "    return result_df"
   ]
  },
  {
   "cell_type": "code",
   "execution_count": null,
   "metadata": {},
   "outputs": [],
   "source": [
    "def plot_latency_vs_throughput(df):\n",
    "    assert len(df.messageSize.drop_duplicates().values) == 1\n",
    "    messageSize = df.messageSize.iloc[0]\n",
    "    partitionsPerTopic = df.partitionsPerTopic.iloc[0]\n",
    "    plot_df = latency_vs_throughput_table(df)\n",
    "    title = 'No netty on Dirt, Message Size %d, partitions: %d  2min test' % (messageSize, partitionsPerTopic)\n",
    "    ax = plot_df.plot(\n",
    "        logx=True, \n",
    "        logy=True,\n",
    "        figsize=(10,8),\n",
    "        grid=True, \n",
    "        title=title, \n",
    "        style=['x:b','x-.b','x-b','+:r','+-.r','+-r'])\n",
    "    ax.set_ylabel('Latency (ms)');\n",
    "    tick_formatter = matplotlib.ticker.LogFormatter()\n",
    "    ax.xaxis.set_major_formatter(tick_formatter)\n",
    "    ax.yaxis.set_major_formatter(tick_formatter)\n",
    "    ax.grid('on', which='both', axis='both')"
   ]
  },
  {
   "cell_type": "markdown",
   "metadata": {},
   "source": [
    "## Message Size 100 B"
   ]
  },
  {
   "cell_type": "code",
   "execution_count": null,
   "metadata": {},
   "outputs": [],
   "source": [
    "filt_100_df = filter_dataframe(\n",
    "    filt_df,\n",
    "    messageSize=100,\n",
    "    producersPerTopic=2,\n",
    "    partitionsPerTopic=1\n",
    "    #pravegaVersion='0.8.0-2527.e480f26_no_netty_Dirt'\n",
    ")"
   ]
  },
  {
   "cell_type": "code",
   "execution_count": null,
   "metadata": {},
   "outputs": [],
   "source": [
    "# View varying columns\n",
    "take_varying_columns(filt_100_df[filt_100_df.producerRate==100000]).T"
   ]
  },
  {
   "cell_type": "code",
   "execution_count": null,
   "metadata": {},
   "outputs": [],
   "source": [
    "# View distinct sets of parameters.\n",
    "# There should only be one distinct set of parameters.\n",
    "filt_100_df[param_cols].drop_duplicates().T"
   ]
  },
  {
   "cell_type": "code",
   "execution_count": null,
   "metadata": {},
   "outputs": [],
   "source": [
    "plot_latency_vs_throughput(filt_100_df)"
   ]
  },
  {
   "cell_type": "code",
   "execution_count": null,
   "metadata": {},
   "outputs": [],
   "source": [
    "latency_vs_throughput_table(filt_100_df)"
   ]
  },
  {
   "cell_type": "markdown",
   "metadata": {},
   "source": [
    "## Message Size 10 KB"
   ]
  },
  {
   "cell_type": "code",
   "execution_count": 183,
   "metadata": {},
   "outputs": [],
   "source": [
    "filt_10000_df = filter_dataframe(\n",
    "    filt_df,\n",
    "    messageSize=10000,\n",
    "    #producersPerTopic=1,\n",
    "    partitionsPerTopic=16,\n",
    ")"
   ]
  },
  {
   "cell_type": "code",
   "execution_count": 184,
   "metadata": {},
   "outputs": [
    {
     "data": {
      "text/html": [
       "<div>\n",
       "<style scoped>\n",
       "    .dataframe tbody tr th:only-of-type {\n",
       "        vertical-align: middle;\n",
       "    }\n",
       "\n",
       "    .dataframe tbody tr th {\n",
       "        vertical-align: top;\n",
       "    }\n",
       "\n",
       "    .dataframe thead th {\n",
       "        text-align: right;\n",
       "    }\n",
       "</style>\n",
       "<table border=\"1\" class=\"dataframe\">\n",
       "  <thead>\n",
       "    <tr style=\"text-align: right;\">\n",
       "      <th>test_uuid</th>\n",
       "      <th>e0cd840a-bbba-429f-8d3c-30c534a2b368</th>\n",
       "      <th>be994611-de50-4562-b50b-90f5c5e6f12d</th>\n",
       "      <th>a7d12446-8cce-42f2-9922-a81721bebf78</th>\n",
       "    </tr>\n",
       "  </thead>\n",
       "  <tbody>\n",
       "    <tr>\n",
       "      <td>numWorkloadWorkers</td>\n",
       "      <td>0</td>\n",
       "      <td>0</td>\n",
       "      <td>0</td>\n",
       "    </tr>\n",
       "    <tr>\n",
       "      <td>topics</td>\n",
       "      <td>1</td>\n",
       "      <td>1</td>\n",
       "      <td>1</td>\n",
       "    </tr>\n",
       "    <tr>\n",
       "      <td>partitionsPerTopic</td>\n",
       "      <td>16</td>\n",
       "      <td>16</td>\n",
       "      <td>16</td>\n",
       "    </tr>\n",
       "    <tr>\n",
       "      <td>producersPerTopic</td>\n",
       "      <td>1</td>\n",
       "      <td>1</td>\n",
       "      <td>1</td>\n",
       "    </tr>\n",
       "    <tr>\n",
       "      <td>subscriptionsPerTopic</td>\n",
       "      <td>1</td>\n",
       "      <td>1</td>\n",
       "      <td>1</td>\n",
       "    </tr>\n",
       "    <tr>\n",
       "      <td>consumerPerSubscription</td>\n",
       "      <td>16</td>\n",
       "      <td>16</td>\n",
       "      <td>16</td>\n",
       "    </tr>\n",
       "    <tr>\n",
       "      <td>testDurationMinutes</td>\n",
       "      <td>2</td>\n",
       "      <td>2</td>\n",
       "      <td>2</td>\n",
       "    </tr>\n",
       "    <tr>\n",
       "      <td>keyDistributor</td>\n",
       "      <td>NO_KEY</td>\n",
       "      <td>NO_KEY</td>\n",
       "      <td>NO_KEY</td>\n",
       "    </tr>\n",
       "    <tr>\n",
       "      <td>git_commit</td>\n",
       "      <td>0a3b238</td>\n",
       "      <td>0f33554</td>\n",
       "      <td>2eff253</td>\n",
       "    </tr>\n",
       "    <tr>\n",
       "      <td>pravegaVersion</td>\n",
       "      <td>0.8.0-2527.e480f26_better_batching_Dirt</td>\n",
       "      <td>0.8.0-2527.e480f26_no_netty_Dirt</td>\n",
       "      <td>0.8.0-2527.e480f26_no_netty_Dirt</td>\n",
       "    </tr>\n",
       "  </tbody>\n",
       "</table>\n",
       "</div>"
      ],
      "text/plain": [
       "test_uuid                   e0cd840a-bbba-429f-8d3c-30c534a2b368  \\\n",
       "numWorkloadWorkers                                             0   \n",
       "topics                                                         1   \n",
       "partitionsPerTopic                                            16   \n",
       "producersPerTopic                                              1   \n",
       "subscriptionsPerTopic                                          1   \n",
       "consumerPerSubscription                                       16   \n",
       "testDurationMinutes                                            2   \n",
       "keyDistributor                                            NO_KEY   \n",
       "git_commit                                               0a3b238   \n",
       "pravegaVersion           0.8.0-2527.e480f26_better_batching_Dirt   \n",
       "\n",
       "test_uuid               be994611-de50-4562-b50b-90f5c5e6f12d  \\\n",
       "numWorkloadWorkers                                         0   \n",
       "topics                                                     1   \n",
       "partitionsPerTopic                                        16   \n",
       "producersPerTopic                                          1   \n",
       "subscriptionsPerTopic                                      1   \n",
       "consumerPerSubscription                                   16   \n",
       "testDurationMinutes                                        2   \n",
       "keyDistributor                                        NO_KEY   \n",
       "git_commit                                           0f33554   \n",
       "pravegaVersion              0.8.0-2527.e480f26_no_netty_Dirt   \n",
       "\n",
       "test_uuid               a7d12446-8cce-42f2-9922-a81721bebf78  \n",
       "numWorkloadWorkers                                         0  \n",
       "topics                                                     1  \n",
       "partitionsPerTopic                                        16  \n",
       "producersPerTopic                                          1  \n",
       "subscriptionsPerTopic                                      1  \n",
       "consumerPerSubscription                                   16  \n",
       "testDurationMinutes                                        2  \n",
       "keyDistributor                                        NO_KEY  \n",
       "git_commit                                           2eff253  \n",
       "pravegaVersion              0.8.0-2527.e480f26_no_netty_Dirt  "
      ]
     },
     "execution_count": 184,
     "metadata": {},
     "output_type": "execute_result"
    }
   ],
   "source": [
    "# View distinct sets of parameters.\n",
    "# There should only be one distinct set of parameters.\n",
    "filt_10000_df[param_cols].drop_duplicates().T"
   ]
  },
  {
   "cell_type": "code",
   "execution_count": 185,
   "metadata": {},
   "outputs": [
    {
     "data": {
      "image/png": "[encoded data removed]",
      "text/plain": [
       "<Figure size 720x576 with 1 Axes>"
      ]
     },
     "metadata": {
      "needs_background": "light"
     },
     "output_type": "display_data"
    }
   ],
   "source": [
    "plot_latency_vs_throughput(filt_10000_df)"
   ]
  },
  {
   "cell_type": "code",
   "execution_count": 186,
   "metadata": {},
   "outputs": [
    {
     "data": {
      "text/html": [
       "<div>\n",
       "<style scoped>\n",
       "    .dataframe tbody tr th:only-of-type {\n",
       "        vertical-align: middle;\n",
       "    }\n",
       "\n",
       "    .dataframe tbody tr th {\n",
       "        vertical-align: top;\n",
       "    }\n",
       "\n",
       "    .dataframe thead th {\n",
       "        text-align: right;\n",
       "    }\n",
       "</style>\n",
       "<table border=\"1\" class=\"dataframe\">\n",
       "  <thead>\n",
       "    <tr style=\"text-align: right;\">\n",
       "      <th></th>\n",
       "      <th>Publish Latency p50</th>\n",
       "      <th>Publish Latency p95</th>\n",
       "      <th>Publish Latency p99</th>\n",
       "      <th>E2E Latency p50</th>\n",
       "      <th>E2E Latency p95</th>\n",
       "      <th>E2E Latency p99</th>\n",
       "      <th>test_uuid</th>\n",
       "    </tr>\n",
       "    <tr>\n",
       "      <th>Publish Throughput (MB/s)</th>\n",
       "      <th></th>\n",
       "      <th></th>\n",
       "      <th></th>\n",
       "      <th></th>\n",
       "      <th></th>\n",
       "      <th></th>\n",
       "      <th></th>\n",
       "    </tr>\n",
       "  </thead>\n",
       "  <tbody>\n",
       "    <tr>\n",
       "      <td>10.024086</td>\n",
       "      <td>3.683</td>\n",
       "      <td>13.329</td>\n",
       "      <td>138.236</td>\n",
       "      <td>4.000</td>\n",
       "      <td>16.000</td>\n",
       "      <td>154.000</td>\n",
       "      <td>be994611-de50-4562-b50b-90f5c5e6f12d</td>\n",
       "    </tr>\n",
       "    <tr>\n",
       "      <td>10.026675</td>\n",
       "      <td>62.060</td>\n",
       "      <td>231.297</td>\n",
       "      <td>322.343</td>\n",
       "      <td>63.000</td>\n",
       "      <td>233.000</td>\n",
       "      <td>325.001</td>\n",
       "      <td>e0cd840a-bbba-429f-8d3c-30c534a2b368</td>\n",
       "    </tr>\n",
       "    <tr>\n",
       "      <td>26.546444</td>\n",
       "      <td>31.399</td>\n",
       "      <td>91.535</td>\n",
       "      <td>356.501</td>\n",
       "      <td>34.000</td>\n",
       "      <td>123.000</td>\n",
       "      <td>16346.047</td>\n",
       "      <td>f7ca9b91-0f39-4754-9820-49535f0f8e60</td>\n",
       "    </tr>\n",
       "    <tr>\n",
       "      <td>30.095801</td>\n",
       "      <td>3.564</td>\n",
       "      <td>18.253</td>\n",
       "      <td>41.839</td>\n",
       "      <td>5.000</td>\n",
       "      <td>22.000</td>\n",
       "      <td>73.000</td>\n",
       "      <td>8ae94d37-9ab0-4cd2-be8e-61593c2f10b5</td>\n",
       "    </tr>\n",
       "    <tr>\n",
       "      <td>57.693137</td>\n",
       "      <td>19.999</td>\n",
       "      <td>52.481</td>\n",
       "      <td>170.454</td>\n",
       "      <td>22.000</td>\n",
       "      <td>58.000</td>\n",
       "      <td>210.000</td>\n",
       "      <td>9705a488-452c-40fa-8da4-ca544ab219dc</td>\n",
       "    </tr>\n",
       "    <tr>\n",
       "      <td>60.202691</td>\n",
       "      <td>6.250</td>\n",
       "      <td>26.540</td>\n",
       "      <td>70.900</td>\n",
       "      <td>10.000</td>\n",
       "      <td>35.000</td>\n",
       "      <td>84.000</td>\n",
       "      <td>a6393ac7-acfe-4bde-9806-be5fcd5e9bdc</td>\n",
       "    </tr>\n",
       "    <tr>\n",
       "      <td>62.923158</td>\n",
       "      <td>13.281</td>\n",
       "      <td>7544.255</td>\n",
       "      <td>29427.839</td>\n",
       "      <td>21.000</td>\n",
       "      <td>3088.015</td>\n",
       "      <td>7344.031</td>\n",
       "      <td>52b685ef-83a7-4b23-bd12-1723e34ca6ad</td>\n",
       "    </tr>\n",
       "    <tr>\n",
       "      <td>90.162248</td>\n",
       "      <td>17.582</td>\n",
       "      <td>39.145</td>\n",
       "      <td>61.527</td>\n",
       "      <td>21.000</td>\n",
       "      <td>46.000</td>\n",
       "      <td>84.000</td>\n",
       "      <td>1dbe84f1-bb57-4daf-af42-052069101e6e</td>\n",
       "    </tr>\n",
       "    <tr>\n",
       "      <td>90.228567</td>\n",
       "      <td>7.701</td>\n",
       "      <td>24.349</td>\n",
       "      <td>50.037</td>\n",
       "      <td>11.000</td>\n",
       "      <td>32.000</td>\n",
       "      <td>89.000</td>\n",
       "      <td>d57d4164-d19e-409b-ab80-61e6805782a4</td>\n",
       "    </tr>\n",
       "    <tr>\n",
       "      <td>120.339229</td>\n",
       "      <td>16.737</td>\n",
       "      <td>36.914</td>\n",
       "      <td>66.608</td>\n",
       "      <td>21.000</td>\n",
       "      <td>47.000</td>\n",
       "      <td>99.000</td>\n",
       "      <td>f1e10149-8a65-49c4-918e-2ee85a986781</td>\n",
       "    </tr>\n",
       "    <tr>\n",
       "      <td>150.463958</td>\n",
       "      <td>17.308</td>\n",
       "      <td>35.692</td>\n",
       "      <td>55.161</td>\n",
       "      <td>22.000</td>\n",
       "      <td>43.000</td>\n",
       "      <td>85.000</td>\n",
       "      <td>88b8acb4-8596-452b-8a82-40a6c479113c</td>\n",
       "    </tr>\n",
       "    <tr>\n",
       "      <td>150.609325</td>\n",
       "      <td>12.852</td>\n",
       "      <td>31.194</td>\n",
       "      <td>73.239</td>\n",
       "      <td>20.000</td>\n",
       "      <td>46.000</td>\n",
       "      <td>109.000</td>\n",
       "      <td>a7d12446-8cce-42f2-9922-a81721bebf78</td>\n",
       "    </tr>\n",
       "    <tr>\n",
       "      <td>200.430945</td>\n",
       "      <td>22.285</td>\n",
       "      <td>46.846</td>\n",
       "      <td>88.333</td>\n",
       "      <td>31.000</td>\n",
       "      <td>69.000</td>\n",
       "      <td>112.000</td>\n",
       "      <td>48d8eb73-d42a-4bfb-b5de-5883cf6a0c88</td>\n",
       "    </tr>\n",
       "    <tr>\n",
       "      <td>200.562146</td>\n",
       "      <td>16.105</td>\n",
       "      <td>34.023</td>\n",
       "      <td>52.251</td>\n",
       "      <td>26.000</td>\n",
       "      <td>51.000</td>\n",
       "      <td>79.000</td>\n",
       "      <td>95215f93-f110-47ff-aa18-bd3d502ef0d0</td>\n",
       "    </tr>\n",
       "    <tr>\n",
       "      <td>250.745110</td>\n",
       "      <td>31.261</td>\n",
       "      <td>58.659</td>\n",
       "      <td>93.499</td>\n",
       "      <td>43.000</td>\n",
       "      <td>86.000</td>\n",
       "      <td>130.000</td>\n",
       "      <td>f779fac5-3293-48e3-b3ad-96302e5f4ddd</td>\n",
       "    </tr>\n",
       "    <tr>\n",
       "      <td>250.811405</td>\n",
       "      <td>19.029</td>\n",
       "      <td>41.530</td>\n",
       "      <td>73.527</td>\n",
       "      <td>31.000</td>\n",
       "      <td>72.000</td>\n",
       "      <td>106.000</td>\n",
       "      <td>de94edc7-5a65-4bfc-88c3-401c3e30fe4d</td>\n",
       "    </tr>\n",
       "    <tr>\n",
       "      <td>300.889313</td>\n",
       "      <td>30.534</td>\n",
       "      <td>62.028</td>\n",
       "      <td>96.977</td>\n",
       "      <td>46.000</td>\n",
       "      <td>94.000</td>\n",
       "      <td>127.000</td>\n",
       "      <td>a87665ab-ec0b-4fd5-9839-607f897ad792</td>\n",
       "    </tr>\n",
       "    <tr>\n",
       "      <td>301.122669</td>\n",
       "      <td>22.529</td>\n",
       "      <td>58.193</td>\n",
       "      <td>94.067</td>\n",
       "      <td>36.000</td>\n",
       "      <td>93.000</td>\n",
       "      <td>138.000</td>\n",
       "      <td>81c749f8-0678-43ef-8612-a4c50a9ed74c</td>\n",
       "    </tr>\n",
       "    <tr>\n",
       "      <td>347.729208</td>\n",
       "      <td>30.589</td>\n",
       "      <td>88.838</td>\n",
       "      <td>127.120</td>\n",
       "      <td>13816.063</td>\n",
       "      <td>26686.079</td>\n",
       "      <td>27282.047</td>\n",
       "      <td>fb095cbd-006a-429f-80c8-0a681acd091b</td>\n",
       "    </tr>\n",
       "    <tr>\n",
       "      <td>351.364542</td>\n",
       "      <td>32.792</td>\n",
       "      <td>63.169</td>\n",
       "      <td>118.227</td>\n",
       "      <td>56.000</td>\n",
       "      <td>128.000</td>\n",
       "      <td>173.000</td>\n",
       "      <td>26d2d1c9-a7a5-4cfb-9310-070085bc5734</td>\n",
       "    </tr>\n",
       "  </tbody>\n",
       "</table>\n",
       "</div>"
      ],
      "text/plain": [
       "                           Publish Latency p50  Publish Latency p95  \\\n",
       "Publish Throughput (MB/s)                                             \n",
       "10.024086                                3.683               13.329   \n",
       "10.026675                               62.060              231.297   \n",
       "26.546444                               31.399               91.535   \n",
       "30.095801                                3.564               18.253   \n",
       "57.693137                               19.999               52.481   \n",
       "60.202691                                6.250               26.540   \n",
       "62.923158                               13.281             7544.255   \n",
       "90.162248                               17.582               39.145   \n",
       "90.228567                                7.701               24.349   \n",
       "120.339229                              16.737               36.914   \n",
       "150.463958                              17.308               35.692   \n",
       "150.609325                              12.852               31.194   \n",
       "200.430945                              22.285               46.846   \n",
       "200.562146                              16.105               34.023   \n",
       "250.745110                              31.261               58.659   \n",
       "250.811405                              19.029               41.530   \n",
       "300.889313                              30.534               62.028   \n",
       "301.122669                              22.529               58.193   \n",
       "347.729208                              30.589               88.838   \n",
       "351.364542                              32.792               63.169   \n",
       "\n",
       "                           Publish Latency p99  E2E Latency p50  \\\n",
       "Publish Throughput (MB/s)                                         \n",
       "10.024086                              138.236            4.000   \n",
       "10.026675                              322.343           63.000   \n",
       "26.546444                              356.501           34.000   \n",
       "30.095801                               41.839            5.000   \n",
       "57.693137                              170.454           22.000   \n",
       "60.202691                               70.900           10.000   \n",
       "62.923158                            29427.839           21.000   \n",
       "90.162248                               61.527           21.000   \n",
       "90.228567                               50.037           11.000   \n",
       "120.339229                              66.608           21.000   \n",
       "150.463958                              55.161           22.000   \n",
       "150.609325                              73.239           20.000   \n",
       "200.430945                              88.333           31.000   \n",
       "200.562146                              52.251           26.000   \n",
       "250.745110                              93.499           43.000   \n",
       "250.811405                              73.527           31.000   \n",
       "300.889313                              96.977           46.000   \n",
       "301.122669                              94.067           36.000   \n",
       "347.729208                             127.120        13816.063   \n",
       "351.364542                             118.227           56.000   \n",
       "\n",
       "                           E2E Latency p95  E2E Latency p99  \\\n",
       "Publish Throughput (MB/s)                                     \n",
       "10.024086                           16.000          154.000   \n",
       "10.026675                          233.000          325.001   \n",
       "26.546444                          123.000        16346.047   \n",
       "30.095801                           22.000           73.000   \n",
       "57.693137                           58.000          210.000   \n",
       "60.202691                           35.000           84.000   \n",
       "62.923158                         3088.015         7344.031   \n",
       "90.162248                           46.000           84.000   \n",
       "90.228567                           32.000           89.000   \n",
       "120.339229                          47.000           99.000   \n",
       "150.463958                          43.000           85.000   \n",
       "150.609325                          46.000          109.000   \n",
       "200.430945                          69.000          112.000   \n",
       "200.562146                          51.000           79.000   \n",
       "250.745110                          86.000          130.000   \n",
       "250.811405                          72.000          106.000   \n",
       "300.889313                          94.000          127.000   \n",
       "301.122669                          93.000          138.000   \n",
       "347.729208                       26686.079        27282.047   \n",
       "351.364542                         128.000          173.000   \n",
       "\n",
       "                                                      test_uuid  \n",
       "Publish Throughput (MB/s)                                        \n",
       "10.024086                  be994611-de50-4562-b50b-90f5c5e6f12d  \n",
       "10.026675                  e0cd840a-bbba-429f-8d3c-30c534a2b368  \n",
       "26.546444                  f7ca9b91-0f39-4754-9820-49535f0f8e60  \n",
       "30.095801                  8ae94d37-9ab0-4cd2-be8e-61593c2f10b5  \n",
       "57.693137                  9705a488-452c-40fa-8da4-ca544ab219dc  \n",
       "60.202691                  a6393ac7-acfe-4bde-9806-be5fcd5e9bdc  \n",
       "62.923158                  52b685ef-83a7-4b23-bd12-1723e34ca6ad  \n",
       "90.162248                  1dbe84f1-bb57-4daf-af42-052069101e6e  \n",
       "90.228567                  d57d4164-d19e-409b-ab80-61e6805782a4  \n",
       "120.339229                 f1e10149-8a65-49c4-918e-2ee85a986781  \n",
       "150.463958                 88b8acb4-8596-452b-8a82-40a6c479113c  \n",
       "150.609325                 a7d12446-8cce-42f2-9922-a81721bebf78  \n",
       "200.430945                 48d8eb73-d42a-4bfb-b5de-5883cf6a0c88  \n",
       "200.562146                 95215f93-f110-47ff-aa18-bd3d502ef0d0  \n",
       "250.745110                 f779fac5-3293-48e3-b3ad-96302e5f4ddd  \n",
       "250.811405                 de94edc7-5a65-4bfc-88c3-401c3e30fe4d  \n",
       "300.889313                 a87665ab-ec0b-4fd5-9839-607f897ad792  \n",
       "301.122669                 81c749f8-0678-43ef-8612-a4c50a9ed74c  \n",
       "347.729208                 fb095cbd-006a-429f-80c8-0a681acd091b  \n",
       "351.364542                 26d2d1c9-a7a5-4cfb-9310-070085bc5734  "
      ]
     },
     "execution_count": 186,
     "metadata": {},
     "output_type": "execute_result"
    }
   ],
   "source": [
    "latency_vs_throughput_table(filt_10000_df)"
   ]
  },
  {
   "cell_type": "markdown",
   "metadata": {},
   "source": [
    "## Analyze 100 B events, 50,000 events/sec, various number of partitions and producers"
   ]
  },
  {
   "cell_type": "code",
   "execution_count": 187,
   "metadata": {},
   "outputs": [
    {
     "data": {
      "text/plain": [
       "4"
      ]
     },
     "execution_count": 187,
     "metadata": {},
     "output_type": "execute_result"
    }
   ],
   "source": [
    "filt_50000eps_df = filter_dataframe(\n",
    "    filt_df,\n",
    "    messageSize=100,\n",
    "    producerRate=-1,\n",
    ").sort_values(['endToEndLatencyMs99Pct'], ascending=True)\n",
    "len(filt_50000eps_df)"
   ]
  },
  {
   "cell_type": "code",
   "execution_count": 188,
   "metadata": {},
   "outputs": [
    {
     "data": {
      "text/html": [
       "<div>\n",
       "<style scoped>\n",
       "    .dataframe tbody tr th:only-of-type {\n",
       "        vertical-align: middle;\n",
       "    }\n",
       "\n",
       "    .dataframe tbody tr th {\n",
       "        vertical-align: top;\n",
       "    }\n",
       "\n",
       "    .dataframe thead th {\n",
       "        text-align: right;\n",
       "    }\n",
       "</style>\n",
       "<table border=\"1\" class=\"dataframe\">\n",
       "  <thead>\n",
       "    <tr style=\"text-align: right;\">\n",
       "      <th></th>\n",
       "      <th>partitionsPerTopic</th>\n",
       "      <th>consumerPerSubscription</th>\n",
       "      <th>git_commit</th>\n",
       "      <th>pravegaVersion</th>\n",
       "      <th>publishRateEventsPerSecMean</th>\n",
       "      <th>publishRateMBPerSecMean</th>\n",
       "      <th>publishLatencyMs50Pct</th>\n",
       "      <th>publishLatencyMs99Pct</th>\n",
       "      <th>endToEndLatencyMs50Pct</th>\n",
       "      <th>endToEndLatencyMs99Pct</th>\n",
       "      <th>utc_begin</th>\n",
       "    </tr>\n",
       "    <tr>\n",
       "      <th>test_uuid</th>\n",
       "      <th></th>\n",
       "      <th></th>\n",
       "      <th></th>\n",
       "      <th></th>\n",
       "      <th></th>\n",
       "      <th></th>\n",
       "      <th></th>\n",
       "      <th></th>\n",
       "      <th></th>\n",
       "      <th></th>\n",
       "      <th></th>\n",
       "    </tr>\n",
       "  </thead>\n",
       "  <tbody>\n",
       "    <tr>\n",
       "      <td>0765ca66-a869-4b60-b457-9500ef5d8636</td>\n",
       "      <td>1</td>\n",
       "      <td>1</td>\n",
       "      <td>0f33554</td>\n",
       "      <td>0.8.0-2527.e480f26_no_netty_Dirt</td>\n",
       "      <td>810378.134191</td>\n",
       "      <td>81.037813</td>\n",
       "      <td>43.071</td>\n",
       "      <td>304.335</td>\n",
       "      <td>87464.447</td>\n",
       "      <td>143276.031</td>\n",
       "      <td>2020-04-28 18:20:41.396944+00:00</td>\n",
       "    </tr>\n",
       "    <tr>\n",
       "      <td>d6e64bdc-d6be-47c7-806f-efa7aaeb9180</td>\n",
       "      <td>1</td>\n",
       "      <td>1</td>\n",
       "      <td>0a3b238</td>\n",
       "      <td>0.8.0-2527.e480f26_better_batching_Dirt</td>\n",
       "      <td>974185.947085</td>\n",
       "      <td>97.418595</td>\n",
       "      <td>65.567</td>\n",
       "      <td>323.333</td>\n",
       "      <td>101456.383</td>\n",
       "      <td>151303.167</td>\n",
       "      <td>2020-04-28 13:32:49.308666+00:00</td>\n",
       "    </tr>\n",
       "    <tr>\n",
       "      <td>968a9d1a-a5d0-4456-b95c-699e3fda6355</td>\n",
       "      <td>16</td>\n",
       "      <td>16</td>\n",
       "      <td>0a3b238</td>\n",
       "      <td>0.8.0-2527.e480f26_better_batching_Dirt</td>\n",
       "      <td>990005.473438</td>\n",
       "      <td>99.000547</td>\n",
       "      <td>22.343</td>\n",
       "      <td>155.623</td>\n",
       "      <td>34432.255</td>\n",
       "      <td>155725.823</td>\n",
       "      <td>2020-04-28 13:36:00.031718+00:00</td>\n",
       "    </tr>\n",
       "    <tr>\n",
       "      <td>4425d8b6-f046-43dc-97bc-b3bbb2e9dbfd</td>\n",
       "      <td>16</td>\n",
       "      <td>16</td>\n",
       "      <td>0f33554</td>\n",
       "      <td>0.8.0-2527.e480f26_no_netty_Dirt</td>\n",
       "      <td>818307.050469</td>\n",
       "      <td>81.830705</td>\n",
       "      <td>16.043</td>\n",
       "      <td>192.664</td>\n",
       "      <td>41055.231</td>\n",
       "      <td>158302.207</td>\n",
       "      <td>2020-04-28 18:23:53.952226+00:00</td>\n",
       "    </tr>\n",
       "  </tbody>\n",
       "</table>\n",
       "</div>"
      ],
      "text/plain": [
       "                                      partitionsPerTopic  \\\n",
       "test_uuid                                                  \n",
       "0765ca66-a869-4b60-b457-9500ef5d8636                   1   \n",
       "d6e64bdc-d6be-47c7-806f-efa7aaeb9180                   1   \n",
       "968a9d1a-a5d0-4456-b95c-699e3fda6355                  16   \n",
       "4425d8b6-f046-43dc-97bc-b3bbb2e9dbfd                  16   \n",
       "\n",
       "                                      consumerPerSubscription git_commit  \\\n",
       "test_uuid                                                                  \n",
       "0765ca66-a869-4b60-b457-9500ef5d8636                        1    0f33554   \n",
       "d6e64bdc-d6be-47c7-806f-efa7aaeb9180                        1    0a3b238   \n",
       "968a9d1a-a5d0-4456-b95c-699e3fda6355                       16    0a3b238   \n",
       "4425d8b6-f046-43dc-97bc-b3bbb2e9dbfd                       16    0f33554   \n",
       "\n",
       "                                                               pravegaVersion  \\\n",
       "test_uuid                                                                       \n",
       "0765ca66-a869-4b60-b457-9500ef5d8636         0.8.0-2527.e480f26_no_netty_Dirt   \n",
       "d6e64bdc-d6be-47c7-806f-efa7aaeb9180  0.8.0-2527.e480f26_better_batching_Dirt   \n",
       "968a9d1a-a5d0-4456-b95c-699e3fda6355  0.8.0-2527.e480f26_better_batching_Dirt   \n",
       "4425d8b6-f046-43dc-97bc-b3bbb2e9dbfd         0.8.0-2527.e480f26_no_netty_Dirt   \n",
       "\n",
       "                                      publishRateEventsPerSecMean  \\\n",
       "test_uuid                                                           \n",
       "0765ca66-a869-4b60-b457-9500ef5d8636                810378.134191   \n",
       "d6e64bdc-d6be-47c7-806f-efa7aaeb9180                974185.947085   \n",
       "968a9d1a-a5d0-4456-b95c-699e3fda6355                990005.473438   \n",
       "4425d8b6-f046-43dc-97bc-b3bbb2e9dbfd                818307.050469   \n",
       "\n",
       "                                      publishRateMBPerSecMean  \\\n",
       "test_uuid                                                       \n",
       "0765ca66-a869-4b60-b457-9500ef5d8636                81.037813   \n",
       "d6e64bdc-d6be-47c7-806f-efa7aaeb9180                97.418595   \n",
       "968a9d1a-a5d0-4456-b95c-699e3fda6355                99.000547   \n",
       "4425d8b6-f046-43dc-97bc-b3bbb2e9dbfd                81.830705   \n",
       "\n",
       "                                      publishLatencyMs50Pct  \\\n",
       "test_uuid                                                     \n",
       "0765ca66-a869-4b60-b457-9500ef5d8636                 43.071   \n",
       "d6e64bdc-d6be-47c7-806f-efa7aaeb9180                 65.567   \n",
       "968a9d1a-a5d0-4456-b95c-699e3fda6355                 22.343   \n",
       "4425d8b6-f046-43dc-97bc-b3bbb2e9dbfd                 16.043   \n",
       "\n",
       "                                      publishLatencyMs99Pct  \\\n",
       "test_uuid                                                     \n",
       "0765ca66-a869-4b60-b457-9500ef5d8636                304.335   \n",
       "d6e64bdc-d6be-47c7-806f-efa7aaeb9180                323.333   \n",
       "968a9d1a-a5d0-4456-b95c-699e3fda6355                155.623   \n",
       "4425d8b6-f046-43dc-97bc-b3bbb2e9dbfd                192.664   \n",
       "\n",
       "                                      endToEndLatencyMs50Pct  \\\n",
       "test_uuid                                                      \n",
       "0765ca66-a869-4b60-b457-9500ef5d8636               87464.447   \n",
       "d6e64bdc-d6be-47c7-806f-efa7aaeb9180              101456.383   \n",
       "968a9d1a-a5d0-4456-b95c-699e3fda6355               34432.255   \n",
       "4425d8b6-f046-43dc-97bc-b3bbb2e9dbfd               41055.231   \n",
       "\n",
       "                                      endToEndLatencyMs99Pct  \\\n",
       "test_uuid                                                      \n",
       "0765ca66-a869-4b60-b457-9500ef5d8636              143276.031   \n",
       "d6e64bdc-d6be-47c7-806f-efa7aaeb9180              151303.167   \n",
       "968a9d1a-a5d0-4456-b95c-699e3fda6355              155725.823   \n",
       "4425d8b6-f046-43dc-97bc-b3bbb2e9dbfd              158302.207   \n",
       "\n",
       "                                                            utc_begin  \n",
       "test_uuid                                                              \n",
       "0765ca66-a869-4b60-b457-9500ef5d8636 2020-04-28 18:20:41.396944+00:00  \n",
       "d6e64bdc-d6be-47c7-806f-efa7aaeb9180 2020-04-28 13:32:49.308666+00:00  \n",
       "968a9d1a-a5d0-4456-b95c-699e3fda6355 2020-04-28 13:36:00.031718+00:00  \n",
       "4425d8b6-f046-43dc-97bc-b3bbb2e9dbfd 2020-04-28 18:23:53.952226+00:00  "
      ]
     },
     "execution_count": 188,
     "metadata": {},
     "output_type": "execute_result"
    }
   ],
   "source": [
    "take_varying_columns(filt_50000eps_df[cols]).head(20)"
   ]
  },
  {
   "cell_type": "markdown",
   "metadata": {},
   "source": [
    "# Analyze Latency Distribution"
   ]
  },
  {
   "cell_type": "code",
   "execution_count": 189,
   "metadata": {},
   "outputs": [
    {
     "data": {
      "text/plain": [
       "'0765ca66-a869-4b60-b457-9500ef5d8636'"
      ]
     },
     "execution_count": 189,
     "metadata": {},
     "output_type": "execute_result"
    }
   ],
   "source": [
    "test_uuid = filt_50000eps_df.iloc[0].name\n",
    "test_uuid"
   ]
  },
  {
   "cell_type": "code",
   "execution_count": 190,
   "metadata": {},
   "outputs": [],
   "source": [
    "df = clean_df\n",
    "t = df[df.test_uuid==test_uuid].iloc[0]"
   ]
  },
  {
   "cell_type": "code",
   "execution_count": 191,
   "metadata": {},
   "outputs": [],
   "source": [
    "# Cumulative Distribution Function\n",
    "pubcdf = t.aggregatedPublishLatencyQuantiles\n",
    "pubcdf.name = 'Publish Latency CDF'"
   ]
  },
  {
   "cell_type": "code",
   "execution_count": 192,
   "metadata": {},
   "outputs": [],
   "source": [
    "# Probability Distribution Function (latency histogram)\n",
    "pubpdf = pd.Series(index=pubcdf.index, data=np.gradient(pubcdf, pubcdf.index.values), name='Publish Latency PDF')"
   ]
  },
  {
   "cell_type": "code",
   "execution_count": 193,
   "metadata": {},
   "outputs": [
    {
     "data": {
      "image/png": "[encoded data removed]",
      "text/plain": [
       "<Figure size 432x288 with 3 Axes>"
      ]
     },
     "metadata": {
      "needs_background": "light"
     },
     "output_type": "display_data"
    }
   ],
   "source": [
    "fig0, ax0 = plt.subplots()\n",
    "ax1 = ax0.twinx()\n",
    "pubpdf.plot(ax=ax0, xlim=[1,100], ylim=[0,None], style='r', title='Publish Latency PDF and CDF')\n",
    "pubcdf.plot(ax=ax1, xlim=[1,100], secondary_y=True, logx=True, ylim=[0,1])\n",
    "# ax0.set_ylabel('PDF');\n",
    "# ax1.set_ylabel('CDF');\n",
    "ax0.set_xlabel('Publish Latency (ms)');\n",
    "tick_formatter = matplotlib.ticker.LogFormatter()\n",
    "ax0.xaxis.set_major_formatter(tick_formatter)\n",
    "ax0.grid('on', which='both', axis='both')\n",
    "plt.show()\n",
    "plt.close()"
   ]
  },
  {
   "cell_type": "code",
   "execution_count": 194,
   "metadata": {},
   "outputs": [],
   "source": [
    "# Cumulative Distribution Function\n",
    "e2ecdf = t.aggregatedEndToEndLatencyQuantiles\n",
    "e2ecdf.name = 'E2E Latency CDF'\n",
    "# Probability Distribution Function (latency histogram)\n",
    "e2epdf = pd.Series(index=e2ecdf.index, data=np.gradient(e2ecdf, e2ecdf.index.values), name='E2E Latency PDF')"
   ]
  },
  {
   "cell_type": "code",
   "execution_count": 195,
   "metadata": {},
   "outputs": [
    {
     "data": {
      "image/png": "[encoded data removed]",
      "text/plain": [
       "<Figure size 432x288 with 3 Axes>"
      ]
     },
     "metadata": {
      "needs_background": "light"
     },
     "output_type": "display_data"
    }
   ],
   "source": [
    "fig0, ax0 = plt.subplots()\n",
    "ax1 = ax0.twinx()\n",
    "e2epdf.plot(ax=ax0, xlim=[1,100], ylim=[0,None], style='r', title='E2E Latency PDF and CDF')\n",
    "e2ecdf.plot(ax=ax1, xlim=[1,100], secondary_y=True, logx=True, ylim=[0,1])\n",
    "# ax0.set_ylabel('PDF');\n",
    "# ax1.set_ylabel('CDF');\n",
    "ax0.set_xlabel('E2E Latency (ms)');\n",
    "tick_formatter = matplotlib.ticker.LogFormatter()\n",
    "ax0.xaxis.set_major_formatter(tick_formatter)\n",
    "ax0.grid('on', which='both', axis='both')\n",
    "plt.show()\n",
    "plt.close()"
   ]
  },
  {
   "cell_type": "code",
   "execution_count": 196,
   "metadata": {},
   "outputs": [
    {
     "data": {
      "image/png": "[encoded data removed]",
      "text/plain": [
       "<Figure size 720x576 with 1 Axes>"
      ]
     },
     "metadata": {
      "needs_background": "light"
     },
     "output_type": "display_data"
    }
   ],
   "source": [
    "# Combined publish and E2E latency CDF\n",
    "fig0, ax0 = plt.subplots()\n",
    "xlim=[1,25]\n",
    "pubcdf.plot(ax=ax0, xlim=xlim, logx=True, ylim=[0,1], legend=True, figsize=(10,8))\n",
    "e2ecdf.plot(ax=ax0, xlim=xlim, logx=True, ylim=[0,1], legend=True)\n",
    "ax0.set_xlabel('E2E Latency (ms)');\n",
    "tick_formatter = matplotlib.ticker.LogFormatter()\n",
    "ax0.xaxis.set_major_formatter(tick_formatter)\n",
    "ax0.grid('on', which='both', axis='both')\n",
    "plt.show()\n",
    "plt.close()"
   ]
  },
  {
   "cell_type": "markdown",
   "metadata": {},
   "source": [
    "## Compare Two Sets"
   ]
  },
  {
   "cell_type": "code",
   "execution_count": null,
   "metadata": {},
   "outputs": [],
   "source": [
    "# Common filter\n",
    "filt_df = filter_dataframe(\n",
    "    clean_df,\n",
    "    driverName='Pravega',\n",
    "    #numWorkloadWorkers=4, \n",
    "    topics=1,\n",
    "    testDurationMinutes=2,\n",
    "    size_of_test_batch=(2,1000), # between\n",
    "    aggregatedEndToEndLatency50pct=(1,1e6),\n",
    "    messageSize=100,\n",
    "    #producersPerTopic=1,\n",
    "    partitionsPerTopic=16,    \n",
    ")\n",
    "len(filt_df)\n",
    "filt_df.iloc[0].pravegaVersion\n",
    "#filt_df.iloc[2].pravegaVersion"
   ]
  },
  {
   "cell_type": "code",
   "execution_count": null,
   "metadata": {},
   "outputs": [],
   "source": [
    "# Set 1\n",
    "filt1_df = filter_dataframe(\n",
    "    filt_df,\n",
    "    pravegaVersion='0.8.0-2527.e480f26_better_batching_Dirt',\n",
    ")\n",
    "len(filt1_df)"
   ]
  },
  {
   "cell_type": "code",
   "execution_count": null,
   "metadata": {},
   "outputs": [],
   "source": [
    "# Set 2\n",
    "filt2_df = filter_dataframe(\n",
    "    filt_df,\n",
    "    pravegaVersion='0.8.0-2527.e480f26_no_netty_Dirt',\n",
    ")\n",
    "len(filt2_df)"
   ]
  },
  {
   "cell_type": "code",
   "execution_count": null,
   "metadata": {},
   "outputs": [],
   "source": [
    "dfs = [filt1_df, filt2_df]\n",
    "take_varying_columns(pd.concat(dfs)[param_cols]).drop_duplicates()"
   ]
  },
  {
   "cell_type": "code",
   "execution_count": null,
   "metadata": {},
   "outputs": [],
   "source": [
    "def plot_latency_vs_throughput_comparison(dfs, legend_cols=None, latencyMetric='Publish'):\n",
    "    fig0, ax0 = plt.subplots()\n",
    "    cmap = plt.get_cmap('Set1')\n",
    "    colors = cmap.colors[0:len(dfs)]\n",
    "    title = 'No netty vs Better Batching on Dirt Message Size 10k, partitions: 16,  2min test'\n",
    "    for index, (df, color) in enumerate(zip(dfs, colors)):\n",
    "        df = df.set_index(['publishRateMBPerSecMean']).sort_index()\n",
    "        name_cols = df.iloc[0][legend_cols]\n",
    "        name = ','.join(['%s=%s' % item for item in name_cols.to_dict().items()])\n",
    "        for percentile, style in [('50',':x'), ('95','-.x'), ('99','-x')]:\n",
    "            plot_df = df[['aggregated%sLatency%spct' % (latencyMetric, percentile)]]\n",
    "            plot_df.columns = ['%s %s Latency p%s' % (name, latencyMetric, percentile)]\n",
    "            plot_df.index.name = 'Publish Throughput (MB/s)'\n",
    "            plot_df.plot(\n",
    "                ax=ax0,\n",
    "                logx=True, \n",
    "                logy=True,\n",
    "                figsize=(10,8),\n",
    "                grid=True,\n",
    "                style=style,\n",
    "                title=title,\n",
    "                color=color,\n",
    "            )\n",
    "    ax0.set_ylabel('Latency (ms)');\n",
    "    tick_formatter = matplotlib.ticker.LogFormatter()\n",
    "    ax0.xaxis.set_major_formatter(tick_formatter)\n",
    "    ax0.yaxis.set_major_formatter(tick_formatter)\n",
    "    ax0.grid('on', which='both', axis='both')"
   ]
  },
  {
   "cell_type": "code",
   "execution_count": null,
   "metadata": {},
   "outputs": [],
   "source": [
    "plot_latency_vs_throughput_comparison([filt1_df, filt2_df], legend_cols=['pravegaVersion'], latencyMetric='Publish')"
   ]
  },
  {
   "cell_type": "code",
   "execution_count": null,
   "metadata": {},
   "outputs": [],
   "source": [
    "plot_latency_vs_throughput_comparison([filt1_df, filt2_df], legend_cols=['pravegaVersion'], latencyMetric='EndToEnd')"
   ]
  },
  {
   "cell_type": "code",
   "execution_count": null,
   "metadata": {},
   "outputs": [],
   "source": []
  },
  {
   "cell_type": "code",
   "execution_count": null,
   "metadata": {},
   "outputs": [],
   "source": []
  },
  {
   "cell_type": "code",
   "execution_count": null,
   "metadata": {},
   "outputs": [],
   "source": []
  },
  {
   "cell_type": "code",
   "execution_count": null,
   "metadata": {},
   "outputs": [],
   "source": []
  },
  {
   "cell_type": "code",
   "execution_count": null,
   "metadata": {},
   "outputs": [],
   "source": []
  },
  {
   "cell_type": "code",
   "execution_count": null,
   "metadata": {},
   "outputs": [],
   "source": []
  }
 ],
 "metadata": {
  "kernelspec": {
   "display_name": "Python 3",
   "language": "python",
   "name": "python3"
  },
  "language_info": {
   "codemirror_mode": {
    "name": "ipython",
    "version": 3
   },
   "file_extension": ".py",
   "mimetype": "text/x-python",
   "name": "python",
   "nbconvert_exporter": "python",
   "pygments_lexer": "ipython3",
   "version": "3.7.3"
  }
 },
 "nbformat": 4,
 "nbformat_minor": 4
}
