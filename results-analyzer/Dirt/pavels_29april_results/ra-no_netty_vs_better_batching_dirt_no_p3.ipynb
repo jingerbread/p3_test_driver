{
 "cells": [
  {
   "cell_type": "code",
   "execution_count": 196,
   "metadata": {},
   "outputs": [
    {
     "name": "stdout",
     "output_type": "stream",
     "text": [
      "Requirement already satisfied: p3_data in /opt/conda/lib/python3.7/site-packages (2.0.2)\n",
      "Requirement already satisfied: matplotlib in /opt/conda/lib/python3.7/site-packages (from p3_data) (3.1.1)\n",
      "Requirement already satisfied: numpy in /opt/conda/lib/python3.7/site-packages (from p3_data) (1.17.2)\n",
      "Requirement already satisfied: scipy in /opt/conda/lib/python3.7/site-packages (from p3_data) (1.3.1)\n",
      "Requirement already satisfied: IPython in /opt/conda/lib/python3.7/site-packages (from p3_data) (7.8.0)\n",
      "Requirement already satisfied: sklearn in /opt/conda/lib/python3.7/site-packages (from p3_data) (0.0)\n",
      "Requirement already satisfied: pandas in /opt/conda/lib/python3.7/site-packages (from p3_data) (0.25.1)\n",
      "Requirement already satisfied: PyYaml in /opt/conda/lib/python3.7/site-packages (from p3_data) (5.1.2)\n",
      "Requirement already satisfied: ipywidgets in /opt/conda/lib/python3.7/site-packages (from p3_data) (7.5.1)\n",
      "Requirement already satisfied: six in /opt/conda/lib/python3.7/site-packages (from p3_data) (1.12.0)\n",
      "Requirement already satisfied: kiwisolver>=1.0.1 in /opt/conda/lib/python3.7/site-packages (from matplotlib->p3_data) (1.1.0)\n",
      "Requirement already satisfied: python-dateutil>=2.1 in /opt/conda/lib/python3.7/site-packages (from matplotlib->p3_data) (2.8.0)\n",
      "Requirement already satisfied: pyparsing!=2.0.4,!=2.1.2,!=2.1.6,>=2.0.1 in /opt/conda/lib/python3.7/site-packages (from matplotlib->p3_data) (2.4.2)\n",
      "Requirement already satisfied: cycler>=0.10 in /opt/conda/lib/python3.7/site-packages (from matplotlib->p3_data) (0.10.0)\n",
      "Requirement already satisfied: decorator in /opt/conda/lib/python3.7/site-packages (from IPython->p3_data) (4.4.0)\n",
      "Requirement already satisfied: pygments in /opt/conda/lib/python3.7/site-packages (from IPython->p3_data) (2.4.2)\n",
      "Requirement already satisfied: backcall in /opt/conda/lib/python3.7/site-packages (from IPython->p3_data) (0.1.0)\n",
      "Requirement already satisfied: traitlets>=4.2 in /opt/conda/lib/python3.7/site-packages (from IPython->p3_data) (4.3.2)\n",
      "Requirement already satisfied: pickleshare in /opt/conda/lib/python3.7/site-packages (from IPython->p3_data) (0.7.5)\n",
      "Requirement already satisfied: jedi>=0.10 in /opt/conda/lib/python3.7/site-packages (from IPython->p3_data) (0.15.1)\n",
      "Requirement already satisfied: prompt-toolkit<2.1.0,>=2.0.0 in /opt/conda/lib/python3.7/site-packages (from IPython->p3_data) (2.0.9)\n",
      "Requirement already satisfied: setuptools>=18.5 in /opt/conda/lib/python3.7/site-packages (from IPython->p3_data) (41.0.1)\n",
      "Requirement already satisfied: pexpect; sys_platform != \"win32\" in /opt/conda/lib/python3.7/site-packages (from IPython->p3_data) (4.7.0)\n",
      "Requirement already satisfied: scikit-learn in /opt/conda/lib/python3.7/site-packages (from sklearn->p3_data) (0.21.3)\n",
      "Requirement already satisfied: pytz>=2017.2 in /opt/conda/lib/python3.7/site-packages (from pandas->p3_data) (2019.2)\n",
      "Requirement already satisfied: ipykernel>=4.5.1 in /opt/conda/lib/python3.7/site-packages (from ipywidgets->p3_data) (5.1.2)\n",
      "Requirement already satisfied: widgetsnbextension~=3.5.0 in /opt/conda/lib/python3.7/site-packages (from ipywidgets->p3_data) (3.5.1)\n",
      "Requirement already satisfied: nbformat>=4.2.0 in /opt/conda/lib/python3.7/site-packages (from ipywidgets->p3_data) (4.4.0)\n",
      "Requirement already satisfied: ipython_genutils in /opt/conda/lib/python3.7/site-packages (from traitlets>=4.2->IPython->p3_data) (0.2.0)\n",
      "Requirement already satisfied: parso>=0.5.0 in /opt/conda/lib/python3.7/site-packages (from jedi>=0.10->IPython->p3_data) (0.5.1)\n",
      "Requirement already satisfied: wcwidth in /opt/conda/lib/python3.7/site-packages (from prompt-toolkit<2.1.0,>=2.0.0->IPython->p3_data) (0.1.7)\n",
      "Requirement already satisfied: ptyprocess>=0.5 in /opt/conda/lib/python3.7/site-packages (from pexpect; sys_platform != \"win32\"->IPython->p3_data) (0.6.0)\n",
      "Requirement already satisfied: joblib>=0.11 in /opt/conda/lib/python3.7/site-packages (from scikit-learn->sklearn->p3_data) (0.13.2)\n",
      "Requirement already satisfied: tornado>=4.2 in /opt/conda/lib/python3.7/site-packages (from ipykernel>=4.5.1->ipywidgets->p3_data) (6.0.3)\n",
      "Requirement already satisfied: jupyter-client in /opt/conda/lib/python3.7/site-packages (from ipykernel>=4.5.1->ipywidgets->p3_data) (5.3.1)\n",
      "Requirement already satisfied: notebook>=4.4.1 in /opt/conda/lib/python3.7/site-packages (from widgetsnbextension~=3.5.0->ipywidgets->p3_data) (6.0.0)\n",
      "Requirement already satisfied: jsonschema!=2.5.0,>=2.4 in /opt/conda/lib/python3.7/site-packages (from nbformat>=4.2.0->ipywidgets->p3_data) (3.0.2)\n",
      "Requirement already satisfied: jupyter_core in /opt/conda/lib/python3.7/site-packages (from nbformat>=4.2.0->ipywidgets->p3_data) (4.4.0)\n",
      "Requirement already satisfied: pyzmq>=13 in /opt/conda/lib/python3.7/site-packages (from jupyter-client->ipykernel>=4.5.1->ipywidgets->p3_data) (18.0.2)\n",
      "Requirement already satisfied: jinja2 in /opt/conda/lib/python3.7/site-packages (from notebook>=4.4.1->widgetsnbextension~=3.5.0->ipywidgets->p3_data) (2.10.1)\n",
      "Requirement already satisfied: terminado>=0.8.1 in /opt/conda/lib/python3.7/site-packages (from notebook>=4.4.1->widgetsnbextension~=3.5.0->ipywidgets->p3_data) (0.8.2)\n",
      "Requirement already satisfied: nbconvert in /opt/conda/lib/python3.7/site-packages (from notebook>=4.4.1->widgetsnbextension~=3.5.0->ipywidgets->p3_data) (5.6.0)\n",
      "Requirement already satisfied: Send2Trash in /opt/conda/lib/python3.7/site-packages (from notebook>=4.4.1->widgetsnbextension~=3.5.0->ipywidgets->p3_data) (1.5.0)\n",
      "Requirement already satisfied: prometheus-client in /opt/conda/lib/python3.7/site-packages (from notebook>=4.4.1->widgetsnbextension~=3.5.0->ipywidgets->p3_data) (0.7.1)\n",
      "Requirement already satisfied: pyrsistent>=0.14.0 in /opt/conda/lib/python3.7/site-packages (from jsonschema!=2.5.0,>=2.4->nbformat>=4.2.0->ipywidgets->p3_data) (0.15.4)\n",
      "Requirement already satisfied: attrs>=17.4.0 in /opt/conda/lib/python3.7/site-packages (from jsonschema!=2.5.0,>=2.4->nbformat>=4.2.0->ipywidgets->p3_data) (19.1.0)\n",
      "Requirement already satisfied: MarkupSafe>=0.23 in /opt/conda/lib/python3.7/site-packages (from jinja2->notebook>=4.4.1->widgetsnbextension~=3.5.0->ipywidgets->p3_data) (1.1.1)\n",
      "Requirement already satisfied: testpath in /opt/conda/lib/python3.7/site-packages (from nbconvert->notebook>=4.4.1->widgetsnbextension~=3.5.0->ipywidgets->p3_data) (0.4.2)\n",
      "Requirement already satisfied: defusedxml in /opt/conda/lib/python3.7/site-packages (from nbconvert->notebook>=4.4.1->widgetsnbextension~=3.5.0->ipywidgets->p3_data) (0.5.0)\n",
      "Requirement already satisfied: mistune<2,>=0.8.1 in /opt/conda/lib/python3.7/site-packages (from nbconvert->notebook>=4.4.1->widgetsnbextension~=3.5.0->ipywidgets->p3_data) (0.8.4)\n",
      "Requirement already satisfied: bleach in /opt/conda/lib/python3.7/site-packages (from nbconvert->notebook>=4.4.1->widgetsnbextension~=3.5.0->ipywidgets->p3_data) (3.1.0)\n",
      "Requirement already satisfied: pandocfilters>=1.4.1 in /opt/conda/lib/python3.7/site-packages (from nbconvert->notebook>=4.4.1->widgetsnbextension~=3.5.0->ipywidgets->p3_data) (1.4.2)\n",
      "Requirement already satisfied: entrypoints>=0.2.2 in /opt/conda/lib/python3.7/site-packages (from nbconvert->notebook>=4.4.1->widgetsnbextension~=3.5.0->ipywidgets->p3_data) (0.3)\n",
      "Requirement already satisfied: webencodings in /opt/conda/lib/python3.7/site-packages (from bleach->nbconvert->notebook>=4.4.1->widgetsnbextension~=3.5.0->ipywidgets->p3_data) (0.5.1)\n"
     ]
    }
   ],
   "source": [
    "!pip install p3_data"
   ]
  },
  {
   "cell_type": "code",
   "execution_count": 197,
   "metadata": {},
   "outputs": [],
   "source": [
    "%matplotlib inline\n",
    "import pandas as pd\n",
    "import numpy as np\n",
    "import matplotlib\n",
    "import matplotlib.pylab as plt\n",
    "import matplotlib.dates as mdates\n",
    "import matplotlib.cm as cm\n",
    "import seaborn as sns\n",
    "import json\n",
    "from io import StringIO\n",
    "import importlib"
   ]
  },
  {
   "cell_type": "code",
   "execution_count": 469,
   "metadata": {},
   "outputs": [],
   "source": [
    "import p3_data\n",
    "from p3_data import (glob_file_list, load_json_from_file, merge_dicts, plot_groups, \n",
    "    get_varying_column_names, filter_dataframe, take_varying_columns,\n",
    "    load_json_records_as_dataframe)"
   ]
  },
  {
   "cell_type": "code",
   "execution_count": 1012,
   "metadata": {},
   "outputs": [
    {
     "name": "stdout",
     "output_type": "stream",
     "text": [
      "Loading records from 12 files...\n"
     ]
    }
   ],
   "source": [
    "# Load result files from Pavel's resuls from Dirt with his script test running for no_netty and better_batching\n",
    "src_files = []\n",
    "\n",
    "# Pavel's master on Dirt without p3_test_driver\n",
    "#src_files += ['../../../../no_netty_comparison/28april-Dirt/pavels_results_29april_Dirt_cleared/master/100b/*.json']# 8 tests\n",
    "#src_files += ['../../../../no_netty_comparison/28april-Dirt/pavels_results_29april_Dirt_cleared/master/10kb/*.json']# 6 tests\n",
    "\n",
    "# Pavel's no_netty_lower_cpu on Dirt without p3_test_driver:\n",
    "src_files += ['../../../../no_netty_comparison/28april-Dirt/pavels_results_29april_Dirt_cleared/no-netty-low-cpu/10kb/*.json']  # 6 tests\n",
    "#src_files += ['../../../../no_netty_comparison/28april-Dirt/pavels_results_29april_Dirt_cleared/no-netty-low-cpu/100b/*.json'] # 8 tests\n",
    "\n",
    "# Pavel's lower_cpu on Dirt without p3_test_driver:\n",
    "#src_files += ['../../../../no_netty_comparison/28april-Dirt/pavels_results_29april_Dirt_cleared/low-cpu/10kb/*.json'] # 6 tests\n",
    "#src_files += ['../../../../no_netty_comparison/28april-Dirt/pavels_results_29april_Dirt_cleared/low-cpu/100b/*.json'] # 8 tests\n",
    "\n",
    "# Pavel's no_netty on Dirt without p3_test_driver:\n",
    "src_files += ['../../../../no_netty_comparison/28april-Dirt/pavels_results_29april_Dirt_cleared/no-netty/10kb/*.json']\n",
    "#src_files += ['../../../../no_netty_comparison/28april-Dirt/pavels_results_29april_Dirt_cleared/no-netty/100b/*.json']# 8 tests\n",
    "\n",
    "# Pavel's better_batching on Dirt without p3_test_driver:\n",
    "#src_files += ['../../../../no_netty_comparison/28april-Dirt/pavels_results_29april_Dirt_cleared/better-batching/10kb/*.json'] # 6 tests\n",
    "#src_files += ['../../../../no_netty_comparison/28april-Dirt/pavels_results_29april_Dirt_cleared/better-batching/100b/*.json'] # 8 tests\n",
    "\n",
    "raw_df = load_json_records_as_dataframe(src=src_files, ignore_error=True)"
   ]
  },
  {
   "cell_type": "code",
   "execution_count": 1013,
   "metadata": {},
   "outputs": [],
   "source": [
    "# Clean raw results\n",
    "def clean_result(result):\n",
    "    try:\n",
    "        r = result.copy()\n",
    "        r['utc_begin'] = pd.to_datetime(r['utc_begin'], utc=True)\n",
    "        r['utc_end'] = pd.to_datetime(r['utc_end'], utc=True)\n",
    "        r['git_commit'] = r['git_commit'].split(' ')[0]\n",
    "        r['driverName'] = r['driver']['name']\n",
    "        if r['driverName'] == 'Pulsar':\n",
    "            r = merge_dicts(r, r['driver']['client']['persistence'])\n",
    "        r = merge_dicts(r, r['workload'])\n",
    "        del r['workload']\n",
    "        r = merge_dicts(r, r['omb_results'])\n",
    "        if 'ansible_vars' in r and isinstance(r['ansible_vars'], dict):\n",
    "            r = merge_dicts(r, r['ansible_vars'])\n",
    "        if r['driverName'] == 'Pravega':\n",
    "            if 'pravegaVersion' not in r:\n",
    "                r['pravegaVersion'] = '0.6.0-2361.f273314-SNAPSHOT'\n",
    "            r['pravegaVersion'] = r['pravegaVersion'].replace('-SNAPSHOT','')\n",
    "        for k in list(r.keys()):\n",
    "            if 'Quantiles' in k:\n",
    "                r[k] = pd.Series(data=[float(q) for q in r[k].keys()], index=list(r[k].values())).sort_index() / 100\n",
    "            elif isinstance(r[k], list) and 'Rate' in k:\n",
    "                r[k] = pd.Series(r[k])\n",
    "                r['%sMean' % k] = r[k].mean()\n",
    "        r['numWorkloadWorkers'] = int(r.get('numWorkers', 0))\n",
    "        r['throttleEventsPerSec'] = r['producerRate']\n",
    "        r['publishRateEventsPerSecMean'] = r['publishRateMean']\n",
    "        r['publishRateMBPerSecMean'] = r['publishRateMean'] * r['messageSize'] * 1e-6\n",
    "        r['publishLatencyMsAvg'] = r['aggregatedPublishLatencyAvg']\n",
    "        r['publishLatencyMs50Pct'] = r['aggregatedPublishLatency50pct']\n",
    "        r['publishLatencyMs99Pct'] = r['aggregatedPublishLatency99pct']\n",
    "        r['endToEndLatencyMsAvg'] = r['aggregatedEndToEndLatencyAvg']\n",
    "        r['endToEndLatencyMs50Pct'] = r['aggregatedEndToEndLatency50pct']\n",
    "        r['endToEndLatencyMs99Pct'] = r['aggregatedEndToEndLatency99pct']\n",
    "        return pd.Series(r)\n",
    "    except Exception as e:\n",
    "        print('ERROR: %s: %s' % (r['test_uuid'], e))\n",
    "        # raise e"
   ]
  },
  {
   "cell_type": "code",
   "execution_count": 1014,
   "metadata": {},
   "outputs": [],
   "source": [
    "# r = clean_result(raw_df.iloc[-1])\n",
    "# pd.DataFrame(r)"
   ]
  },
  {
   "cell_type": "code",
   "execution_count": 1015,
   "metadata": {},
   "outputs": [],
   "source": [
    "clean_df = raw_df.apply(clean_result, axis=1)\n",
    "clean_df = clean_df.set_index('test_uuid', drop=False)\n",
    "clean_df = clean_df[clean_df.error==False]\n",
    "clean_df = clean_df.sort_values(['utc_begin'])"
   ]
  },
  {
   "cell_type": "code",
   "execution_count": 1016,
   "metadata": {},
   "outputs": [
    {
     "data": {
      "text/plain": [
       "array(['ansible', 'ansible_vars', 'aws-ec2', 'build', 'command_timed_out',\n",
       "       'docker', 'driver', 'elapsed_sec', 'error', 'errors', 'exit_code',\n",
       "       'git_commit', 'kubernetes', 'localWorker', 'max_test_attempts',\n",
       "       'noop', 'numWorkers', 'omb_results', 'omb_workers', 'print_output',\n",
       "       'record_utc', 'record_uuid', 'result_filename', 'run_as_test',\n",
       "       'sequence_in_test_batch', 'size_of_test_batch', 'ssh_host',\n",
       "       'ssh_identity_file', 'ssh_user', 'status_html', 'tarball',\n",
       "       'terraform', 'terraform_show', 'test', 'test_attempt',\n",
       "       'test_batch_uuid', 'test_desc', 'test_driver_log_filename',\n",
       "       'test_driver_version', 'test_uuid', 'undeploy', 'utc_begin',\n",
       "       'utc_end', 'loaded_filename', 'driverName',\n",
       "       'consumerBacklogSizeGB', 'consumerPerSubscription',\n",
       "       'keyDistributor', 'messageSize', 'name', 'partitionsPerTopic',\n",
       "       'payloadFile', 'producerRate', 'producersPerTopic',\n",
       "       'subscriptionsPerTopic', 'testDurationMinutes', 'topics',\n",
       "       'workload', 'publishRate', 'consumeRate', 'backlog',\n",
       "       'publishLatencyAvg', 'publishLatency50pct', 'publishLatency75pct',\n",
       "       'publishLatency95pct', 'publishLatency99pct',\n",
       "       'publishLatency999pct', 'publishLatency9999pct',\n",
       "       'publishLatencyMax', 'aggregatedPublishLatencyAvg',\n",
       "       'aggregatedPublishLatency50pct', 'aggregatedPublishLatency75pct',\n",
       "       'aggregatedPublishLatency95pct', 'aggregatedPublishLatency99pct',\n",
       "       'aggregatedPublishLatency999pct',\n",
       "       'aggregatedPublishLatency9999pct', 'aggregatedPublishLatencyMax',\n",
       "       'aggregatedPublishLatencyQuantiles', 'endToEndLatencyAvg',\n",
       "       'endToEndLatency50pct', 'endToEndLatency75pct',\n",
       "       'endToEndLatency95pct', 'endToEndLatency99pct',\n",
       "       'endToEndLatency999pct', 'endToEndLatency9999pct',\n",
       "       'endToEndLatencyMax', 'aggregatedEndToEndLatencyQuantiles',\n",
       "       'aggregatedEndToEndLatencyAvg', 'aggregatedEndToEndLatency50pct',\n",
       "       'aggregatedEndToEndLatency75pct', 'aggregatedEndToEndLatency95pct',\n",
       "       'aggregatedEndToEndLatency99pct',\n",
       "       'aggregatedEndToEndLatency999pct',\n",
       "       'aggregatedEndToEndLatency9999pct', 'aggregatedEndToEndLatencyMax',\n",
       "       'bookkeeperVersion', 'pravegaContainersPerSegmentStore',\n",
       "       'pravegaVersion', 'prometheusVersion', 'zookeeperVersion',\n",
       "       'publishRateMean', 'consumeRateMean', 'numWorkloadWorkers',\n",
       "       'throttleEventsPerSec', 'publishRateEventsPerSecMean',\n",
       "       'publishRateMBPerSecMean', 'publishLatencyMsAvg',\n",
       "       'publishLatencyMs50Pct', 'publishLatencyMs99Pct',\n",
       "       'endToEndLatencyMsAvg', 'endToEndLatencyMs50Pct',\n",
       "       'endToEndLatencyMs99Pct'], dtype=object)"
      ]
     },
     "execution_count": 1016,
     "metadata": {},
     "output_type": "execute_result"
    }
   ],
   "source": [
    "# Show list of columns\n",
    "clean_df.columns.values"
   ]
  },
  {
   "cell_type": "code",
   "execution_count": 1017,
   "metadata": {},
   "outputs": [],
   "source": [
    "# Define columns that identify test parameters\n",
    "param_cols = [\n",
    "    'numWorkloadWorkers',\n",
    "    'topics',\n",
    "    'partitionsPerTopic',\n",
    "    'producersPerTopic',\n",
    "    'subscriptionsPerTopic',\n",
    "    'consumerPerSubscription',\n",
    "    'testDurationMinutes',\n",
    "    'keyDistributor',\n",
    "    'git_commit',\n",
    "    'pravegaVersion',\n",
    "]"
   ]
  },
  {
   "cell_type": "code",
   "execution_count": 1018,
   "metadata": {},
   "outputs": [],
   "source": [
    "# Define columns that are the output of the experiments\n",
    "output_cols = [\n",
    "    'publishRateEventsPerSecMean',\n",
    "    'publishRateMBPerSecMean',\n",
    "    'publishLatencyMs50Pct',\n",
    "    'publishLatencyMs99Pct',\n",
    "    'endToEndLatencyMs50Pct',\n",
    "    'endToEndLatencyMs99Pct',\n",
    "    'utc_begin',    \n",
    "]"
   ]
  },
  {
   "cell_type": "code",
   "execution_count": 1019,
   "metadata": {},
   "outputs": [],
   "source": [
    "cols = param_cols + output_cols"
   ]
  },
  {
   "cell_type": "code",
   "execution_count": 1020,
   "metadata": {},
   "outputs": [
    {
     "data": {
      "text/html": [
       "<div>\n",
       "<style scoped>\n",
       "    .dataframe tbody tr th:only-of-type {\n",
       "        vertical-align: middle;\n",
       "    }\n",
       "\n",
       "    .dataframe tbody tr th {\n",
       "        vertical-align: top;\n",
       "    }\n",
       "\n",
       "    .dataframe thead th {\n",
       "        text-align: right;\n",
       "    }\n",
       "</style>\n",
       "<table border=\"1\" class=\"dataframe\">\n",
       "  <thead>\n",
       "    <tr style=\"text-align: right;\">\n",
       "      <th>test_uuid</th>\n",
       "      <th>1topic_16partitions_10Kb_10000eps</th>\n",
       "      <th>1topic_16partitions_10Kb_20000eps</th>\n",
       "      <th>1topic_16partitions_10Kb_30000eps</th>\n",
       "      <th>1topic_1partition_10Kb_10000eps</th>\n",
       "      <th>1topic_1partition_10Kb_20000eps</th>\n",
       "      <th>1topic_1partition_10Kb_30000eps</th>\n",
       "      <th>1topic_16partitions_10Kb_10000eps</th>\n",
       "      <th>1topic_16partitions_10Kb_20000eps</th>\n",
       "      <th>1topic_16partitions_10Kb_30000eps</th>\n",
       "      <th>1topic_1partition_10Kb_10000eps</th>\n",
       "      <th>1topic_1partition_10Kb_20000eps</th>\n",
       "      <th>1topic_1partition_10Kb_30000eps</th>\n",
       "    </tr>\n",
       "  </thead>\n",
       "  <tbody>\n",
       "    <tr>\n",
       "      <td>numWorkloadWorkers</td>\n",
       "      <td>2</td>\n",
       "      <td>2</td>\n",
       "      <td>2</td>\n",
       "      <td>2</td>\n",
       "      <td>2</td>\n",
       "      <td>2</td>\n",
       "      <td>2</td>\n",
       "      <td>2</td>\n",
       "      <td>2</td>\n",
       "      <td>2</td>\n",
       "      <td>2</td>\n",
       "      <td>2</td>\n",
       "    </tr>\n",
       "    <tr>\n",
       "      <td>topics</td>\n",
       "      <td>1</td>\n",
       "      <td>1</td>\n",
       "      <td>1</td>\n",
       "      <td>1</td>\n",
       "      <td>1</td>\n",
       "      <td>1</td>\n",
       "      <td>1</td>\n",
       "      <td>1</td>\n",
       "      <td>1</td>\n",
       "      <td>1</td>\n",
       "      <td>1</td>\n",
       "      <td>1</td>\n",
       "    </tr>\n",
       "    <tr>\n",
       "      <td>partitionsPerTopic</td>\n",
       "      <td>16</td>\n",
       "      <td>16</td>\n",
       "      <td>16</td>\n",
       "      <td>1</td>\n",
       "      <td>1</td>\n",
       "      <td>1</td>\n",
       "      <td>16</td>\n",
       "      <td>16</td>\n",
       "      <td>16</td>\n",
       "      <td>1</td>\n",
       "      <td>1</td>\n",
       "      <td>1</td>\n",
       "    </tr>\n",
       "    <tr>\n",
       "      <td>producersPerTopic</td>\n",
       "      <td>1</td>\n",
       "      <td>1</td>\n",
       "      <td>1</td>\n",
       "      <td>1</td>\n",
       "      <td>1</td>\n",
       "      <td>1</td>\n",
       "      <td>1</td>\n",
       "      <td>1</td>\n",
       "      <td>1</td>\n",
       "      <td>1</td>\n",
       "      <td>1</td>\n",
       "      <td>1</td>\n",
       "    </tr>\n",
       "    <tr>\n",
       "      <td>subscriptionsPerTopic</td>\n",
       "      <td>1</td>\n",
       "      <td>1</td>\n",
       "      <td>1</td>\n",
       "      <td>1</td>\n",
       "      <td>1</td>\n",
       "      <td>1</td>\n",
       "      <td>1</td>\n",
       "      <td>1</td>\n",
       "      <td>1</td>\n",
       "      <td>1</td>\n",
       "      <td>1</td>\n",
       "      <td>1</td>\n",
       "    </tr>\n",
       "    <tr>\n",
       "      <td>consumerPerSubscription</td>\n",
       "      <td>1</td>\n",
       "      <td>1</td>\n",
       "      <td>1</td>\n",
       "      <td>1</td>\n",
       "      <td>1</td>\n",
       "      <td>1</td>\n",
       "      <td>1</td>\n",
       "      <td>1</td>\n",
       "      <td>1</td>\n",
       "      <td>1</td>\n",
       "      <td>1</td>\n",
       "      <td>1</td>\n",
       "    </tr>\n",
       "    <tr>\n",
       "      <td>testDurationMinutes</td>\n",
       "      <td>2</td>\n",
       "      <td>2</td>\n",
       "      <td>2</td>\n",
       "      <td>2</td>\n",
       "      <td>2</td>\n",
       "      <td>2</td>\n",
       "      <td>2</td>\n",
       "      <td>2</td>\n",
       "      <td>2</td>\n",
       "      <td>2</td>\n",
       "      <td>2</td>\n",
       "      <td>2</td>\n",
       "    </tr>\n",
       "    <tr>\n",
       "      <td>keyDistributor</td>\n",
       "      <td>NO_KEY</td>\n",
       "      <td>NO_KEY</td>\n",
       "      <td>NO_KEY</td>\n",
       "      <td>NO_KEY</td>\n",
       "      <td>NO_KEY</td>\n",
       "      <td>NO_KEY</td>\n",
       "      <td>NO_KEY</td>\n",
       "      <td>NO_KEY</td>\n",
       "      <td>NO_KEY</td>\n",
       "      <td>NO_KEY</td>\n",
       "      <td>NO_KEY</td>\n",
       "      <td>NO_KEY</td>\n",
       "    </tr>\n",
       "    <tr>\n",
       "      <td>git_commit</td>\n",
       "      <td>b28d173</td>\n",
       "      <td>b28d173</td>\n",
       "      <td>b28d173</td>\n",
       "      <td>b28d173</td>\n",
       "      <td>b28d173</td>\n",
       "      <td>b28d173</td>\n",
       "      <td>b28d173</td>\n",
       "      <td>b28d173</td>\n",
       "      <td>b28d173</td>\n",
       "      <td>b28d173</td>\n",
       "      <td>b28d173</td>\n",
       "      <td>b28d173</td>\n",
       "    </tr>\n",
       "    <tr>\n",
       "      <td>pravegaVersion</td>\n",
       "      <td>no-netty-low-cpu</td>\n",
       "      <td>no-netty-low-cpu</td>\n",
       "      <td>no-netty-low-cpu</td>\n",
       "      <td>no-netty-low-cpu</td>\n",
       "      <td>no-netty-low-cpu</td>\n",
       "      <td>no-netty-low-cpu</td>\n",
       "      <td>no-netty</td>\n",
       "      <td>no-netty</td>\n",
       "      <td>no-netty</td>\n",
       "      <td>no-netty</td>\n",
       "      <td>no-netty</td>\n",
       "      <td>no-netty</td>\n",
       "    </tr>\n",
       "    <tr>\n",
       "      <td>publishRateEventsPerSecMean</td>\n",
       "      <td>10010.2</td>\n",
       "      <td>20034.7</td>\n",
       "      <td>30070</td>\n",
       "      <td>10014.1</td>\n",
       "      <td>20023.4</td>\n",
       "      <td>30053.5</td>\n",
       "      <td>10016.2</td>\n",
       "      <td>20036.2</td>\n",
       "      <td>30052.7</td>\n",
       "      <td>10013.9</td>\n",
       "      <td>20030.1</td>\n",
       "      <td>30056.4</td>\n",
       "    </tr>\n",
       "    <tr>\n",
       "      <td>publishRateMBPerSecMean</td>\n",
       "      <td>102.505</td>\n",
       "      <td>205.155</td>\n",
       "      <td>307.917</td>\n",
       "      <td>102.545</td>\n",
       "      <td>205.04</td>\n",
       "      <td>307.747</td>\n",
       "      <td>102.566</td>\n",
       "      <td>205.171</td>\n",
       "      <td>307.739</td>\n",
       "      <td>102.542</td>\n",
       "      <td>205.108</td>\n",
       "      <td>307.778</td>\n",
       "    </tr>\n",
       "    <tr>\n",
       "      <td>publishLatencyMs50Pct</td>\n",
       "      <td>3.815</td>\n",
       "      <td>4.639</td>\n",
       "      <td>5.368</td>\n",
       "      <td>8.646</td>\n",
       "      <td>9.269</td>\n",
       "      <td>15.805</td>\n",
       "      <td>3.874</td>\n",
       "      <td>4.685</td>\n",
       "      <td>5.722</td>\n",
       "      <td>8.864</td>\n",
       "      <td>10.601</td>\n",
       "      <td>13.618</td>\n",
       "    </tr>\n",
       "    <tr>\n",
       "      <td>publishLatencyMs99Pct</td>\n",
       "      <td>171.521</td>\n",
       "      <td>273.155</td>\n",
       "      <td>201.453</td>\n",
       "      <td>23.18</td>\n",
       "      <td>20.341</td>\n",
       "      <td>46.712</td>\n",
       "      <td>196.585</td>\n",
       "      <td>183.047</td>\n",
       "      <td>195.426</td>\n",
       "      <td>52.722</td>\n",
       "      <td>70.418</td>\n",
       "      <td>29.487</td>\n",
       "    </tr>\n",
       "    <tr>\n",
       "      <td>endToEndLatencyMs50Pct</td>\n",
       "      <td>9</td>\n",
       "      <td>18</td>\n",
       "      <td>24</td>\n",
       "      <td>10</td>\n",
       "      <td>11</td>\n",
       "      <td>20</td>\n",
       "      <td>9</td>\n",
       "      <td>21</td>\n",
       "      <td>36</td>\n",
       "      <td>11</td>\n",
       "      <td>13</td>\n",
       "      <td>17</td>\n",
       "    </tr>\n",
       "    <tr>\n",
       "      <td>endToEndLatencyMs99Pct</td>\n",
       "      <td>211</td>\n",
       "      <td>344.001</td>\n",
       "      <td>323.001</td>\n",
       "      <td>27</td>\n",
       "      <td>23</td>\n",
       "      <td>113</td>\n",
       "      <td>240</td>\n",
       "      <td>280.001</td>\n",
       "      <td>339.001</td>\n",
       "      <td>63</td>\n",
       "      <td>93</td>\n",
       "      <td>36</td>\n",
       "    </tr>\n",
       "    <tr>\n",
       "      <td>utc_begin</td>\n",
       "      <td>2020-04-23 15:36:32.715790+00:00</td>\n",
       "      <td>2020-04-23 15:36:32.715790+00:00</td>\n",
       "      <td>2020-04-23 15:36:32.715790+00:00</td>\n",
       "      <td>2020-04-23 15:36:32.715790+00:00</td>\n",
       "      <td>2020-04-23 15:36:32.715790+00:00</td>\n",
       "      <td>2020-04-23 15:36:32.715790+00:00</td>\n",
       "      <td>2020-04-23 15:36:32.715790+00:00</td>\n",
       "      <td>2020-04-23 15:36:32.715790+00:00</td>\n",
       "      <td>2020-04-23 15:36:32.715790+00:00</td>\n",
       "      <td>2020-04-23 15:36:32.715790+00:00</td>\n",
       "      <td>2020-04-23 15:36:32.715790+00:00</td>\n",
       "      <td>2020-04-23 15:36:32.715790+00:00</td>\n",
       "    </tr>\n",
       "  </tbody>\n",
       "</table>\n",
       "</div>"
      ],
      "text/plain": [
       "test_uuid                   1topic_16partitions_10Kb_10000eps  \\\n",
       "numWorkloadWorkers                                          2   \n",
       "topics                                                      1   \n",
       "partitionsPerTopic                                         16   \n",
       "producersPerTopic                                           1   \n",
       "subscriptionsPerTopic                                       1   \n",
       "consumerPerSubscription                                     1   \n",
       "testDurationMinutes                                         2   \n",
       "keyDistributor                                         NO_KEY   \n",
       "git_commit                                            b28d173   \n",
       "pravegaVersion                               no-netty-low-cpu   \n",
       "publishRateEventsPerSecMean                           10010.2   \n",
       "publishRateMBPerSecMean                               102.505   \n",
       "publishLatencyMs50Pct                                   3.815   \n",
       "publishLatencyMs99Pct                                 171.521   \n",
       "endToEndLatencyMs50Pct                                      9   \n",
       "endToEndLatencyMs99Pct                                    211   \n",
       "utc_begin                    2020-04-23 15:36:32.715790+00:00   \n",
       "\n",
       "test_uuid                   1topic_16partitions_10Kb_20000eps  \\\n",
       "numWorkloadWorkers                                          2   \n",
       "topics                                                      1   \n",
       "partitionsPerTopic                                         16   \n",
       "producersPerTopic                                           1   \n",
       "subscriptionsPerTopic                                       1   \n",
       "consumerPerSubscription                                     1   \n",
       "testDurationMinutes                                         2   \n",
       "keyDistributor                                         NO_KEY   \n",
       "git_commit                                            b28d173   \n",
       "pravegaVersion                               no-netty-low-cpu   \n",
       "publishRateEventsPerSecMean                           20034.7   \n",
       "publishRateMBPerSecMean                               205.155   \n",
       "publishLatencyMs50Pct                                   4.639   \n",
       "publishLatencyMs99Pct                                 273.155   \n",
       "endToEndLatencyMs50Pct                                     18   \n",
       "endToEndLatencyMs99Pct                                344.001   \n",
       "utc_begin                    2020-04-23 15:36:32.715790+00:00   \n",
       "\n",
       "test_uuid                   1topic_16partitions_10Kb_30000eps  \\\n",
       "numWorkloadWorkers                                          2   \n",
       "topics                                                      1   \n",
       "partitionsPerTopic                                         16   \n",
       "producersPerTopic                                           1   \n",
       "subscriptionsPerTopic                                       1   \n",
       "consumerPerSubscription                                     1   \n",
       "testDurationMinutes                                         2   \n",
       "keyDistributor                                         NO_KEY   \n",
       "git_commit                                            b28d173   \n",
       "pravegaVersion                               no-netty-low-cpu   \n",
       "publishRateEventsPerSecMean                             30070   \n",
       "publishRateMBPerSecMean                               307.917   \n",
       "publishLatencyMs50Pct                                   5.368   \n",
       "publishLatencyMs99Pct                                 201.453   \n",
       "endToEndLatencyMs50Pct                                     24   \n",
       "endToEndLatencyMs99Pct                                323.001   \n",
       "utc_begin                    2020-04-23 15:36:32.715790+00:00   \n",
       "\n",
       "test_uuid                     1topic_1partition_10Kb_10000eps  \\\n",
       "numWorkloadWorkers                                          2   \n",
       "topics                                                      1   \n",
       "partitionsPerTopic                                          1   \n",
       "producersPerTopic                                           1   \n",
       "subscriptionsPerTopic                                       1   \n",
       "consumerPerSubscription                                     1   \n",
       "testDurationMinutes                                         2   \n",
       "keyDistributor                                         NO_KEY   \n",
       "git_commit                                            b28d173   \n",
       "pravegaVersion                               no-netty-low-cpu   \n",
       "publishRateEventsPerSecMean                           10014.1   \n",
       "publishRateMBPerSecMean                               102.545   \n",
       "publishLatencyMs50Pct                                   8.646   \n",
       "publishLatencyMs99Pct                                   23.18   \n",
       "endToEndLatencyMs50Pct                                     10   \n",
       "endToEndLatencyMs99Pct                                     27   \n",
       "utc_begin                    2020-04-23 15:36:32.715790+00:00   \n",
       "\n",
       "test_uuid                     1topic_1partition_10Kb_20000eps  \\\n",
       "numWorkloadWorkers                                          2   \n",
       "topics                                                      1   \n",
       "partitionsPerTopic                                          1   \n",
       "producersPerTopic                                           1   \n",
       "subscriptionsPerTopic                                       1   \n",
       "consumerPerSubscription                                     1   \n",
       "testDurationMinutes                                         2   \n",
       "keyDistributor                                         NO_KEY   \n",
       "git_commit                                            b28d173   \n",
       "pravegaVersion                               no-netty-low-cpu   \n",
       "publishRateEventsPerSecMean                           20023.4   \n",
       "publishRateMBPerSecMean                                205.04   \n",
       "publishLatencyMs50Pct                                   9.269   \n",
       "publishLatencyMs99Pct                                  20.341   \n",
       "endToEndLatencyMs50Pct                                     11   \n",
       "endToEndLatencyMs99Pct                                     23   \n",
       "utc_begin                    2020-04-23 15:36:32.715790+00:00   \n",
       "\n",
       "test_uuid                     1topic_1partition_10Kb_30000eps  \\\n",
       "numWorkloadWorkers                                          2   \n",
       "topics                                                      1   \n",
       "partitionsPerTopic                                          1   \n",
       "producersPerTopic                                           1   \n",
       "subscriptionsPerTopic                                       1   \n",
       "consumerPerSubscription                                     1   \n",
       "testDurationMinutes                                         2   \n",
       "keyDistributor                                         NO_KEY   \n",
       "git_commit                                            b28d173   \n",
       "pravegaVersion                               no-netty-low-cpu   \n",
       "publishRateEventsPerSecMean                           30053.5   \n",
       "publishRateMBPerSecMean                               307.747   \n",
       "publishLatencyMs50Pct                                  15.805   \n",
       "publishLatencyMs99Pct                                  46.712   \n",
       "endToEndLatencyMs50Pct                                     20   \n",
       "endToEndLatencyMs99Pct                                    113   \n",
       "utc_begin                    2020-04-23 15:36:32.715790+00:00   \n",
       "\n",
       "test_uuid                   1topic_16partitions_10Kb_10000eps  \\\n",
       "numWorkloadWorkers                                          2   \n",
       "topics                                                      1   \n",
       "partitionsPerTopic                                         16   \n",
       "producersPerTopic                                           1   \n",
       "subscriptionsPerTopic                                       1   \n",
       "consumerPerSubscription                                     1   \n",
       "testDurationMinutes                                         2   \n",
       "keyDistributor                                         NO_KEY   \n",
       "git_commit                                            b28d173   \n",
       "pravegaVersion                                       no-netty   \n",
       "publishRateEventsPerSecMean                           10016.2   \n",
       "publishRateMBPerSecMean                               102.566   \n",
       "publishLatencyMs50Pct                                   3.874   \n",
       "publishLatencyMs99Pct                                 196.585   \n",
       "endToEndLatencyMs50Pct                                      9   \n",
       "endToEndLatencyMs99Pct                                    240   \n",
       "utc_begin                    2020-04-23 15:36:32.715790+00:00   \n",
       "\n",
       "test_uuid                   1topic_16partitions_10Kb_20000eps  \\\n",
       "numWorkloadWorkers                                          2   \n",
       "topics                                                      1   \n",
       "partitionsPerTopic                                         16   \n",
       "producersPerTopic                                           1   \n",
       "subscriptionsPerTopic                                       1   \n",
       "consumerPerSubscription                                     1   \n",
       "testDurationMinutes                                         2   \n",
       "keyDistributor                                         NO_KEY   \n",
       "git_commit                                            b28d173   \n",
       "pravegaVersion                                       no-netty   \n",
       "publishRateEventsPerSecMean                           20036.2   \n",
       "publishRateMBPerSecMean                               205.171   \n",
       "publishLatencyMs50Pct                                   4.685   \n",
       "publishLatencyMs99Pct                                 183.047   \n",
       "endToEndLatencyMs50Pct                                     21   \n",
       "endToEndLatencyMs99Pct                                280.001   \n",
       "utc_begin                    2020-04-23 15:36:32.715790+00:00   \n",
       "\n",
       "test_uuid                   1topic_16partitions_10Kb_30000eps  \\\n",
       "numWorkloadWorkers                                          2   \n",
       "topics                                                      1   \n",
       "partitionsPerTopic                                         16   \n",
       "producersPerTopic                                           1   \n",
       "subscriptionsPerTopic                                       1   \n",
       "consumerPerSubscription                                     1   \n",
       "testDurationMinutes                                         2   \n",
       "keyDistributor                                         NO_KEY   \n",
       "git_commit                                            b28d173   \n",
       "pravegaVersion                                       no-netty   \n",
       "publishRateEventsPerSecMean                           30052.7   \n",
       "publishRateMBPerSecMean                               307.739   \n",
       "publishLatencyMs50Pct                                   5.722   \n",
       "publishLatencyMs99Pct                                 195.426   \n",
       "endToEndLatencyMs50Pct                                     36   \n",
       "endToEndLatencyMs99Pct                                339.001   \n",
       "utc_begin                    2020-04-23 15:36:32.715790+00:00   \n",
       "\n",
       "test_uuid                     1topic_1partition_10Kb_10000eps  \\\n",
       "numWorkloadWorkers                                          2   \n",
       "topics                                                      1   \n",
       "partitionsPerTopic                                          1   \n",
       "producersPerTopic                                           1   \n",
       "subscriptionsPerTopic                                       1   \n",
       "consumerPerSubscription                                     1   \n",
       "testDurationMinutes                                         2   \n",
       "keyDistributor                                         NO_KEY   \n",
       "git_commit                                            b28d173   \n",
       "pravegaVersion                                       no-netty   \n",
       "publishRateEventsPerSecMean                           10013.9   \n",
       "publishRateMBPerSecMean                               102.542   \n",
       "publishLatencyMs50Pct                                   8.864   \n",
       "publishLatencyMs99Pct                                  52.722   \n",
       "endToEndLatencyMs50Pct                                     11   \n",
       "endToEndLatencyMs99Pct                                     63   \n",
       "utc_begin                    2020-04-23 15:36:32.715790+00:00   \n",
       "\n",
       "test_uuid                     1topic_1partition_10Kb_20000eps  \\\n",
       "numWorkloadWorkers                                          2   \n",
       "topics                                                      1   \n",
       "partitionsPerTopic                                          1   \n",
       "producersPerTopic                                           1   \n",
       "subscriptionsPerTopic                                       1   \n",
       "consumerPerSubscription                                     1   \n",
       "testDurationMinutes                                         2   \n",
       "keyDistributor                                         NO_KEY   \n",
       "git_commit                                            b28d173   \n",
       "pravegaVersion                                       no-netty   \n",
       "publishRateEventsPerSecMean                           20030.1   \n",
       "publishRateMBPerSecMean                               205.108   \n",
       "publishLatencyMs50Pct                                  10.601   \n",
       "publishLatencyMs99Pct                                  70.418   \n",
       "endToEndLatencyMs50Pct                                     13   \n",
       "endToEndLatencyMs99Pct                                     93   \n",
       "utc_begin                    2020-04-23 15:36:32.715790+00:00   \n",
       "\n",
       "test_uuid                     1topic_1partition_10Kb_30000eps  \n",
       "numWorkloadWorkers                                          2  \n",
       "topics                                                      1  \n",
       "partitionsPerTopic                                          1  \n",
       "producersPerTopic                                           1  \n",
       "subscriptionsPerTopic                                       1  \n",
       "consumerPerSubscription                                     1  \n",
       "testDurationMinutes                                         2  \n",
       "keyDistributor                                         NO_KEY  \n",
       "git_commit                                            b28d173  \n",
       "pravegaVersion                                       no-netty  \n",
       "publishRateEventsPerSecMean                           30056.4  \n",
       "publishRateMBPerSecMean                               307.778  \n",
       "publishLatencyMs50Pct                                  13.618  \n",
       "publishLatencyMs99Pct                                  29.487  \n",
       "endToEndLatencyMs50Pct                                     17  \n",
       "endToEndLatencyMs99Pct                                     36  \n",
       "utc_begin                    2020-04-23 15:36:32.715790+00:00  "
      ]
     },
     "execution_count": 1020,
     "metadata": {},
     "output_type": "execute_result"
    }
   ],
   "source": [
    "# View most recent results\n",
    "clean_df[cols].tail(24).T"
   ]
  },
  {
   "cell_type": "code",
   "execution_count": 1021,
   "metadata": {},
   "outputs": [],
   "source": [
    "# Export to CSV\n",
    "#clean_df[cols].to_csv('openmessaging-benchmark-results.csv')"
   ]
  },
  {
   "cell_type": "code",
   "execution_count": 1022,
   "metadata": {},
   "outputs": [],
   "source": [
    "# df = clean_df[cols]\n",
    "# df = df.sort_values(['messageSize','numWorkloadWorkers','producersPerTopic','throttleEventsPerSec','utc_begin'])\n",
    "# df.head()"
   ]
  },
  {
   "cell_type": "code",
   "execution_count": 1023,
   "metadata": {},
   "outputs": [
    {
     "data": {
      "text/plain": [
       "pravegaVersion\n",
       "no-netty            6\n",
       "no-netty-low-cpu    6\n",
       "dtype: int64"
      ]
     },
     "execution_count": 1023,
     "metadata": {},
     "output_type": "execute_result"
    }
   ],
   "source": [
    "# View distinct values of pravegaVersion and test counts\n",
    "clean_df.groupby(['pravegaVersion']).size()"
   ]
  },
  {
   "cell_type": "code",
   "execution_count": 1024,
   "metadata": {},
   "outputs": [
    {
     "data": {
      "text/plain": [
       "12"
      ]
     },
     "execution_count": 1024,
     "metadata": {},
     "output_type": "execute_result"
    }
   ],
   "source": [
    "# First level of filtering\n",
    "filt_df = filter_dataframe(\n",
    "    clean_df,\n",
    "  #  driverName='Pravega',\n",
    "  #  pravegaVersion='0.8.0-2508.30406cf',\n",
    "#     pravegaVersion='0.6.0-2386.23b7340',\n",
    "   # numWorkloadWorkers=2, \n",
    "    topics=1,\n",
    "    testDurationMinutes=2,\n",
    "   # size_of_test_batch=(2,1000), # between\n",
    "   # aggregatedEndToEndLatency50pct=(1,1e6),\n",
    ")\n",
    "# filt_df = filt_df[filt_df.size_of_test_batch > 1]\n",
    "len(filt_df)"
   ]
  },
  {
   "cell_type": "code",
   "execution_count": 1025,
   "metadata": {},
   "outputs": [],
   "source": [
    "def latency_vs_throughput_table(df):\n",
    "    result_df = (df\n",
    "        .set_index(['publishRateMBPerSecMean'])\n",
    "        .sort_index()\n",
    "        [[\n",
    "            'aggregatedPublishLatency50pct',\n",
    "            'aggregatedPublishLatency95pct',\n",
    "            'aggregatedPublishLatency99pct',\n",
    "            'aggregatedEndToEndLatency50pct',\n",
    "            'aggregatedEndToEndLatency95pct',\n",
    "            'aggregatedEndToEndLatency99pct',\n",
    "            'test_uuid',\n",
    "        ]]\n",
    "        .rename(columns=dict(\n",
    "            aggregatedPublishLatency50pct='Publish Latency p50',\n",
    "            aggregatedPublishLatency95pct='Publish Latency p95',\n",
    "            aggregatedPublishLatency99pct='Publish Latency p99',\n",
    "            aggregatedEndToEndLatency50pct='E2E Latency p50',\n",
    "            aggregatedEndToEndLatency95pct='E2E Latency p95',\n",
    "            aggregatedEndToEndLatency99pct='E2E Latency p99',\n",
    "        ))\n",
    "        )\n",
    "    result_df.index.name = 'Publish Throughput (MB/s)'\n",
    "    return result_df"
   ]
  },
  {
   "cell_type": "code",
   "execution_count": 1026,
   "metadata": {},
   "outputs": [],
   "source": [
    "def plot_latency_vs_throughput(df):\n",
    "    assert len(df.messageSize.drop_duplicates().values) == 1\n",
    "    messageSize = df.messageSize.iloc[0]\n",
    "    partitionsPerTopic = df.partitionsPerTopic.iloc[0]\n",
    "    pravegaVersion =  df.pravegaVersion.iloc[0]\n",
    "    plot_df = latency_vs_throughput_table(df)\n",
    "    title = '%s on Dirt (Pavels results), Message Size %d, partitions: %d, 2min test' % (pravegaVersion, messageSize, partitionsPerTopic)\n",
    "    ax = plot_df.plot(\n",
    "        logx=True, \n",
    "        logy=True,\n",
    "        figsize=(10,8),\n",
    "        grid=True, \n",
    "        title=title, \n",
    "        style=['x:b','x-.b','x-b','+:r','+-.r','+-r'])\n",
    "    ax.set_ylabel('Latency (ms)');\n",
    "    tick_formatter = matplotlib.ticker.LogFormatter()\n",
    "    ax.xaxis.set_major_formatter(tick_formatter)\n",
    "    ax.yaxis.set_major_formatter(tick_formatter)\n",
    "    ax.grid('on', which='both', axis='both')"
   ]
  },
  {
   "cell_type": "markdown",
   "metadata": {},
   "source": [
    "## Message Size 100 B"
   ]
  },
  {
   "cell_type": "code",
   "execution_count": 1027,
   "metadata": {},
   "outputs": [
    {
     "name": "stderr",
     "output_type": "stream",
     "text": [
      "filter_dataframe: No matching records after filtering on messageSize=[100]\n"
     ]
    }
   ],
   "source": [
    "filt_100_df = filter_dataframe(\n",
    "    filt_df,\n",
    "    messageSize=100,\n",
    "    #producersPerTopic=1,\n",
    "    partitionsPerTopic=16,\n",
    ")"
   ]
  },
  {
   "cell_type": "code",
   "execution_count": 1028,
   "metadata": {},
   "outputs": [
    {
     "data": {
      "text/html": [
       "<div>\n",
       "<style scoped>\n",
       "    .dataframe tbody tr th:only-of-type {\n",
       "        vertical-align: middle;\n",
       "    }\n",
       "\n",
       "    .dataframe tbody tr th {\n",
       "        vertical-align: top;\n",
       "    }\n",
       "\n",
       "    .dataframe thead th {\n",
       "        text-align: right;\n",
       "    }\n",
       "</style>\n",
       "<table border=\"1\" class=\"dataframe\">\n",
       "  <thead>\n",
       "    <tr style=\"text-align: right;\">\n",
       "      <th>test_uuid</th>\n",
       "    </tr>\n",
       "  </thead>\n",
       "  <tbody>\n",
       "  </tbody>\n",
       "</table>\n",
       "</div>"
      ],
      "text/plain": [
       "Empty DataFrame\n",
       "Columns: []\n",
       "Index: []"
      ]
     },
     "execution_count": 1028,
     "metadata": {},
     "output_type": "execute_result"
    }
   ],
   "source": [
    "# View varying columns\n",
    "take_varying_columns(filt_100_df[filt_100_df.producerRate==100000]).T"
   ]
  },
  {
   "cell_type": "code",
   "execution_count": 1029,
   "metadata": {},
   "outputs": [
    {
     "data": {
      "text/html": [
       "<div>\n",
       "<style scoped>\n",
       "    .dataframe tbody tr th:only-of-type {\n",
       "        vertical-align: middle;\n",
       "    }\n",
       "\n",
       "    .dataframe tbody tr th {\n",
       "        vertical-align: top;\n",
       "    }\n",
       "\n",
       "    .dataframe thead th {\n",
       "        text-align: right;\n",
       "    }\n",
       "</style>\n",
       "<table border=\"1\" class=\"dataframe\">\n",
       "  <thead>\n",
       "    <tr style=\"text-align: right;\">\n",
       "      <th>test_uuid</th>\n",
       "    </tr>\n",
       "  </thead>\n",
       "  <tbody>\n",
       "    <tr>\n",
       "      <td>numWorkloadWorkers</td>\n",
       "    </tr>\n",
       "    <tr>\n",
       "      <td>topics</td>\n",
       "    </tr>\n",
       "    <tr>\n",
       "      <td>partitionsPerTopic</td>\n",
       "    </tr>\n",
       "    <tr>\n",
       "      <td>producersPerTopic</td>\n",
       "    </tr>\n",
       "    <tr>\n",
       "      <td>subscriptionsPerTopic</td>\n",
       "    </tr>\n",
       "    <tr>\n",
       "      <td>consumerPerSubscription</td>\n",
       "    </tr>\n",
       "    <tr>\n",
       "      <td>testDurationMinutes</td>\n",
       "    </tr>\n",
       "    <tr>\n",
       "      <td>keyDistributor</td>\n",
       "    </tr>\n",
       "    <tr>\n",
       "      <td>git_commit</td>\n",
       "    </tr>\n",
       "    <tr>\n",
       "      <td>pravegaVersion</td>\n",
       "    </tr>\n",
       "  </tbody>\n",
       "</table>\n",
       "</div>"
      ],
      "text/plain": [
       "Empty DataFrame\n",
       "Columns: []\n",
       "Index: [numWorkloadWorkers, topics, partitionsPerTopic, producersPerTopic, subscriptionsPerTopic, consumerPerSubscription, testDurationMinutes, keyDistributor, git_commit, pravegaVersion]"
      ]
     },
     "execution_count": 1029,
     "metadata": {},
     "output_type": "execute_result"
    }
   ],
   "source": [
    "# View distinct sets of parameters.\n",
    "# There should only be one distinct set of parameters.\n",
    "filt_100_df[param_cols].drop_duplicates().T"
   ]
  },
  {
   "cell_type": "code",
   "execution_count": 1030,
   "metadata": {},
   "outputs": [
    {
     "ename": "AssertionError",
     "evalue": "",
     "output_type": "error",
     "traceback": [
      "\u001b[0;31m---------------------------------------------------------------------------\u001b[0m",
      "\u001b[0;31mAssertionError\u001b[0m                            Traceback (most recent call last)",
      "\u001b[0;32m<ipython-input-1030-a2026560d2c0>\u001b[0m in \u001b[0;36m<module>\u001b[0;34m\u001b[0m\n\u001b[0;32m----> 1\u001b[0;31m \u001b[0mplot_latency_vs_throughput\u001b[0m\u001b[0;34m(\u001b[0m\u001b[0mfilt_100_df\u001b[0m\u001b[0;34m)\u001b[0m\u001b[0;34m\u001b[0m\u001b[0;34m\u001b[0m\u001b[0m\n\u001b[0m",
      "\u001b[0;32m<ipython-input-1026-5145c136294a>\u001b[0m in \u001b[0;36mplot_latency_vs_throughput\u001b[0;34m(df)\u001b[0m\n\u001b[1;32m      1\u001b[0m \u001b[0;32mdef\u001b[0m \u001b[0mplot_latency_vs_throughput\u001b[0m\u001b[0;34m(\u001b[0m\u001b[0mdf\u001b[0m\u001b[0;34m)\u001b[0m\u001b[0;34m:\u001b[0m\u001b[0;34m\u001b[0m\u001b[0;34m\u001b[0m\u001b[0m\n\u001b[0;32m----> 2\u001b[0;31m     \u001b[0;32massert\u001b[0m \u001b[0mlen\u001b[0m\u001b[0;34m(\u001b[0m\u001b[0mdf\u001b[0m\u001b[0;34m.\u001b[0m\u001b[0mmessageSize\u001b[0m\u001b[0;34m.\u001b[0m\u001b[0mdrop_duplicates\u001b[0m\u001b[0;34m(\u001b[0m\u001b[0;34m)\u001b[0m\u001b[0;34m.\u001b[0m\u001b[0mvalues\u001b[0m\u001b[0;34m)\u001b[0m \u001b[0;34m==\u001b[0m \u001b[0;36m1\u001b[0m\u001b[0;34m\u001b[0m\u001b[0;34m\u001b[0m\u001b[0m\n\u001b[0m\u001b[1;32m      3\u001b[0m     \u001b[0mmessageSize\u001b[0m \u001b[0;34m=\u001b[0m \u001b[0mdf\u001b[0m\u001b[0;34m.\u001b[0m\u001b[0mmessageSize\u001b[0m\u001b[0;34m.\u001b[0m\u001b[0miloc\u001b[0m\u001b[0;34m[\u001b[0m\u001b[0;36m0\u001b[0m\u001b[0;34m]\u001b[0m\u001b[0;34m\u001b[0m\u001b[0;34m\u001b[0m\u001b[0m\n\u001b[1;32m      4\u001b[0m     \u001b[0mpartitionsPerTopic\u001b[0m \u001b[0;34m=\u001b[0m \u001b[0mdf\u001b[0m\u001b[0;34m.\u001b[0m\u001b[0mpartitionsPerTopic\u001b[0m\u001b[0;34m.\u001b[0m\u001b[0miloc\u001b[0m\u001b[0;34m[\u001b[0m\u001b[0;36m0\u001b[0m\u001b[0;34m]\u001b[0m\u001b[0;34m\u001b[0m\u001b[0;34m\u001b[0m\u001b[0m\n\u001b[1;32m      5\u001b[0m     \u001b[0mpravegaVersion\u001b[0m \u001b[0;34m=\u001b[0m  \u001b[0mdf\u001b[0m\u001b[0;34m.\u001b[0m\u001b[0mpravegaVersion\u001b[0m\u001b[0;34m.\u001b[0m\u001b[0miloc\u001b[0m\u001b[0;34m[\u001b[0m\u001b[0;36m0\u001b[0m\u001b[0;34m]\u001b[0m\u001b[0;34m\u001b[0m\u001b[0;34m\u001b[0m\u001b[0m\n",
      "\u001b[0;31mAssertionError\u001b[0m: "
     ]
    }
   ],
   "source": [
    "plot_latency_vs_throughput(filt_100_df)"
   ]
  },
  {
   "cell_type": "code",
   "execution_count": null,
   "metadata": {},
   "outputs": [],
   "source": [
    "latency_vs_throughput_table(filt_100_df)"
   ]
  },
  {
   "cell_type": "markdown",
   "metadata": {},
   "source": [
    "## Message Size 10 KB"
   ]
  },
  {
   "cell_type": "code",
   "execution_count": 1031,
   "metadata": {},
   "outputs": [],
   "source": [
    "filt_10000_df = filter_dataframe(\n",
    "    filt_df,\n",
    "    messageSize=10240,\n",
    "    #producersPerTopic=1,\n",
    "    partitionsPerTopic=16,\n",
    ")"
   ]
  },
  {
   "cell_type": "code",
   "execution_count": 1032,
   "metadata": {},
   "outputs": [
    {
     "data": {
      "text/html": [
       "<div>\n",
       "<style scoped>\n",
       "    .dataframe tbody tr th:only-of-type {\n",
       "        vertical-align: middle;\n",
       "    }\n",
       "\n",
       "    .dataframe tbody tr th {\n",
       "        vertical-align: top;\n",
       "    }\n",
       "\n",
       "    .dataframe thead th {\n",
       "        text-align: right;\n",
       "    }\n",
       "</style>\n",
       "<table border=\"1\" class=\"dataframe\">\n",
       "  <thead>\n",
       "    <tr style=\"text-align: right;\">\n",
       "      <th>test_uuid</th>\n",
       "      <th>1topic_16partitions_10Kb_10000eps</th>\n",
       "      <th>1topic_16partitions_10Kb_10000eps</th>\n",
       "    </tr>\n",
       "  </thead>\n",
       "  <tbody>\n",
       "    <tr>\n",
       "      <td>numWorkloadWorkers</td>\n",
       "      <td>2</td>\n",
       "      <td>2</td>\n",
       "    </tr>\n",
       "    <tr>\n",
       "      <td>topics</td>\n",
       "      <td>1</td>\n",
       "      <td>1</td>\n",
       "    </tr>\n",
       "    <tr>\n",
       "      <td>partitionsPerTopic</td>\n",
       "      <td>16</td>\n",
       "      <td>16</td>\n",
       "    </tr>\n",
       "    <tr>\n",
       "      <td>producersPerTopic</td>\n",
       "      <td>1</td>\n",
       "      <td>1</td>\n",
       "    </tr>\n",
       "    <tr>\n",
       "      <td>subscriptionsPerTopic</td>\n",
       "      <td>1</td>\n",
       "      <td>1</td>\n",
       "    </tr>\n",
       "    <tr>\n",
       "      <td>consumerPerSubscription</td>\n",
       "      <td>1</td>\n",
       "      <td>1</td>\n",
       "    </tr>\n",
       "    <tr>\n",
       "      <td>testDurationMinutes</td>\n",
       "      <td>2</td>\n",
       "      <td>2</td>\n",
       "    </tr>\n",
       "    <tr>\n",
       "      <td>keyDistributor</td>\n",
       "      <td>NO_KEY</td>\n",
       "      <td>NO_KEY</td>\n",
       "    </tr>\n",
       "    <tr>\n",
       "      <td>git_commit</td>\n",
       "      <td>b28d173</td>\n",
       "      <td>b28d173</td>\n",
       "    </tr>\n",
       "    <tr>\n",
       "      <td>pravegaVersion</td>\n",
       "      <td>no-netty-low-cpu</td>\n",
       "      <td>no-netty</td>\n",
       "    </tr>\n",
       "  </tbody>\n",
       "</table>\n",
       "</div>"
      ],
      "text/plain": [
       "test_uuid               1topic_16partitions_10Kb_10000eps  \\\n",
       "numWorkloadWorkers                                      2   \n",
       "topics                                                  1   \n",
       "partitionsPerTopic                                     16   \n",
       "producersPerTopic                                       1   \n",
       "subscriptionsPerTopic                                   1   \n",
       "consumerPerSubscription                                 1   \n",
       "testDurationMinutes                                     2   \n",
       "keyDistributor                                     NO_KEY   \n",
       "git_commit                                        b28d173   \n",
       "pravegaVersion                           no-netty-low-cpu   \n",
       "\n",
       "test_uuid               1topic_16partitions_10Kb_10000eps  \n",
       "numWorkloadWorkers                                      2  \n",
       "topics                                                  1  \n",
       "partitionsPerTopic                                     16  \n",
       "producersPerTopic                                       1  \n",
       "subscriptionsPerTopic                                   1  \n",
       "consumerPerSubscription                                 1  \n",
       "testDurationMinutes                                     2  \n",
       "keyDistributor                                     NO_KEY  \n",
       "git_commit                                        b28d173  \n",
       "pravegaVersion                                   no-netty  "
      ]
     },
     "execution_count": 1032,
     "metadata": {},
     "output_type": "execute_result"
    }
   ],
   "source": [
    "# View distinct sets of parameters.\n",
    "# There should only be one distinct set of parameters.\n",
    "filt_10000_df[param_cols].drop_duplicates().T"
   ]
  },
  {
   "cell_type": "code",
   "execution_count": 1033,
   "metadata": {},
   "outputs": [
    {
     "data": {
      "image/png": "[encoded data removed]",
      "text/plain": [
       "<Figure size 720x576 with 1 Axes>"
      ]
     },
     "metadata": {
      "needs_background": "light"
     },
     "output_type": "display_data"
    }
   ],
   "source": [
    "plot_latency_vs_throughput(filt_10000_df)"
   ]
  },
  {
   "cell_type": "code",
   "execution_count": 1034,
   "metadata": {},
   "outputs": [
    {
     "data": {
      "text/html": [
       "<div>\n",
       "<style scoped>\n",
       "    .dataframe tbody tr th:only-of-type {\n",
       "        vertical-align: middle;\n",
       "    }\n",
       "\n",
       "    .dataframe tbody tr th {\n",
       "        vertical-align: top;\n",
       "    }\n",
       "\n",
       "    .dataframe thead th {\n",
       "        text-align: right;\n",
       "    }\n",
       "</style>\n",
       "<table border=\"1\" class=\"dataframe\">\n",
       "  <thead>\n",
       "    <tr style=\"text-align: right;\">\n",
       "      <th></th>\n",
       "      <th>Publish Latency p50</th>\n",
       "      <th>Publish Latency p95</th>\n",
       "      <th>Publish Latency p99</th>\n",
       "      <th>E2E Latency p50</th>\n",
       "      <th>E2E Latency p95</th>\n",
       "      <th>E2E Latency p99</th>\n",
       "      <th>test_uuid</th>\n",
       "    </tr>\n",
       "    <tr>\n",
       "      <th>Publish Throughput (MB/s)</th>\n",
       "      <th></th>\n",
       "      <th></th>\n",
       "      <th></th>\n",
       "      <th></th>\n",
       "      <th></th>\n",
       "      <th></th>\n",
       "      <th></th>\n",
       "    </tr>\n",
       "  </thead>\n",
       "  <tbody>\n",
       "    <tr>\n",
       "      <td>102.504902</td>\n",
       "      <td>3.815</td>\n",
       "      <td>75.162</td>\n",
       "      <td>171.521</td>\n",
       "      <td>9.0</td>\n",
       "      <td>111.0</td>\n",
       "      <td>211.000</td>\n",
       "      <td>1topic_16partitions_10Kb_10000eps</td>\n",
       "    </tr>\n",
       "    <tr>\n",
       "      <td>102.565677</td>\n",
       "      <td>3.874</td>\n",
       "      <td>82.437</td>\n",
       "      <td>196.585</td>\n",
       "      <td>9.0</td>\n",
       "      <td>123.0</td>\n",
       "      <td>240.000</td>\n",
       "      <td>1topic_16partitions_10Kb_10000eps</td>\n",
       "    </tr>\n",
       "    <tr>\n",
       "      <td>205.155479</td>\n",
       "      <td>4.639</td>\n",
       "      <td>118.424</td>\n",
       "      <td>273.155</td>\n",
       "      <td>18.0</td>\n",
       "      <td>213.0</td>\n",
       "      <td>344.001</td>\n",
       "      <td>1topic_16partitions_10Kb_20000eps</td>\n",
       "    </tr>\n",
       "    <tr>\n",
       "      <td>205.170754</td>\n",
       "      <td>4.685</td>\n",
       "      <td>77.656</td>\n",
       "      <td>183.047</td>\n",
       "      <td>21.0</td>\n",
       "      <td>166.0</td>\n",
       "      <td>280.001</td>\n",
       "      <td>1topic_16partitions_10Kb_20000eps</td>\n",
       "    </tr>\n",
       "    <tr>\n",
       "      <td>307.739365</td>\n",
       "      <td>5.722</td>\n",
       "      <td>88.312</td>\n",
       "      <td>195.426</td>\n",
       "      <td>36.0</td>\n",
       "      <td>237.0</td>\n",
       "      <td>339.001</td>\n",
       "      <td>1topic_16partitions_10Kb_30000eps</td>\n",
       "    </tr>\n",
       "    <tr>\n",
       "      <td>307.916722</td>\n",
       "      <td>5.368</td>\n",
       "      <td>77.897</td>\n",
       "      <td>201.453</td>\n",
       "      <td>24.0</td>\n",
       "      <td>216.0</td>\n",
       "      <td>323.001</td>\n",
       "      <td>1topic_16partitions_10Kb_30000eps</td>\n",
       "    </tr>\n",
       "  </tbody>\n",
       "</table>\n",
       "</div>"
      ],
      "text/plain": [
       "                           Publish Latency p50  Publish Latency p95  \\\n",
       "Publish Throughput (MB/s)                                             \n",
       "102.504902                               3.815               75.162   \n",
       "102.565677                               3.874               82.437   \n",
       "205.155479                               4.639              118.424   \n",
       "205.170754                               4.685               77.656   \n",
       "307.739365                               5.722               88.312   \n",
       "307.916722                               5.368               77.897   \n",
       "\n",
       "                           Publish Latency p99  E2E Latency p50  \\\n",
       "Publish Throughput (MB/s)                                         \n",
       "102.504902                             171.521              9.0   \n",
       "102.565677                             196.585              9.0   \n",
       "205.155479                             273.155             18.0   \n",
       "205.170754                             183.047             21.0   \n",
       "307.739365                             195.426             36.0   \n",
       "307.916722                             201.453             24.0   \n",
       "\n",
       "                           E2E Latency p95  E2E Latency p99  \\\n",
       "Publish Throughput (MB/s)                                     \n",
       "102.504902                           111.0          211.000   \n",
       "102.565677                           123.0          240.000   \n",
       "205.155479                           213.0          344.001   \n",
       "205.170754                           166.0          280.001   \n",
       "307.739365                           237.0          339.001   \n",
       "307.916722                           216.0          323.001   \n",
       "\n",
       "                                                   test_uuid  \n",
       "Publish Throughput (MB/s)                                     \n",
       "102.504902                 1topic_16partitions_10Kb_10000eps  \n",
       "102.565677                 1topic_16partitions_10Kb_10000eps  \n",
       "205.155479                 1topic_16partitions_10Kb_20000eps  \n",
       "205.170754                 1topic_16partitions_10Kb_20000eps  \n",
       "307.739365                 1topic_16partitions_10Kb_30000eps  \n",
       "307.916722                 1topic_16partitions_10Kb_30000eps  "
      ]
     },
     "execution_count": 1034,
     "metadata": {},
     "output_type": "execute_result"
    }
   ],
   "source": [
    "latency_vs_throughput_table(filt_10000_df)"
   ]
  },
  {
   "cell_type": "markdown",
   "metadata": {},
   "source": [
    "## Analyze 100 B events, 50,000 events/sec, various number of partitions and producers"
   ]
  },
  {
   "cell_type": "code",
   "execution_count": 1035,
   "metadata": {},
   "outputs": [
    {
     "name": "stderr",
     "output_type": "stream",
     "text": [
      "filter_dataframe: No matching records after filtering on messageSize=[100]\n"
     ]
    },
    {
     "data": {
      "text/plain": [
       "0"
      ]
     },
     "execution_count": 1035,
     "metadata": {},
     "output_type": "execute_result"
    }
   ],
   "source": [
    "filt_50000eps_df = filter_dataframe(\n",
    "    filt_df,\n",
    "    messageSize=100,\n",
    "    producerRate=-1,\n",
    ").sort_values(['endToEndLatencyMs99Pct'], ascending=True)\n",
    "len(filt_50000eps_df)"
   ]
  },
  {
   "cell_type": "code",
   "execution_count": 1036,
   "metadata": {},
   "outputs": [
    {
     "data": {
      "text/html": [
       "<div>\n",
       "<style scoped>\n",
       "    .dataframe tbody tr th:only-of-type {\n",
       "        vertical-align: middle;\n",
       "    }\n",
       "\n",
       "    .dataframe tbody tr th {\n",
       "        vertical-align: top;\n",
       "    }\n",
       "\n",
       "    .dataframe thead th {\n",
       "        text-align: right;\n",
       "    }\n",
       "</style>\n",
       "<table border=\"1\" class=\"dataframe\">\n",
       "  <thead>\n",
       "    <tr style=\"text-align: right;\">\n",
       "      <th></th>\n",
       "    </tr>\n",
       "    <tr>\n",
       "      <th>test_uuid</th>\n",
       "    </tr>\n",
       "  </thead>\n",
       "  <tbody>\n",
       "  </tbody>\n",
       "</table>\n",
       "</div>"
      ],
      "text/plain": [
       "Empty DataFrame\n",
       "Columns: []\n",
       "Index: []"
      ]
     },
     "execution_count": 1036,
     "metadata": {},
     "output_type": "execute_result"
    }
   ],
   "source": [
    "take_varying_columns(filt_50000eps_df[cols]).head(20)"
   ]
  },
  {
   "cell_type": "markdown",
   "metadata": {},
   "source": [
    "# Analyze Latency Distribution"
   ]
  },
  {
   "cell_type": "code",
   "execution_count": 1037,
   "metadata": {},
   "outputs": [
    {
     "ename": "IndexError",
     "evalue": "single positional indexer is out-of-bounds",
     "output_type": "error",
     "traceback": [
      "\u001b[0;31m---------------------------------------------------------------------------\u001b[0m",
      "\u001b[0;31mIndexError\u001b[0m                                Traceback (most recent call last)",
      "\u001b[0;32m<ipython-input-1037-2fccc8d6bfb3>\u001b[0m in \u001b[0;36m<module>\u001b[0;34m\u001b[0m\n\u001b[0;32m----> 1\u001b[0;31m \u001b[0mtest_uuid\u001b[0m \u001b[0;34m=\u001b[0m \u001b[0mfilt_50000eps_df\u001b[0m\u001b[0;34m.\u001b[0m\u001b[0miloc\u001b[0m\u001b[0;34m[\u001b[0m\u001b[0;36m0\u001b[0m\u001b[0;34m]\u001b[0m\u001b[0;34m.\u001b[0m\u001b[0mname\u001b[0m\u001b[0;34m\u001b[0m\u001b[0;34m\u001b[0m\u001b[0m\n\u001b[0m\u001b[1;32m      2\u001b[0m \u001b[0mtest_uuid\u001b[0m\u001b[0;34m\u001b[0m\u001b[0;34m\u001b[0m\u001b[0m\n",
      "\u001b[0;32m/opt/conda/lib/python3.7/site-packages/pandas/core/indexing.py\u001b[0m in \u001b[0;36m__getitem__\u001b[0;34m(self, key)\u001b[0m\n\u001b[1;32m   1422\u001b[0m \u001b[0;34m\u001b[0m\u001b[0m\n\u001b[1;32m   1423\u001b[0m             \u001b[0mmaybe_callable\u001b[0m \u001b[0;34m=\u001b[0m \u001b[0mcom\u001b[0m\u001b[0;34m.\u001b[0m\u001b[0mapply_if_callable\u001b[0m\u001b[0;34m(\u001b[0m\u001b[0mkey\u001b[0m\u001b[0;34m,\u001b[0m \u001b[0mself\u001b[0m\u001b[0;34m.\u001b[0m\u001b[0mobj\u001b[0m\u001b[0;34m)\u001b[0m\u001b[0;34m\u001b[0m\u001b[0;34m\u001b[0m\u001b[0m\n\u001b[0;32m-> 1424\u001b[0;31m             \u001b[0;32mreturn\u001b[0m \u001b[0mself\u001b[0m\u001b[0;34m.\u001b[0m\u001b[0m_getitem_axis\u001b[0m\u001b[0;34m(\u001b[0m\u001b[0mmaybe_callable\u001b[0m\u001b[0;34m,\u001b[0m \u001b[0maxis\u001b[0m\u001b[0;34m=\u001b[0m\u001b[0maxis\u001b[0m\u001b[0;34m)\u001b[0m\u001b[0;34m\u001b[0m\u001b[0;34m\u001b[0m\u001b[0m\n\u001b[0m\u001b[1;32m   1425\u001b[0m \u001b[0;34m\u001b[0m\u001b[0m\n\u001b[1;32m   1426\u001b[0m     \u001b[0;32mdef\u001b[0m \u001b[0m_is_scalar_access\u001b[0m\u001b[0;34m(\u001b[0m\u001b[0mself\u001b[0m\u001b[0;34m,\u001b[0m \u001b[0mkey\u001b[0m\u001b[0;34m:\u001b[0m \u001b[0mTuple\u001b[0m\u001b[0;34m)\u001b[0m\u001b[0;34m:\u001b[0m\u001b[0;34m\u001b[0m\u001b[0;34m\u001b[0m\u001b[0m\n",
      "\u001b[0;32m/opt/conda/lib/python3.7/site-packages/pandas/core/indexing.py\u001b[0m in \u001b[0;36m_getitem_axis\u001b[0;34m(self, key, axis)\u001b[0m\n\u001b[1;32m   2155\u001b[0m \u001b[0;34m\u001b[0m\u001b[0m\n\u001b[1;32m   2156\u001b[0m             \u001b[0;31m# validate the location\u001b[0m\u001b[0;34m\u001b[0m\u001b[0;34m\u001b[0m\u001b[0;34m\u001b[0m\u001b[0m\n\u001b[0;32m-> 2157\u001b[0;31m             \u001b[0mself\u001b[0m\u001b[0;34m.\u001b[0m\u001b[0m_validate_integer\u001b[0m\u001b[0;34m(\u001b[0m\u001b[0mkey\u001b[0m\u001b[0;34m,\u001b[0m \u001b[0maxis\u001b[0m\u001b[0;34m)\u001b[0m\u001b[0;34m\u001b[0m\u001b[0;34m\u001b[0m\u001b[0m\n\u001b[0m\u001b[1;32m   2158\u001b[0m \u001b[0;34m\u001b[0m\u001b[0m\n\u001b[1;32m   2159\u001b[0m             \u001b[0;32mreturn\u001b[0m \u001b[0mself\u001b[0m\u001b[0;34m.\u001b[0m\u001b[0m_get_loc\u001b[0m\u001b[0;34m(\u001b[0m\u001b[0mkey\u001b[0m\u001b[0;34m,\u001b[0m \u001b[0maxis\u001b[0m\u001b[0;34m=\u001b[0m\u001b[0maxis\u001b[0m\u001b[0;34m)\u001b[0m\u001b[0;34m\u001b[0m\u001b[0;34m\u001b[0m\u001b[0m\n",
      "\u001b[0;32m/opt/conda/lib/python3.7/site-packages/pandas/core/indexing.py\u001b[0m in \u001b[0;36m_validate_integer\u001b[0;34m(self, key, axis)\u001b[0m\n\u001b[1;32m   2086\u001b[0m         \u001b[0mlen_axis\u001b[0m \u001b[0;34m=\u001b[0m \u001b[0mlen\u001b[0m\u001b[0;34m(\u001b[0m\u001b[0mself\u001b[0m\u001b[0;34m.\u001b[0m\u001b[0mobj\u001b[0m\u001b[0;34m.\u001b[0m\u001b[0m_get_axis\u001b[0m\u001b[0;34m(\u001b[0m\u001b[0maxis\u001b[0m\u001b[0;34m)\u001b[0m\u001b[0;34m)\u001b[0m\u001b[0;34m\u001b[0m\u001b[0;34m\u001b[0m\u001b[0m\n\u001b[1;32m   2087\u001b[0m         \u001b[0;32mif\u001b[0m \u001b[0mkey\u001b[0m \u001b[0;34m>=\u001b[0m \u001b[0mlen_axis\u001b[0m \u001b[0;32mor\u001b[0m \u001b[0mkey\u001b[0m \u001b[0;34m<\u001b[0m \u001b[0;34m-\u001b[0m\u001b[0mlen_axis\u001b[0m\u001b[0;34m:\u001b[0m\u001b[0;34m\u001b[0m\u001b[0;34m\u001b[0m\u001b[0m\n\u001b[0;32m-> 2088\u001b[0;31m             \u001b[0;32mraise\u001b[0m \u001b[0mIndexError\u001b[0m\u001b[0;34m(\u001b[0m\u001b[0;34m\"single positional indexer is out-of-bounds\"\u001b[0m\u001b[0;34m)\u001b[0m\u001b[0;34m\u001b[0m\u001b[0;34m\u001b[0m\u001b[0m\n\u001b[0m\u001b[1;32m   2089\u001b[0m \u001b[0;34m\u001b[0m\u001b[0m\n\u001b[1;32m   2090\u001b[0m     \u001b[0;32mdef\u001b[0m \u001b[0m_getitem_tuple\u001b[0m\u001b[0;34m(\u001b[0m\u001b[0mself\u001b[0m\u001b[0;34m,\u001b[0m \u001b[0mtup\u001b[0m\u001b[0;34m)\u001b[0m\u001b[0;34m:\u001b[0m\u001b[0;34m\u001b[0m\u001b[0;34m\u001b[0m\u001b[0m\n",
      "\u001b[0;31mIndexError\u001b[0m: single positional indexer is out-of-bounds"
     ]
    }
   ],
   "source": [
    "test_uuid = filt_50000eps_df.iloc[0].name\n",
    "test_uuid"
   ]
  },
  {
   "cell_type": "code",
   "execution_count": 1038,
   "metadata": {},
   "outputs": [
    {
     "ename": "IndexError",
     "evalue": "single positional indexer is out-of-bounds",
     "output_type": "error",
     "traceback": [
      "\u001b[0;31m---------------------------------------------------------------------------\u001b[0m",
      "\u001b[0;31mIndexError\u001b[0m                                Traceback (most recent call last)",
      "\u001b[0;32m<ipython-input-1038-014832a90b7f>\u001b[0m in \u001b[0;36m<module>\u001b[0;34m\u001b[0m\n\u001b[1;32m      1\u001b[0m \u001b[0mdf\u001b[0m \u001b[0;34m=\u001b[0m \u001b[0mclean_df\u001b[0m\u001b[0;34m\u001b[0m\u001b[0;34m\u001b[0m\u001b[0m\n\u001b[0;32m----> 2\u001b[0;31m \u001b[0mt\u001b[0m \u001b[0;34m=\u001b[0m \u001b[0mdf\u001b[0m\u001b[0;34m[\u001b[0m\u001b[0mdf\u001b[0m\u001b[0;34m.\u001b[0m\u001b[0mtest_uuid\u001b[0m\u001b[0;34m==\u001b[0m\u001b[0mtest_uuid\u001b[0m\u001b[0;34m]\u001b[0m\u001b[0;34m.\u001b[0m\u001b[0miloc\u001b[0m\u001b[0;34m[\u001b[0m\u001b[0;36m0\u001b[0m\u001b[0;34m]\u001b[0m\u001b[0;34m\u001b[0m\u001b[0;34m\u001b[0m\u001b[0m\n\u001b[0m",
      "\u001b[0;32m/opt/conda/lib/python3.7/site-packages/pandas/core/indexing.py\u001b[0m in \u001b[0;36m__getitem__\u001b[0;34m(self, key)\u001b[0m\n\u001b[1;32m   1422\u001b[0m \u001b[0;34m\u001b[0m\u001b[0m\n\u001b[1;32m   1423\u001b[0m             \u001b[0mmaybe_callable\u001b[0m \u001b[0;34m=\u001b[0m \u001b[0mcom\u001b[0m\u001b[0;34m.\u001b[0m\u001b[0mapply_if_callable\u001b[0m\u001b[0;34m(\u001b[0m\u001b[0mkey\u001b[0m\u001b[0;34m,\u001b[0m \u001b[0mself\u001b[0m\u001b[0;34m.\u001b[0m\u001b[0mobj\u001b[0m\u001b[0;34m)\u001b[0m\u001b[0;34m\u001b[0m\u001b[0;34m\u001b[0m\u001b[0m\n\u001b[0;32m-> 1424\u001b[0;31m             \u001b[0;32mreturn\u001b[0m \u001b[0mself\u001b[0m\u001b[0;34m.\u001b[0m\u001b[0m_getitem_axis\u001b[0m\u001b[0;34m(\u001b[0m\u001b[0mmaybe_callable\u001b[0m\u001b[0;34m,\u001b[0m \u001b[0maxis\u001b[0m\u001b[0;34m=\u001b[0m\u001b[0maxis\u001b[0m\u001b[0;34m)\u001b[0m\u001b[0;34m\u001b[0m\u001b[0;34m\u001b[0m\u001b[0m\n\u001b[0m\u001b[1;32m   1425\u001b[0m \u001b[0;34m\u001b[0m\u001b[0m\n\u001b[1;32m   1426\u001b[0m     \u001b[0;32mdef\u001b[0m \u001b[0m_is_scalar_access\u001b[0m\u001b[0;34m(\u001b[0m\u001b[0mself\u001b[0m\u001b[0;34m,\u001b[0m \u001b[0mkey\u001b[0m\u001b[0;34m:\u001b[0m \u001b[0mTuple\u001b[0m\u001b[0;34m)\u001b[0m\u001b[0;34m:\u001b[0m\u001b[0;34m\u001b[0m\u001b[0;34m\u001b[0m\u001b[0m\n",
      "\u001b[0;32m/opt/conda/lib/python3.7/site-packages/pandas/core/indexing.py\u001b[0m in \u001b[0;36m_getitem_axis\u001b[0;34m(self, key, axis)\u001b[0m\n\u001b[1;32m   2155\u001b[0m \u001b[0;34m\u001b[0m\u001b[0m\n\u001b[1;32m   2156\u001b[0m             \u001b[0;31m# validate the location\u001b[0m\u001b[0;34m\u001b[0m\u001b[0;34m\u001b[0m\u001b[0;34m\u001b[0m\u001b[0m\n\u001b[0;32m-> 2157\u001b[0;31m             \u001b[0mself\u001b[0m\u001b[0;34m.\u001b[0m\u001b[0m_validate_integer\u001b[0m\u001b[0;34m(\u001b[0m\u001b[0mkey\u001b[0m\u001b[0;34m,\u001b[0m \u001b[0maxis\u001b[0m\u001b[0;34m)\u001b[0m\u001b[0;34m\u001b[0m\u001b[0;34m\u001b[0m\u001b[0m\n\u001b[0m\u001b[1;32m   2158\u001b[0m \u001b[0;34m\u001b[0m\u001b[0m\n\u001b[1;32m   2159\u001b[0m             \u001b[0;32mreturn\u001b[0m \u001b[0mself\u001b[0m\u001b[0;34m.\u001b[0m\u001b[0m_get_loc\u001b[0m\u001b[0;34m(\u001b[0m\u001b[0mkey\u001b[0m\u001b[0;34m,\u001b[0m \u001b[0maxis\u001b[0m\u001b[0;34m=\u001b[0m\u001b[0maxis\u001b[0m\u001b[0;34m)\u001b[0m\u001b[0;34m\u001b[0m\u001b[0;34m\u001b[0m\u001b[0m\n",
      "\u001b[0;32m/opt/conda/lib/python3.7/site-packages/pandas/core/indexing.py\u001b[0m in \u001b[0;36m_validate_integer\u001b[0;34m(self, key, axis)\u001b[0m\n\u001b[1;32m   2086\u001b[0m         \u001b[0mlen_axis\u001b[0m \u001b[0;34m=\u001b[0m \u001b[0mlen\u001b[0m\u001b[0;34m(\u001b[0m\u001b[0mself\u001b[0m\u001b[0;34m.\u001b[0m\u001b[0mobj\u001b[0m\u001b[0;34m.\u001b[0m\u001b[0m_get_axis\u001b[0m\u001b[0;34m(\u001b[0m\u001b[0maxis\u001b[0m\u001b[0;34m)\u001b[0m\u001b[0;34m)\u001b[0m\u001b[0;34m\u001b[0m\u001b[0;34m\u001b[0m\u001b[0m\n\u001b[1;32m   2087\u001b[0m         \u001b[0;32mif\u001b[0m \u001b[0mkey\u001b[0m \u001b[0;34m>=\u001b[0m \u001b[0mlen_axis\u001b[0m \u001b[0;32mor\u001b[0m \u001b[0mkey\u001b[0m \u001b[0;34m<\u001b[0m \u001b[0;34m-\u001b[0m\u001b[0mlen_axis\u001b[0m\u001b[0;34m:\u001b[0m\u001b[0;34m\u001b[0m\u001b[0;34m\u001b[0m\u001b[0m\n\u001b[0;32m-> 2088\u001b[0;31m             \u001b[0;32mraise\u001b[0m \u001b[0mIndexError\u001b[0m\u001b[0;34m(\u001b[0m\u001b[0;34m\"single positional indexer is out-of-bounds\"\u001b[0m\u001b[0;34m)\u001b[0m\u001b[0;34m\u001b[0m\u001b[0;34m\u001b[0m\u001b[0m\n\u001b[0m\u001b[1;32m   2089\u001b[0m \u001b[0;34m\u001b[0m\u001b[0m\n\u001b[1;32m   2090\u001b[0m     \u001b[0;32mdef\u001b[0m \u001b[0m_getitem_tuple\u001b[0m\u001b[0;34m(\u001b[0m\u001b[0mself\u001b[0m\u001b[0;34m,\u001b[0m \u001b[0mtup\u001b[0m\u001b[0;34m)\u001b[0m\u001b[0;34m:\u001b[0m\u001b[0;34m\u001b[0m\u001b[0;34m\u001b[0m\u001b[0m\n",
      "\u001b[0;31mIndexError\u001b[0m: single positional indexer is out-of-bounds"
     ]
    }
   ],
   "source": [
    "df = clean_df\n",
    "t = df[df.test_uuid==test_uuid].iloc[0]"
   ]
  },
  {
   "cell_type": "code",
   "execution_count": 1039,
   "metadata": {},
   "outputs": [],
   "source": [
    "# Cumulative Distribution Function\n",
    "pubcdf = t.aggregatedPublishLatencyQuantiles\n",
    "pubcdf.name = 'Publish Latency CDF'"
   ]
  },
  {
   "cell_type": "code",
   "execution_count": 1040,
   "metadata": {},
   "outputs": [],
   "source": [
    "# Probability Distribution Function (latency histogram)\n",
    "pubpdf = pd.Series(index=pubcdf.index, data=np.gradient(pubcdf, pubcdf.index.values), name='Publish Latency PDF')"
   ]
  },
  {
   "cell_type": "code",
   "execution_count": 1041,
   "metadata": {},
   "outputs": [
    {
     "data": {
      "image/png": "[encoded data removed]",
      "text/plain": [
       "<Figure size 432x288 with 3 Axes>"
      ]
     },
     "metadata": {
      "needs_background": "light"
     },
     "output_type": "display_data"
    }
   ],
   "source": [
    "fig0, ax0 = plt.subplots()\n",
    "ax1 = ax0.twinx()\n",
    "pubpdf.plot(ax=ax0, xlim=[1,100], ylim=[0,None], style='r', title='Publish Latency PDF and CDF')\n",
    "pubcdf.plot(ax=ax1, xlim=[1,100], secondary_y=True, logx=True, ylim=[0,1])\n",
    "# ax0.set_ylabel('PDF');\n",
    "# ax1.set_ylabel('CDF');\n",
    "ax0.set_xlabel('Publish Latency (ms)');\n",
    "tick_formatter = matplotlib.ticker.LogFormatter()\n",
    "ax0.xaxis.set_major_formatter(tick_formatter)\n",
    "ax0.grid('on', which='both', axis='both')\n",
    "plt.show()\n",
    "plt.close()"
   ]
  },
  {
   "cell_type": "code",
   "execution_count": 1042,
   "metadata": {},
   "outputs": [],
   "source": [
    "# Cumulative Distribution Function\n",
    "e2ecdf = t.aggregatedEndToEndLatencyQuantiles\n",
    "e2ecdf.name = 'E2E Latency CDF'\n",
    "# Probability Distribution Function (latency histogram)\n",
    "e2epdf = pd.Series(index=e2ecdf.index, data=np.gradient(e2ecdf, e2ecdf.index.values), name='E2E Latency PDF')"
   ]
  },
  {
   "cell_type": "code",
   "execution_count": 1043,
   "metadata": {},
   "outputs": [
    {
     "data": {
      "image/png": "[encoded data removed]",
      "text/plain": [
       "<Figure size 432x288 with 3 Axes>"
      ]
     },
     "metadata": {
      "needs_background": "light"
     },
     "output_type": "display_data"
    }
   ],
   "source": [
    "fig0, ax0 = plt.subplots()\n",
    "ax1 = ax0.twinx()\n",
    "e2epdf.plot(ax=ax0, xlim=[1,100], ylim=[0,None], style='r', title='E2E Latency PDF and CDF')\n",
    "e2ecdf.plot(ax=ax1, xlim=[1,100], secondary_y=True, logx=True, ylim=[0,1])\n",
    "# ax0.set_ylabel('PDF');\n",
    "# ax1.set_ylabel('CDF');\n",
    "ax0.set_xlabel('E2E Latency (ms)');\n",
    "tick_formatter = matplotlib.ticker.LogFormatter()\n",
    "ax0.xaxis.set_major_formatter(tick_formatter)\n",
    "ax0.grid('on', which='both', axis='both')\n",
    "plt.show()\n",
    "plt.close()"
   ]
  },
  {
   "cell_type": "code",
   "execution_count": 1044,
   "metadata": {},
   "outputs": [
    {
     "data": {
      "image/png": "[encoded data removed]",
      "text/plain": [
       "<Figure size 720x576 with 1 Axes>"
      ]
     },
     "metadata": {
      "needs_background": "light"
     },
     "output_type": "display_data"
    }
   ],
   "source": [
    "# Combined publish and E2E latency CDF\n",
    "fig0, ax0 = plt.subplots()\n",
    "xlim=[1,25]\n",
    "pubcdf.plot(ax=ax0, xlim=xlim, logx=True, ylim=[0,1], legend=True, figsize=(10,8))\n",
    "e2ecdf.plot(ax=ax0, xlim=xlim, logx=True, ylim=[0,1], legend=True)\n",
    "ax0.set_xlabel('E2E Latency (ms)');\n",
    "tick_formatter = matplotlib.ticker.LogFormatter()\n",
    "ax0.xaxis.set_major_formatter(tick_formatter)\n",
    "ax0.grid('on', which='both', axis='both')\n",
    "plt.show()\n",
    "plt.close()"
   ]
  },
  {
   "cell_type": "markdown",
   "metadata": {},
   "source": [
    "## Compare Two Sets"
   ]
  },
  {
   "cell_type": "code",
   "execution_count": 1053,
   "metadata": {},
   "outputs": [
    {
     "data": {
      "text/plain": [
       "'no-netty-low-cpu'"
      ]
     },
     "execution_count": 1053,
     "metadata": {},
     "output_type": "execute_result"
    }
   ],
   "source": [
    "# Common filter\n",
    "filt_df = filter_dataframe(\n",
    "    clean_df,\n",
    "    driverName='Pravega',\n",
    "    #numWorkloadWorkers=4, \n",
    "    topics=1,\n",
    "    testDurationMinutes=2,\n",
    "    #size_of_test_batch=(2,1000), # between\n",
    "    #aggregatedEndToEndLatency50pct=(1,1e6),\n",
    "    messageSize=10240,\n",
    "    #producersPerTopic=1,\n",
    "    partitionsPerTopic=16,    \n",
    ")\n",
    "len(filt_df)\n",
    "filt_df.iloc[0].pravegaVersion"
   ]
  },
  {
   "cell_type": "code",
   "execution_count": 1054,
   "metadata": {},
   "outputs": [
    {
     "data": {
      "text/plain": [
       "ansible                                                                True\n",
       "ansible_vars              {'bookkeeperVersion': '4.9.2', 'pravegaContain...\n",
       "aws-ec2                                                                True\n",
       "build                                                                 False\n",
       "command_timed_out                                                     False\n",
       "                                                ...                        \n",
       "publishLatencyMs50Pct                                                 3.874\n",
       "publishLatencyMs99Pct                                               196.585\n",
       "endToEndLatencyMsAvg                                                25.8253\n",
       "endToEndLatencyMs50Pct                                                    9\n",
       "endToEndLatencyMs99Pct                                                  240\n",
       "Name: 1topic_16partitions_10Kb_10000eps, Length: 112, dtype: object"
      ]
     },
     "execution_count": 1054,
     "metadata": {},
     "output_type": "execute_result"
    }
   ],
   "source": [
    "# Set 1\n",
    "filt1_df = filter_dataframe(\n",
    "    filt_df,\n",
    "    pravegaVersion='no-netty',\n",
    ")\n",
    "len(filt1_df)\n",
    "filt1_df.iloc[0]"
   ]
  },
  {
   "cell_type": "code",
   "execution_count": 1055,
   "metadata": {},
   "outputs": [
    {
     "data": {
      "text/plain": [
       "ansible                                                                True\n",
       "ansible_vars              {'bookkeeperVersion': '4.9.2', 'pravegaContain...\n",
       "aws-ec2                                                                True\n",
       "build                                                                 False\n",
       "command_timed_out                                                     False\n",
       "                                                ...                        \n",
       "publishLatencyMs50Pct                                                 3.815\n",
       "publishLatencyMs99Pct                                               171.521\n",
       "endToEndLatencyMsAvg                                                 23.882\n",
       "endToEndLatencyMs50Pct                                                    9\n",
       "endToEndLatencyMs99Pct                                                  211\n",
       "Name: 1topic_16partitions_10Kb_10000eps, Length: 112, dtype: object"
      ]
     },
     "execution_count": 1055,
     "metadata": {},
     "output_type": "execute_result"
    }
   ],
   "source": [
    "# Set 2\n",
    "filt2_df = filter_dataframe(\n",
    "    filt_df,\n",
    "    pravegaVersion='no-netty-low-cpu',\n",
    ")\n",
    "len(filt2_df)\n",
    "filt2_df.iloc[0]"
   ]
  },
  {
   "cell_type": "code",
   "execution_count": 1056,
   "metadata": {},
   "outputs": [
    {
     "data": {
      "text/html": [
       "<div>\n",
       "<style scoped>\n",
       "    .dataframe tbody tr th:only-of-type {\n",
       "        vertical-align: middle;\n",
       "    }\n",
       "\n",
       "    .dataframe tbody tr th {\n",
       "        vertical-align: top;\n",
       "    }\n",
       "\n",
       "    .dataframe thead th {\n",
       "        text-align: right;\n",
       "    }\n",
       "</style>\n",
       "<table border=\"1\" class=\"dataframe\">\n",
       "  <thead>\n",
       "    <tr style=\"text-align: right;\">\n",
       "      <th></th>\n",
       "      <th>pravegaVersion</th>\n",
       "    </tr>\n",
       "    <tr>\n",
       "      <th>test_uuid</th>\n",
       "      <th></th>\n",
       "    </tr>\n",
       "  </thead>\n",
       "  <tbody>\n",
       "    <tr>\n",
       "      <td>1topic_16partitions_10Kb_10000eps</td>\n",
       "      <td>no-netty</td>\n",
       "    </tr>\n",
       "    <tr>\n",
       "      <td>1topic_16partitions_10Kb_10000eps</td>\n",
       "      <td>no-netty-low-cpu</td>\n",
       "    </tr>\n",
       "  </tbody>\n",
       "</table>\n",
       "</div>"
      ],
      "text/plain": [
       "                                     pravegaVersion\n",
       "test_uuid                                          \n",
       "1topic_16partitions_10Kb_10000eps          no-netty\n",
       "1topic_16partitions_10Kb_10000eps  no-netty-low-cpu"
      ]
     },
     "execution_count": 1056,
     "metadata": {},
     "output_type": "execute_result"
    }
   ],
   "source": [
    "dfs = [filt1_df, filt2_df]\n",
    "take_varying_columns(pd.concat(dfs)[param_cols]).drop_duplicates()"
   ]
  },
  {
   "cell_type": "code",
   "execution_count": 1057,
   "metadata": {},
   "outputs": [],
   "source": [
    "def plot_latency_vs_throughput_comparison(dfs, legend_cols=None, latencyMetric='Publish'):\n",
    "    fig0, ax0 = plt.subplots()\n",
    "    cmap = plt.get_cmap('Set1')\n",
    "    colors = cmap.colors[0:len(dfs)]\n",
    "    \n",
    "    messageSize = filt1_df.messageSize.iloc[0]\n",
    "    partitionsPerTopic = filt1_df.partitionsPerTopic.iloc[0]\n",
    "    pravegaVersion1 =  filt1_df.pravegaVersion.iloc[0]\n",
    "    pravegaVersion2 =  filt2_df.pravegaVersion.iloc[0]\n",
    "    title = 'Comparison %s vs %s %db %dp 2min on Dirt (no p3)' % (pravegaVersion1, pravegaVersion2, messageSize, partitionsPerTopic)    \n",
    "    #title = 'Comparison *master vs lower_cpu*: 100b 1p 2min on Dirt (no p3)'\n",
    "    \n",
    "    for index, (df, color) in enumerate(zip(dfs, colors)):\n",
    "        df = df.set_index(['publishRateMBPerSecMean']).sort_index()\n",
    "        name_cols = df.iloc[0][legend_cols]\n",
    "        name = ','.join(['%s=%s' % item for item in name_cols.to_dict().items()])\n",
    "        for percentile, style in [('50',':x'), ('95','-.x'), ('99','-x')]:\n",
    "            plot_df = df[['aggregated%sLatency%spct' % (latencyMetric, percentile)]]\n",
    "            plot_df.columns = ['%s %s Latency p%s' % (name, latencyMetric, percentile)]\n",
    "            plot_df.index.name = 'Publish Throughput (MB/s)'\n",
    "            plot_df.plot(\n",
    "                ax=ax0,\n",
    "                logx=True, \n",
    "                logy=True,\n",
    "                figsize=(10,8),\n",
    "                grid=True,\n",
    "                style=style,\n",
    "                title=title,\n",
    "                color=color,\n",
    "            )\n",
    "    ax0.set_ylabel('Latency (ms)');\n",
    "    tick_formatter = matplotlib.ticker.LogFormatter()\n",
    "    ax0.xaxis.set_major_formatter(tick_formatter)\n",
    "    ax0.yaxis.set_major_formatter(tick_formatter)\n",
    "    ax0.grid('on', which='both', axis='both')"
   ]
  },
  {
   "cell_type": "code",
   "execution_count": 1058,
   "metadata": {},
   "outputs": [
    {
     "data": {
      "image/png": "[encoded data removed]",
      "text/plain": [
       "<Figure size 720x576 with 1 Axes>"
      ]
     },
     "metadata": {
      "needs_background": "light"
     },
     "output_type": "display_data"
    }
   ],
   "source": [
    "plot_latency_vs_throughput_comparison([filt1_df, filt2_df], legend_cols=['pravegaVersion'], latencyMetric='Publish')"
   ]
  },
  {
   "cell_type": "code",
   "execution_count": 1059,
   "metadata": {},
   "outputs": [
    {
     "data": {
      "image/png": "[encoded data removed]",
      "text/plain": [
       "<Figure size 720x576 with 1 Axes>"
      ]
     },
     "metadata": {
      "needs_background": "light"
     },
     "output_type": "display_data"
    }
   ],
   "source": [
    "plot_latency_vs_throughput_comparison([filt1_df, filt2_df], legend_cols=['pravegaVersion'], latencyMetric='EndToEnd')"
   ]
  },
  {
   "cell_type": "code",
   "execution_count": null,
   "metadata": {},
   "outputs": [],
   "source": []
  },
  {
   "cell_type": "code",
   "execution_count": null,
   "metadata": {},
   "outputs": [],
   "source": []
  },
  {
   "cell_type": "code",
   "execution_count": null,
   "metadata": {},
   "outputs": [],
   "source": []
  },
  {
   "cell_type": "code",
   "execution_count": null,
   "metadata": {},
   "outputs": [],
   "source": []
  },
  {
   "cell_type": "code",
   "execution_count": null,
   "metadata": {},
   "outputs": [],
   "source": []
  },
  {
   "cell_type": "code",
   "execution_count": null,
   "metadata": {},
   "outputs": [],
   "source": []
  }
 ],
 "metadata": {
  "kernelspec": {
   "display_name": "Python 3",
   "language": "python",
   "name": "python3"
  },
  "language_info": {
   "codemirror_mode": {
    "name": "ipython",
    "version": 3
   },
   "file_extension": ".py",
   "mimetype": "text/x-python",
   "name": "python",
   "nbconvert_exporter": "python",
   "pygments_lexer": "ipython3",
   "version": "3.7.3"
  }
 },
 "nbformat": 4,
 "nbformat_minor": 4
}
